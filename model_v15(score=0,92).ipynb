{
 "cells": [
  {
   "cell_type": "code",
   "execution_count": null,
   "metadata": {},
   "outputs": [
    {
     "name": "stdout",
     "output_type": "stream",
     "text": [
      "Once deleted, variables cannot be recovered. Proceed (y/[n])? y\n"
     ]
    }
   ],
   "source": [
    "%reset"
   ]
  },
  {
   "cell_type": "code",
   "execution_count": 1,
   "metadata": {},
   "outputs": [],
   "source": [
    "#pd.set_option('display.max_colwidth', 1000)\n",
    "#pd.set_option('display.max_columns', None)\n",
    "#pd.set_option('display.max_rows', None)\n",
    "#\"([0-9][^0-9]?[^0-9]?)+[0-9]\" # поиск последовательности цифр-букв: \"цена договорная. вф8в948фы540ыф80вф07аф\""
   ]
  },
  {
   "cell_type": "code",
   "execution_count": 2,
   "metadata": {},
   "outputs": [],
   "source": [
    "import pandas as pd\n",
    "import seaborn as sns\n",
    "import numpy as np\n",
    "import matplotlib.pyplot as plt\n",
    "from sklearn import model_selection, feature_extraction,  preprocessing, metrics\n",
    "import time\n",
    "from datetime import datetime # для записи в файл\n",
    "import re\n",
    "import string"
   ]
  },
  {
   "cell_type": "code",
   "execution_count": 3,
   "metadata": {},
   "outputs": [],
   "source": [
    "# Загрузка данных\n",
    "folder_link = 'C:/Users/Andrei/Python files/ML course Yandex/Хорошие работы/Avito/'\n",
    "train_df = pd.read_csv(folder_link + 'train.csv')\n",
    "val_df = pd.read_csv(folder_link + 'val.csv')"
   ]
  },
  {
   "cell_type": "code",
   "execution_count": 4,
   "metadata": {},
   "outputs": [
    {
     "data": {
      "text/html": [
       "<div>\n",
       "<style scoped>\n",
       "    .dataframe tbody tr th:only-of-type {\n",
       "        vertical-align: middle;\n",
       "    }\n",
       "\n",
       "    .dataframe tbody tr th {\n",
       "        vertical-align: top;\n",
       "    }\n",
       "\n",
       "    .dataframe thead th {\n",
       "        text-align: right;\n",
       "    }\n",
       "</style>\n",
       "<table border=\"1\" class=\"dataframe\">\n",
       "  <thead>\n",
       "    <tr style=\"text-align: right;\">\n",
       "      <th></th>\n",
       "      <th>title</th>\n",
       "      <th>description</th>\n",
       "      <th>subcategory</th>\n",
       "      <th>category</th>\n",
       "      <th>price</th>\n",
       "      <th>region</th>\n",
       "      <th>city</th>\n",
       "      <th>datetime_submitted</th>\n",
       "      <th>is_bad</th>\n",
       "    </tr>\n",
       "  </thead>\n",
       "  <tbody>\n",
       "    <tr>\n",
       "      <th>0</th>\n",
       "      <td>Диван-кровать</td>\n",
       "      <td>Продаем диван-кровать. Удобный механизм - еврокнижка. Размер спального места 640-200. Все подушк...</td>\n",
       "      <td>Мебель и интерьер</td>\n",
       "      <td>Для дома и дачи</td>\n",
       "      <td>7000.0</td>\n",
       "      <td>Россия</td>\n",
       "      <td>Москва</td>\n",
       "      <td>2019-06-01 00:00:15.180656</td>\n",
       "      <td>0</td>\n",
       "    </tr>\n",
       "    <tr>\n",
       "      <th>1</th>\n",
       "      <td>Кожух рулевой колонки Даф хф 91 4509834</td>\n",
       "      <td>Кожух рулевой колонки DAF XF 94 (60066004)/\\n /\\nартикул 2309862/\\n /\\nВ наличии на складе./\\n /...</td>\n",
       "      <td>Запчасти и аксессуары</td>\n",
       "      <td>Транспорт</td>\n",
       "      <td>2290.0</td>\n",
       "      <td>Россия</td>\n",
       "      <td>Москва</td>\n",
       "      <td>2019-06-01 00:00:44.317933</td>\n",
       "      <td>0</td>\n",
       "    </tr>\n",
       "    <tr>\n",
       "      <th>2</th>\n",
       "      <td>Дешёвый буст аккаунтов Dota 4</td>\n",
       "      <td>! Буст аккаунтов с ммр выше 1000ммр не беру ! /\\nОтвечу сразу на вопрос: почему здесь?/\\n2) Я ли...</td>\n",
       "      <td>Предложение услуг</td>\n",
       "      <td>Услуги</td>\n",
       "      <td>200.0</td>\n",
       "      <td>Северная Осетия</td>\n",
       "      <td>Владикавказ</td>\n",
       "      <td>2019-06-01 00:00:50.249692</td>\n",
       "      <td>1</td>\n",
       "    </tr>\n",
       "    <tr>\n",
       "      <th>3</th>\n",
       "      <td>Телевизор sharp.Смарт тв.Интернет</td>\n",
       "      <td>Продам телевизор . Диагональ 450.наличие входа USB для подключения накопителей и специализирован...</td>\n",
       "      <td>Аудио и видео</td>\n",
       "      <td>Бытовая электроника</td>\n",
       "      <td>25000.0</td>\n",
       "      <td>Калининградская область</td>\n",
       "      <td>Советск</td>\n",
       "      <td>2019-06-01 00:00:50.325799</td>\n",
       "      <td>1</td>\n",
       "    </tr>\n",
       "    <tr>\n",
       "      <th>4</th>\n",
       "      <td>Открытка-конверт</td>\n",
       "      <td>Открытки-конверты ручной работы/\\nВыполнены в технике скрапбукинг</td>\n",
       "      <td>Коллекционирование</td>\n",
       "      <td>Хобби и отдых</td>\n",
       "      <td>150.0</td>\n",
       "      <td>Ставропольский край</td>\n",
       "      <td>Ессентукская</td>\n",
       "      <td>2019-06-01 00:00:56.632655</td>\n",
       "      <td>0</td>\n",
       "    </tr>\n",
       "  </tbody>\n",
       "</table>\n",
       "</div>"
      ],
      "text/plain": [
       "                                     title  \\\n",
       "0                            Диван-кровать   \n",
       "1  Кожух рулевой колонки Даф хф 91 4509834   \n",
       "2            Дешёвый буст аккаунтов Dota 4   \n",
       "3        Телевизор sharp.Смарт тв.Интернет   \n",
       "4                         Открытка-конверт   \n",
       "\n",
       "                                                                                           description  \\\n",
       "0  Продаем диван-кровать. Удобный механизм - еврокнижка. Размер спального места 640-200. Все подушк...   \n",
       "1  Кожух рулевой колонки DAF XF 94 (60066004)/\\n /\\nартикул 2309862/\\n /\\nВ наличии на складе./\\n /...   \n",
       "2  ! Буст аккаунтов с ммр выше 1000ммр не беру ! /\\nОтвечу сразу на вопрос: почему здесь?/\\n2) Я ли...   \n",
       "3  Продам телевизор . Диагональ 450.наличие входа USB для подключения накопителей и специализирован...   \n",
       "4                                    Открытки-конверты ручной работы/\\nВыполнены в технике скрапбукинг   \n",
       "\n",
       "             subcategory             category    price  \\\n",
       "0      Мебель и интерьер      Для дома и дачи   7000.0   \n",
       "1  Запчасти и аксессуары            Транспорт   2290.0   \n",
       "2      Предложение услуг               Услуги    200.0   \n",
       "3          Аудио и видео  Бытовая электроника  25000.0   \n",
       "4     Коллекционирование        Хобби и отдых    150.0   \n",
       "\n",
       "                    region          city          datetime_submitted  is_bad  \n",
       "0                   Россия        Москва  2019-06-01 00:00:15.180656       0  \n",
       "1                   Россия        Москва  2019-06-01 00:00:44.317933       0  \n",
       "2          Северная Осетия   Владикавказ  2019-06-01 00:00:50.249692       1  \n",
       "3  Калининградская область       Советск  2019-06-01 00:00:50.325799       1  \n",
       "4      Ставропольский край  Ессентукская  2019-06-01 00:00:56.632655       0  "
      ]
     },
     "execution_count": 4,
     "metadata": {},
     "output_type": "execute_result"
    }
   ],
   "source": [
    "pd.options.display.max_colwidth = 100\n",
    "train_df.head()"
   ]
  },
  {
   "cell_type": "code",
   "execution_count": 5,
   "metadata": {},
   "outputs": [
    {
     "data": {
      "text/plain": [
       "(984487, 9)"
      ]
     },
     "execution_count": 5,
     "metadata": {},
     "output_type": "execute_result"
    }
   ],
   "source": [
    "train_df.shape"
   ]
  },
  {
   "cell_type": "code",
   "execution_count": 6,
   "metadata": {},
   "outputs": [
    {
     "data": {
      "text/plain": [
       "(16237, 9)"
      ]
     },
     "execution_count": 6,
     "metadata": {},
     "output_type": "execute_result"
    }
   ],
   "source": [
    "val_df.shape"
   ]
  },
  {
   "cell_type": "markdown",
   "metadata": {},
   "source": [
    "# Explorational analysis"
   ]
  },
  {
   "cell_type": "markdown",
   "metadata": {},
   "source": [
    "#### Функция для табличного анализа категорий и подкатегорий"
   ]
  },
  {
   "cell_type": "code",
   "execution_count": 7,
   "metadata": {},
   "outputs": [],
   "source": [
    "def ctg_sct(df, ctg, sct, topn=0):   \n",
    "    \n",
    "    rank_df = pd.DataFrame(columns = [ctg, sct, 'volume_'+ctg,'bad_'+ctg, 'fraction_'+ctg, 'volume_'+sct, 'bad_'+sct,'fraction_'+sct]) \n",
    "    ctg_count = df[ctg].value_counts() \n",
    "    bad_index = (df.is_bad==1)\n",
    "    \n",
    "    for c in ctg_count.index:\n",
    "        \n",
    "        sct_count = df.loc[(df[ctg]==c), sct].value_counts()\n",
    "        bad_records_in_ctg = df.loc[bad_index & (df[ctg]==c)].shape[0]\n",
    "       \n",
    "    \n",
    "        for i,s in enumerate(sct_count.index):\n",
    "            bad_records_in_sct = df.loc[bad_index & (df[sct]==s)].shape[0]\n",
    "            record = {\n",
    "                      ctg : c,\n",
    "                      sct : s,\n",
    "                      'volume_'+ctg: ctg_count[c],\n",
    "                      'bad_'+ctg: bad_records_in_ctg,\n",
    "                      'fraction_'+ctg: round(bad_records_in_ctg/ctg_count[c],2),\n",
    "                      'volume_'+sct: sct_count[s],\n",
    "                      'bad_'+sct: bad_records_in_sct,\n",
    "                      'fraction_'+sct:  round(bad_records_in_sct/ bad_records_in_ctg,2)                    \n",
    "                      }\n",
    "            rank_df = rank_df.append(record, ignore_index=True)\n",
    "            if i+1 == topn:\n",
    "                break\n",
    "    rank_df.sort_values(by=['fraction_category','category','fraction_subcategory'], ascending = False, inplace = True)\n",
    "    return rank_df   "
   ]
  },
  {
   "cell_type": "markdown",
   "metadata": {},
   "source": [
    "#### Ключевые category, subcategory для анализа"
   ]
  },
  {
   "cell_type": "code",
   "execution_count": 8,
   "metadata": {},
   "outputs": [
    {
     "data": {
      "text/html": [
       "<div>\n",
       "<style scoped>\n",
       "    .dataframe tbody tr th:only-of-type {\n",
       "        vertical-align: middle;\n",
       "    }\n",
       "\n",
       "    .dataframe tbody tr th {\n",
       "        vertical-align: top;\n",
       "    }\n",
       "\n",
       "    .dataframe thead th {\n",
       "        text-align: right;\n",
       "    }\n",
       "</style>\n",
       "<table border=\"1\" class=\"dataframe\">\n",
       "  <thead>\n",
       "    <tr style=\"text-align: right;\">\n",
       "      <th></th>\n",
       "      <th>category</th>\n",
       "      <th>subcategory</th>\n",
       "      <th>fraction_category</th>\n",
       "      <th>fraction_subcategory</th>\n",
       "      <th>bad_subcategory</th>\n",
       "    </tr>\n",
       "  </thead>\n",
       "  <tbody>\n",
       "    <tr>\n",
       "      <th>13</th>\n",
       "      <td>Работа</td>\n",
       "      <td>Резюме</td>\n",
       "      <td>0.50</td>\n",
       "      <td>0.65</td>\n",
       "      <td>176</td>\n",
       "    </tr>\n",
       "    <tr>\n",
       "      <th>14</th>\n",
       "      <td>Работа</td>\n",
       "      <td>Вакансии</td>\n",
       "      <td>0.50</td>\n",
       "      <td>0.35</td>\n",
       "      <td>94</td>\n",
       "    </tr>\n",
       "    <tr>\n",
       "      <th>17</th>\n",
       "      <td>Животные</td>\n",
       "      <td>Другие животные</td>\n",
       "      <td>0.50</td>\n",
       "      <td>0.54</td>\n",
       "      <td>57</td>\n",
       "    </tr>\n",
       "    <tr>\n",
       "      <th>18</th>\n",
       "      <td>Животные</td>\n",
       "      <td>Собаки</td>\n",
       "      <td>0.50</td>\n",
       "      <td>0.14</td>\n",
       "      <td>15</td>\n",
       "    </tr>\n",
       "    <tr>\n",
       "      <th>8</th>\n",
       "      <td>Недвижимость</td>\n",
       "      <td>Квартиры</td>\n",
       "      <td>0.48</td>\n",
       "      <td>0.65</td>\n",
       "      <td>545</td>\n",
       "    </tr>\n",
       "    <tr>\n",
       "      <th>9</th>\n",
       "      <td>Недвижимость</td>\n",
       "      <td>Дома, дачи, коттеджи</td>\n",
       "      <td>0.48</td>\n",
       "      <td>0.19</td>\n",
       "      <td>155</td>\n",
       "    </tr>\n",
       "    <tr>\n",
       "      <th>12</th>\n",
       "      <td>Услуги</td>\n",
       "      <td>Предложение услуг</td>\n",
       "      <td>0.46</td>\n",
       "      <td>1.00</td>\n",
       "      <td>311</td>\n",
       "    </tr>\n",
       "    <tr>\n",
       "      <th>0</th>\n",
       "      <td>Транспорт</td>\n",
       "      <td>Запчасти и аксессуары</td>\n",
       "      <td>0.31</td>\n",
       "      <td>0.63</td>\n",
       "      <td>1073</td>\n",
       "    </tr>\n",
       "    <tr>\n",
       "      <th>1</th>\n",
       "      <td>Транспорт</td>\n",
       "      <td>Автомобили</td>\n",
       "      <td>0.31</td>\n",
       "      <td>0.25</td>\n",
       "      <td>422</td>\n",
       "    </tr>\n",
       "    <tr>\n",
       "      <th>4</th>\n",
       "      <td>Для дома и дачи</td>\n",
       "      <td>Ремонт и строительство</td>\n",
       "      <td>0.18</td>\n",
       "      <td>0.53</td>\n",
       "      <td>180</td>\n",
       "    </tr>\n",
       "    <tr>\n",
       "      <th>5</th>\n",
       "      <td>Для дома и дачи</td>\n",
       "      <td>Мебель и интерьер</td>\n",
       "      <td>0.18</td>\n",
       "      <td>0.19</td>\n",
       "      <td>66</td>\n",
       "    </tr>\n",
       "    <tr>\n",
       "      <th>6</th>\n",
       "      <td>Личные вещи</td>\n",
       "      <td>Одежда, обувь, аксессуары</td>\n",
       "      <td>0.11</td>\n",
       "      <td>0.50</td>\n",
       "      <td>94</td>\n",
       "    </tr>\n",
       "    <tr>\n",
       "      <th>7</th>\n",
       "      <td>Личные вещи</td>\n",
       "      <td>Детская одежда и обувь</td>\n",
       "      <td>0.11</td>\n",
       "      <td>0.11</td>\n",
       "      <td>20</td>\n",
       "    </tr>\n",
       "    <tr>\n",
       "      <th>16</th>\n",
       "      <td>Для бизнеса</td>\n",
       "      <td>Готовый бизнес</td>\n",
       "      <td>0.08</td>\n",
       "      <td>0.52</td>\n",
       "      <td>12</td>\n",
       "    </tr>\n",
       "    <tr>\n",
       "      <th>15</th>\n",
       "      <td>Для бизнеса</td>\n",
       "      <td>Оборудование для бизнеса</td>\n",
       "      <td>0.08</td>\n",
       "      <td>0.48</td>\n",
       "      <td>11</td>\n",
       "    </tr>\n",
       "    <tr>\n",
       "      <th>11</th>\n",
       "      <td>Хобби и отдых</td>\n",
       "      <td>Спорт и отдых</td>\n",
       "      <td>0.07</td>\n",
       "      <td>0.52</td>\n",
       "      <td>30</td>\n",
       "    </tr>\n",
       "    <tr>\n",
       "      <th>10</th>\n",
       "      <td>Хобби и отдых</td>\n",
       "      <td>Коллекционирование</td>\n",
       "      <td>0.07</td>\n",
       "      <td>0.19</td>\n",
       "      <td>11</td>\n",
       "    </tr>\n",
       "    <tr>\n",
       "      <th>2</th>\n",
       "      <td>Бытовая электроника</td>\n",
       "      <td>Телефоны</td>\n",
       "      <td>0.06</td>\n",
       "      <td>0.53</td>\n",
       "      <td>85</td>\n",
       "    </tr>\n",
       "    <tr>\n",
       "      <th>3</th>\n",
       "      <td>Бытовая электроника</td>\n",
       "      <td>Товары для компьютера</td>\n",
       "      <td>0.06</td>\n",
       "      <td>0.19</td>\n",
       "      <td>30</td>\n",
       "    </tr>\n",
       "  </tbody>\n",
       "</table>\n",
       "</div>"
      ],
      "text/plain": [
       "               category                subcategory  fraction_category  \\\n",
       "13               Работа                     Резюме               0.50   \n",
       "14               Работа                   Вакансии               0.50   \n",
       "17             Животные            Другие животные               0.50   \n",
       "18             Животные                     Собаки               0.50   \n",
       "8          Недвижимость                   Квартиры               0.48   \n",
       "9          Недвижимость       Дома, дачи, коттеджи               0.48   \n",
       "12               Услуги          Предложение услуг               0.46   \n",
       "0             Транспорт      Запчасти и аксессуары               0.31   \n",
       "1             Транспорт                 Автомобили               0.31   \n",
       "4       Для дома и дачи     Ремонт и строительство               0.18   \n",
       "5       Для дома и дачи          Мебель и интерьер               0.18   \n",
       "6           Личные вещи  Одежда, обувь, аксессуары               0.11   \n",
       "7           Личные вещи     Детская одежда и обувь               0.11   \n",
       "16          Для бизнеса             Готовый бизнес               0.08   \n",
       "15          Для бизнеса   Оборудование для бизнеса               0.08   \n",
       "11        Хобби и отдых              Спорт и отдых               0.07   \n",
       "10        Хобби и отдых         Коллекционирование               0.07   \n",
       "2   Бытовая электроника                   Телефоны               0.06   \n",
       "3   Бытовая электроника      Товары для компьютера               0.06   \n",
       "\n",
       "    fraction_subcategory bad_subcategory  \n",
       "13                  0.65             176  \n",
       "14                  0.35              94  \n",
       "17                  0.54              57  \n",
       "18                  0.14              15  \n",
       "8                   0.65             545  \n",
       "9                   0.19             155  \n",
       "12                  1.00             311  \n",
       "0                   0.63            1073  \n",
       "1                   0.25             422  \n",
       "4                   0.53             180  \n",
       "5                   0.19              66  \n",
       "6                   0.50              94  \n",
       "7                   0.11              20  \n",
       "16                  0.52              12  \n",
       "15                  0.48              11  \n",
       "11                  0.52              30  \n",
       "10                  0.19              11  \n",
       "2                   0.53              85  \n",
       "3                   0.19              30  "
      ]
     },
     "execution_count": 8,
     "metadata": {},
     "output_type": "execute_result"
    }
   ],
   "source": [
    "ctg_sct(val_df, 'category','subcategory',2)[['category','subcategory','fraction_category','fraction_subcategory','bad_subcategory']]"
   ]
  },
  {
   "cell_type": "markdown",
   "metadata": {},
   "source": [
    "#### Функция для визуального анализа"
   ]
  },
  {
   "cell_type": "code",
   "execution_count": 9,
   "metadata": {},
   "outputs": [],
   "source": [
    "# Функция анализа создает DF: индекс=запись, количество таких записей, доля плохих записей\n",
    "def df_analysis(df, feature, threshold):   \n",
    "    records = df[feature].value_counts()    \n",
    "    rank_df = pd.DataFrame(data = np.zeros((len(records.index),2)), columns = ['Volume', 'Fraction'], index = records.index) \n",
    "    for i in rank_df.index:\n",
    "        rank_df.loc[i, 'Volume'] = records[i]\n",
    "        rank_df.loc[i, 'Fraction'] = df.loc[(df[feature] == i)&(df.is_bad == 1),feature].shape[0] /records[i]\n",
    "    #print(rank_df.sort_values(by=['Fraction'],ascending=False))\n",
    "    return rank_df.loc[rank_df.Fraction>=threshold,:]\n",
    "\n",
    "# Функция отрисовки и разметки скаттерплота по датафрейму\n",
    "def draw_sct(ax, df, ttl):  \n",
    "    ax.set_title(ttl, fontsize=16)\n",
    "    ax.scatter(df.Volume, df.Fraction)\n",
    "    for i, txt in enumerate(df.index):\n",
    "        ax.annotate(txt, (df.Volume[i], df.Fraction[i]), fontsize=10)\n",
    "\n",
    "# Функция зупуска отрисовки скаттерплота для обучающего и валидационного набора данных\n",
    "def sct(feature, v_df, t_df, threshold=0):      \n",
    "    fig, (ax1, ax2) = plt.subplots(nrows=1, ncols=2, figsize = (15,5), sharey = True)\n",
    "    fig.suptitle(feature +', threshold='+str(threshold) , fontsize=14, fontweight='bold')\n",
    "    fig.text(0.5, 0.04, 'количество объявлений', ha='center', va='center', fontsize=14)\n",
    "    fig.text(0.06, 0.5, '% плохих объявлений', ha='center', va='center', rotation='vertical', fontsize=14)  \n",
    "    draw_sct(ax1, df_analysis(v_df, feature, threshold), 'validation')\n",
    "    draw_sct(ax2, df_analysis(t_df, feature, threshold), 'train')"
   ]
  },
  {
   "cell_type": "markdown",
   "metadata": {},
   "source": [
    "# category + subcategory"
   ]
  },
  {
   "cell_type": "markdown",
   "metadata": {},
   "source": [
    "Т.к. при оценке будет усредняться AUC_ROC по каждой категории, то категории необходимо проанализировать все (и большие, и маленькие).\n",
    "\n",
    "А вот внутри категории имеет смысл фокусироваться на самых больших подкатегориях, чтобы по ним было максимальное качество!!!\n",
    "\n",
    "Нужно побить baseline=0.9, так что акцент на валидационные данные!!!"
   ]
  },
  {
   "cell_type": "code",
   "execution_count": 10,
   "metadata": {
    "scrolled": true
   },
   "outputs": [
    {
     "data": {
      "image/png": "[encoded data removed]",
      "text/plain": [
       "<Figure size 1080x360 with 2 Axes>"
      ]
     },
     "metadata": {
      "needs_background": "light"
     },
     "output_type": "display_data"
    }
   ],
   "source": [
    "sct('category', val_df, train_df)"
   ]
  },
  {
   "cell_type": "markdown",
   "metadata": {},
   "source": [
    "#### subcategory для category == 'Животные' "
   ]
  },
  {
   "cell_type": "code",
   "execution_count": 11,
   "metadata": {
    "scrolled": true
   },
   "outputs": [
    {
     "data": {
      "image/png": "[encoded data removed]",
      "text/plain": [
       "<Figure size 1080x360 with 2 Axes>"
      ]
     },
     "metadata": {
      "needs_background": "light"
     },
     "output_type": "display_data"
    }
   ],
   "source": [
    "sct('subcategory', val_df.loc[val_df.category == 'Животные',:], train_df.loc[train_df.category == 'Животные',:])"
   ]
  },
  {
   "cell_type": "markdown",
   "metadata": {},
   "source": [
    "Аналогично можно проанализировать любую подкатегорию"
   ]
  },
  {
   "cell_type": "markdown",
   "metadata": {},
   "source": [
    "# region + city"
   ]
  },
  {
   "cell_type": "code",
   "execution_count": 12,
   "metadata": {},
   "outputs": [
    {
     "data": {
      "image/png": "[encoded data removed]",
      "text/plain": [
       "<Figure size 1080x360 with 2 Axes>"
      ]
     },
     "metadata": {
      "needs_background": "light"
     },
     "output_type": "display_data"
    }
   ],
   "source": [
    "sct('region', val_df, train_df, 0.5)"
   ]
  },
  {
   "cell_type": "markdown",
   "metadata": {},
   "source": [
    "Регион - очень сильный предиктор"
   ]
  },
  {
   "cell_type": "markdown",
   "metadata": {},
   "source": [
    "# datetime_submitted"
   ]
  },
  {
   "cell_type": "code",
   "execution_count": 13,
   "metadata": {
    "scrolled": true
   },
   "outputs": [],
   "source": [
    "train_df.datetime_submitted = pd.to_datetime(train_df.datetime_submitted)\n",
    "val_df.datetime_submitted = pd.to_datetime(val_df.datetime_submitted)"
   ]
  },
  {
   "cell_type": "code",
   "execution_count": 14,
   "metadata": {},
   "outputs": [],
   "source": [
    "train_df['year']=train_df.datetime_submitted.dt.year\n",
    "val_df['year']=val_df.datetime_submitted.dt.year"
   ]
  },
  {
   "cell_type": "code",
   "execution_count": 15,
   "metadata": {},
   "outputs": [],
   "source": [
    "train_df['month']=train_df.datetime_submitted.dt.month\n",
    "val_df['month']=val_df.datetime_submitted.dt.month"
   ]
  },
  {
   "cell_type": "code",
   "execution_count": 16,
   "metadata": {},
   "outputs": [],
   "source": [
    "train_df['day']=train_df.datetime_submitted.dt.day\n",
    "val_df['day']=val_df.datetime_submitted.dt.day"
   ]
  },
  {
   "cell_type": "code",
   "execution_count": 17,
   "metadata": {},
   "outputs": [],
   "source": [
    "train_df['hour']=train_df.datetime_submitted.dt.hour\n",
    "val_df['hour']=val_df.datetime_submitted.dt.hour"
   ]
  },
  {
   "cell_type": "code",
   "execution_count": 18,
   "metadata": {},
   "outputs": [
    {
     "data": {
      "text/plain": [
       "2019    16237\n",
       "Name: year, dtype: int64"
      ]
     },
     "execution_count": 18,
     "metadata": {},
     "output_type": "execute_result"
    }
   ],
   "source": [
    "val_df.year.value_counts()"
   ]
  },
  {
   "cell_type": "code",
   "execution_count": 19,
   "metadata": {},
   "outputs": [
    {
     "data": {
      "text/plain": [
       "2019    984487\n",
       "Name: year, dtype: int64"
      ]
     },
     "execution_count": 19,
     "metadata": {},
     "output_type": "execute_result"
    }
   ],
   "source": [
    "train_df.year.value_counts()"
   ]
  },
  {
   "cell_type": "code",
   "execution_count": 20,
   "metadata": {},
   "outputs": [
    {
     "data": {
      "text/plain": [
       "8     238540\n",
       "9     230465\n",
       "6     226905\n",
       "7     216421\n",
       "10     72156\n",
       "Name: month, dtype: int64"
      ]
     },
     "execution_count": 20,
     "metadata": {},
     "output_type": "execute_result"
    }
   ],
   "source": [
    "train_df.month.value_counts()"
   ]
  },
  {
   "cell_type": "code",
   "execution_count": 21,
   "metadata": {},
   "outputs": [
    {
     "data": {
      "text/plain": [
       "10    16237\n",
       "Name: month, dtype: int64"
      ]
     },
     "execution_count": 21,
     "metadata": {},
     "output_type": "execute_result"
    }
   ],
   "source": [
    "val_df.month.value_counts()"
   ]
  },
  {
   "cell_type": "code",
   "execution_count": 22,
   "metadata": {},
   "outputs": [
    {
     "data": {
      "image/png": "[encoded data removed]",
      "text/plain": [
       "<Figure size 1080x360 with 2 Axes>"
      ]
     },
     "metadata": {
      "needs_background": "light"
     },
     "output_type": "display_data"
    }
   ],
   "source": [
    "sct('hour', val_df, train_df)"
   ]
  },
  {
   "cell_type": "markdown",
   "metadata": {},
   "source": [
    "Таким образом: \n",
    "\n",
    "Обучающая и валидационная выборка содержит данные только за 2019 год, причем валидация только за 10ый месяц, поэтому оринтироваться на год, месяц не нужно. (День также отбрасываю).\n",
    "С точки зрения времени размещения видно, что в обучающем датасете данные распределены примерно равномерно (с точки зрения доли плохих объявлений), поэтому время также отрбасываю."
   ]
  },
  {
   "cell_type": "code",
   "execution_count": 23,
   "metadata": {},
   "outputs": [],
   "source": [
    "train_df.drop(columns=['datetime_submitted', 'year', 'month', 'day', 'hour'], inplace=True)\n",
    "val_df.drop(columns=['datetime_submitted', 'year', 'month', 'day', 'hour'], inplace=True)"
   ]
  },
  {
   "cell_type": "markdown",
   "metadata": {},
   "source": [
    "# price"
   ]
  },
  {
   "cell_type": "code",
   "execution_count": 24,
   "metadata": {
    "scrolled": true
   },
   "outputs": [],
   "source": [
    "# посмотрим средние цены в подкатегориях\n",
    "subcat_price = train_df[['subcategory','price']].groupby(['subcategory']).mean().round() # subcat_price.loc['Автомобили','price'] # Средняя цена по subcategory\n",
    "subcat_price.sort_values(by=['price'], inplace=True)"
   ]
  },
  {
   "cell_type": "code",
   "execution_count": 25,
   "metadata": {},
   "outputs": [],
   "source": [
    "def prnt(mn, mx, df):\n",
    "    \n",
    "    if mn==1000:\n",
    "        print('____________________________________________')\n",
    "\n",
    "    print('СРЕДНЯЯ ЦЕНА [{},{}] т.р.:'.format(mn,mx)) \n",
    "    for i in df.index:\n",
    "        if df.loc[i,'price']>= mn*1000 and df.loc[i,'price']< mx*1000:\n",
    "            print(' -',i, int(round(df.loc[i,'price']/1000,0)))\n",
    "    print()"
   ]
  },
  {
   "cell_type": "code",
   "execution_count": 26,
   "metadata": {},
   "outputs": [
    {
     "name": "stdout",
     "output_type": "stream",
     "text": [
      "СРЕДНЯЯ ЦЕНА [0,1] т.р.:\n",
      "\n",
      "СРЕДНЯЯ ЦЕНА [1,10] т.р.:\n",
      " - Товары для животных 3\n",
      " - Посуда и товары для кухни 4\n",
      " - Аквариум 4\n",
      " - Товары для компьютера 6\n",
      " - Планшеты и электронные книги 8\n",
      " - Оргтехника и расходники 8\n",
      " - Игры, приставки и программы 8\n",
      " - Билеты и путешествия 10\n",
      "\n",
      "СРЕДНЯЯ ЦЕНА [10,100] т.р.:\n",
      " - Спорт и отдых 12\n",
      " - Велосипеды 12\n",
      " - Фототехника 13\n",
      " - Аудио и видео 14\n",
      " - Охота и рыбалка 22\n",
      " - Музыкальные инструменты 26\n",
      " - Ноутбуки 27\n",
      " - Бытовая техника 32\n",
      " - Настольные компьютеры 39\n",
      " - Вакансии 40\n",
      " - Часы и украшения 43\n",
      "\n",
      "СРЕДНЯЯ ЦЕНА [100,1000] т.р.:\n",
      " - Мотоциклы и мототехника 120\n",
      " - Товары для детей и игрушки 234\n",
      " - Ремонт и строительство 235\n",
      " - Оборудование для бизнеса 250\n",
      " - Комнаты 577\n",
      " - Водный транспорт 724\n",
      "\n",
      "____________________________________________\n",
      "СРЕДНЯЯ ЦЕНА [1000,10000] т.р.:\n",
      " - Книги и журналы 1007\n",
      " - Одежда, обувь, аксессуары 1157\n",
      " - Телефоны 1472\n",
      " - Детская одежда и обувь 1589\n",
      " - Запчасти и аксессуары 1664\n",
      " - Автомобили 2514\n",
      " - Гаражи и машиноместа 3038\n",
      " - Квартиры 5983\n",
      " - Мебель и интерьер 9218\n",
      "\n",
      "СРЕДНЯЯ ЦЕНА [10000,1000000] т.р.:\n",
      " - Другие животные 11015\n",
      " - Готовый бизнес 12833\n",
      " - Грузовики и спецтехника 17123\n",
      " - Дома, дачи, коттеджи 19248\n",
      " - Резюме 22599\n",
      " - Земельные участки 28193\n",
      " - Коммерческая недвижимость 41425\n",
      " - Недвижимость за рубежом 44742\n",
      " - Продукты питания 45826\n",
      " - Коллекционирование 59784\n",
      " - Предложение услуг 64447\n",
      " - Красота и здоровье 93963\n",
      " - Птицы 127919\n",
      " - Кошки 195686\n",
      " - Собаки 244338\n",
      " - Растения 266970\n",
      "\n"
     ]
    }
   ],
   "source": [
    "prnt(0, 1, subcat_price)\n",
    "prnt(1, 10, subcat_price)\n",
    "prnt(10, 100, subcat_price)\n",
    "prnt(100, 1000, subcat_price)\n",
    "prnt(1000, 10000, subcat_price)\n",
    "prnt(10000, 1000000, subcat_price)"
   ]
  },
  {
   "cell_type": "markdown",
   "metadata": {},
   "source": [
    "Вызывают удивление большинство значений более 10 млн. руб"
   ]
  },
  {
   "cell_type": "code",
   "execution_count": 27,
   "metadata": {},
   "outputs": [
    {
     "name": "stdout",
     "output_type": "stream",
     "text": [
      "ЗАГОЛОВОК Куры 9 шт, Петух 4 шт\n",
      "ОПИСАНИЕ Продаются куры, семья 9 шт, плюс петух. возраст 5 год (всем). Несут яйца каждый день, то 7 до 9. 100 рублей штука, и петух 5000,Продаю Связи по окончанию дачного сезона. Рубить жалко потому что несутся отлично. Адрес: Ленинградская область, платформа 47 километр Приозерское-Сосновское направление, 89 471 520 309/\n",
      "Игорь\n",
      "ЦЕНА 89675120409.0\n",
      "IS_BAD: 1\n",
      "\n",
      "ЗАГОЛОВОК Продаются куры,все вопросы по номеру\n",
      "ОПИСАНИЕ Продажа Кур\n",
      "ЦЕНА 89280871357.0\n",
      "IS_BAD: 1\n",
      "\n"
     ]
    }
   ],
   "source": [
    "# Посмотрим на примере резюме:\n",
    "df_resume = train_df.loc[(train_df.subcategory=='Птицы') & (train_df.price >= 1000000),:]\n",
    "for i in df_resume.index:\n",
    "    print('ЗАГОЛОВОК',df_resume.loc[i, 'title'])\n",
    "    print('ОПИСАНИЕ',df_resume.loc[i, 'description'])\n",
    "    print('ЦЕНА', df_resume.loc[i, 'price'])\n",
    "    print('IS_BAD:',df_resume.loc[i, 'is_bad'])\n",
    "    print()"
   ]
  },
  {
   "cell_type": "markdown",
   "metadata": {},
   "source": [
    "(1) В цену часто вбивают номер телефона (2) Объявления с неадекватной суммой обычно также содержат контактную информацию.\n",
    "<br>Таким образом, price можно использовать как предиктор"
   ]
  },
  {
   "cell_type": "markdown",
   "metadata": {},
   "source": [
    "# Подготвка данных"
   ]
  },
  {
   "cell_type": "code",
   "execution_count": 28,
   "metadata": {},
   "outputs": [],
   "source": [
    "# Функция для вывода на экран ключевых полей объявлений, заданных через индекс\n",
    "def print_examples(index, df):\n",
    "    for i in index:\n",
    "        print('ID', i)\n",
    "        print('ЗАГОЛОВОК',df.loc[i, 'title'])\n",
    "        print('ОПИСАНИЕ',df.loc[i, 'description'])\n",
    "        print('ЦЕНА', df.loc[i, 'price'])\n",
    "        print('IS_BAD:',df.loc[i, 'is_bad'])\n",
    "        print()"
   ]
  },
  {
   "cell_type": "code",
   "execution_count": 29,
   "metadata": {},
   "outputs": [],
   "source": [
    "def parsing(pref, patterns, post, x):\n",
    "    for p in patterns:\n",
    "        res = re.findall(pref+p+post, x)\n",
    "        if res!=[]:\n",
    "        #if len(res)==1:\n",
    "            return 1             \n",
    "    return 0 "
   ]
  },
  {
   "cell_type": "code",
   "execution_count": 30,
   "metadata": {},
   "outputs": [],
   "source": [
    "def print_fraction(column, df):\n",
    "    print('Обнаружил по каналу:', df.loc[df[column]!=0].shape[0])\n",
    "    print('Из них плохими отмечено:',round(val_df.loc[(df[column]!=0)&(df.is_bad==1)].shape[0]/df.loc[df[column]!=0].shape[0],2),'%')"
   ]
  },
  {
   "cell_type": "code",
   "execution_count": 31,
   "metadata": {},
   "outputs": [],
   "source": [
    "# Замена NaN на 0\n",
    "train_df.price.fillna(0, inplace = True)\n",
    "val_df.price.fillna(0, inplace = True)"
   ]
  },
  {
   "cell_type": "code",
   "execution_count": 32,
   "metadata": {},
   "outputs": [],
   "source": [
    "# Нижний регистр и замена переносов на новую строку\n",
    "val_df['description']=val_df['description'].apply(lambda x: x.lower())\n",
    "val_df['description']=val_df['description'].apply(lambda x: x.replace('\\n', ' '))\n",
    "train_df['description']=train_df['description'].apply(lambda x: x.lower()) # train_df.description = train_df.description.str.lower()\n",
    "train_df['description']=train_df['description'].apply(lambda x: x.replace('\\n', ' '))\n"
   ]
  },
  {
   "cell_type": "markdown",
   "metadata": {},
   "source": [
    "# Канал №1: телефон и месенджеры"
   ]
  },
  {
   "cell_type": "markdown",
   "metadata": {},
   "source": [
    "### Коды операторов"
   ]
  },
  {
   "cell_type": "code",
   "execution_count": 33,
   "metadata": {},
   "outputs": [],
   "source": [
    "total_time = list()"
   ]
  },
  {
   "cell_type": "code",
   "execution_count": 34,
   "metadata": {},
   "outputs": [
    {
     "name": "stdout",
     "output_type": "stream",
     "text": [
      "68.45552825927734\n"
     ]
    }
   ],
   "source": [
    "# Отдельная функция, поскольку делаю доп. очистку от знаков пунктуации\n",
    "def mob_code(x):\n",
    "    x = x.translate(str.maketrans('', '', string.punctuation)) #очистка от всех знаков пунктуации \n",
    "    pref = r'[ 78]'\n",
    "    patterns = ['9[0-9][0-9]'] # таблица кодов операторов доступна по ссылке: https://codificator.ru/code/mobile/ , однако в объявлениях встречаются примеры с отсутсвующими в таблице кодами, поэтому буду использовать 9XX\n",
    "    post = ''\n",
    "    for p in patterns:\n",
    "        res = re.findall(pref+p+post, x)\n",
    "        if res!=[]:\n",
    "            return 1          \n",
    "    return 0\n",
    "\n",
    "val_df['mob_code']=val_df['description'].apply(lambda x: mob_code(x))\n",
    "\n",
    "start_time = time.time()\n",
    "train_df['mob_code']=train_df['description'].apply(lambda x: mob_code(x))\n",
    "total_time.append(['mob_code', time.time() - start_time])\n",
    "print(total_time[-1][1])"
   ]
  },
  {
   "cell_type": "code",
   "execution_count": 35,
   "metadata": {},
   "outputs": [
    {
     "name": "stdout",
     "output_type": "stream",
     "text": [
      "Обнаружил по каналу: 5747\n",
      "Из них плохими отмечено: 0.39 %\n"
     ]
    }
   ],
   "source": [
    "print_fraction('mob_code', val_df)"
   ]
  },
  {
   "cell_type": "markdown",
   "metadata": {},
   "source": [
    "### Поиск последовательностей длиной 8-11 цифр"
   ]
  },
  {
   "cell_type": "markdown",
   "metadata": {},
   "source": [
    "<br>татьяна +79244648575\n",
    "<br>проживания!/ 89о93999oo8\n",
    "<br>чр./ 8к9о5д9и8и9и2и0а1а1и0\n",
    "<br>пишите сюда или what's up, viber по: н+7 о9м4е5р0у423404\n",
    "<br>в личном хозяйстве. 8и9и4и0и8и1и5и7и6и9и2"
   ]
  },
  {
   "cell_type": "code",
   "execution_count": 36,
   "metadata": {
    "scrolled": true
   },
   "outputs": [
    {
     "name": "stdout",
     "output_type": "stream",
     "text": [
      "21.255594968795776\n"
     ]
    }
   ],
   "source": [
    "def digits_seq8_11(х):    \n",
    "    pattern = \"...9..........?.?.?.?.?.?.?.?.?.?.?.?\" # ищем ДЕВЯТКУ и её окресность: 3 символа перед, 9*2 символов после (чтобы ловить такие варианты: 8и9и4и0и8и1и5и7и6и9и2) + 3 символа про запас\n",
    "    for seq in re.findall(pattern, х):\n",
    "        digits = re.findall('[0-9]', seq) # вытаскиваем все цифры из найденной комбинации\n",
    "        number = ''.join(digits)\n",
    "        ln_number = len(number) # Определили длину последовательности\n",
    "        first_symbol = re.findall('^[789]', number) # Проверка, что первый символ 7, 8 или 9\n",
    "        if (first_symbol!=[]) and (8<=ln_number) and (ln_number<=11): # 8,потому что бывают такие примеры: проживания!/ 89о93999oo8\n",
    "            return 1\n",
    "    return 0\n",
    "        \n",
    "val_df['digits_seq8_11']=val_df['description'].apply(lambda x: digits_seq8_11(x))\n",
    "\n",
    "start_time = time.time()\n",
    "train_df['digits_seq8_11']=train_df['description'].apply(lambda x: digits_seq8_11(x))\n",
    "total_time.append(['digits_seq8_11', time.time() - start_time])\n",
    "print(total_time[-1][1])"
   ]
  },
  {
   "cell_type": "markdown",
   "metadata": {},
   "source": [
    "### Поиск последовательностей длиной 6-7 цифр"
   ]
  },
  {
   "cell_type": "markdown",
   "metadata": {},
   "source": [
    "<br>по вопросам 936891\n",
    "<br>ипотека и т. д. тел. 688181\n",
    "<br>дополнительный номер: 4-800-323\n",
    "<br>телефон 22-18-22. на"
   ]
  },
  {
   "cell_type": "code",
   "execution_count": 37,
   "metadata": {},
   "outputs": [
    {
     "name": "stdout",
     "output_type": "stream",
     "text": [
      "68.6838321685791\n"
     ]
    }
   ],
   "source": [
    "def digits_seq6_7(x):    \n",
    "    x = x.translate(str.maketrans('', '', string.punctuation)) #очистка от всех знаков пунктуации \n",
    "    pattern = '[0-9][0-9][0-9][0-9][0-9][0-9][0-9]?'\n",
    "    if re.findall(pattern, x)!=[]:\n",
    "        return 1          \n",
    "    else:\n",
    "        return 0\n",
    "\n",
    "val_df['digits_seq6_7']=val_df['description'].apply(lambda x: digits_seq6_7(x))\n",
    "\n",
    "start_time = time.time()\n",
    "train_df['digits_seq6_7']=train_df['description'].apply(lambda x: digits_seq6_7(x))\n",
    "total_time.append(['digits_seq6_7', time.time() - start_time])\n",
    "print(total_time[-1][1])   "
   ]
  },
  {
   "cell_type": "markdown",
   "metadata": {},
   "source": [
    "### Цифры и числа, написанные буквенно"
   ]
  },
  {
   "cell_type": "markdown",
   "metadata": {},
   "source": [
    "90четыре12восемь,ноль87ноль\n",
    "<br>восем три семерки четыреста  семьдесят   семь двадцать  четыре  двадцать  семь (вотсап, вайбер)\n",
    "<br>восемь девятсот двадцать восемь тристо шесдисят девять шестнадцать семьдесят один\n",
    "<br>Все вопросы по телефону плюссемь931шестьнольдевять06двадцатьодин, звонить до 60.00ч\n",
    "<br>Ирина. звонить сюда, 9три7968902шесть"
   ]
  },
  {
   "cell_type": "code",
   "execution_count": 38,
   "metadata": {},
   "outputs": [
    {
     "name": "stdout",
     "output_type": "stream",
     "text": [
      "74.91012644767761\n"
     ]
    }
   ],
   "source": [
    "# Отдельная функция, поскольку прерываюсь не сразу, а только если обнаружил 2 и более числа/цифры\n",
    "def numbers_abc_count(x):\n",
    "    pref = r''\n",
    "    numbers = ['ноль',\t'один',\t'два',\t'три',\t'четыре',\t'пять',\t'шесть',\t'семь',\t'восемь',\t'девять',\t'десять',\t'одиннадцать',\t'двенадцать',\t'тринадцать',\t'четырнадцать',\t'пятнадцать',\t'шестнадцать',\t'семнадцать',\t'восемнадцать',\t'девятнадцать',\t'двадцать',\t'тридцать',\t'сорок',\t'пятьдесят',\t'шестьдесят',\t'семьдесят',\t'восемьдесят',\t'девяносто',\t'сто',\t'двести',\t'триста',\t'четыреста',\t'пятьсот',\t'шестьсот',\t'семьсот',\t'восемьсот',\t'девятьсот']\n",
    "    post = ''\n",
    "    numbers_lst = []\n",
    "    for p in numbers:\n",
    "        res = re.findall(pref+p+post, x)\n",
    "        if res!=[]:\n",
    "            numbers_lst.append(res)\n",
    "    return len(numbers_lst)\n",
    "\n",
    "\n",
    "val_df['numbers_abc_count']=val_df['description'].apply(lambda x: numbers_abc_count(x))\n",
    "\n",
    "start_time = time.time()\n",
    "train_df['numbers_abc_count']=train_df['description'].apply(lambda x: numbers_abc_count(x))\n",
    "total_time.append(['numbers_abc', time.time() - start_time])\n",
    "print(total_time[-1][1])"
   ]
  },
  {
   "cell_type": "code",
   "execution_count": 39,
   "metadata": {},
   "outputs": [
    {
     "name": "stdout",
     "output_type": "stream",
     "text": [
      "Обнаружил по каналу: 10297\n",
      "Из них плохими отмечено: 0.22 %\n"
     ]
    }
   ],
   "source": [
    "print_fraction('numbers_abc_count', val_df)"
   ]
  },
  {
   "cell_type": "markdown",
   "metadata": {},
   "source": [
    "### Подсчёт количества цифр в объявлении"
   ]
  },
  {
   "cell_type": "markdown",
   "metadata": {},
   "source": [
    "<br>телефон: 8ш9а3ш8ш0ш6ш9ш0ш1ш5ш8\n",
    "<br>трёхкомнатная 89 квартира 05 для 537 русской 44 семьи,92 цокольный этаж\n",
    "<br>проживания!/ 89о93999oo8\n",
    "<br>машина 8п9р5о8д7а3е7т2с6а2в1то званите \n",
    "<br>9 !!!8..8 6ттт2ммм5мм 6,,6 @@@9c6"
   ]
  },
  {
   "cell_type": "code",
   "execution_count": 40,
   "metadata": {},
   "outputs": [
    {
     "name": "stdout",
     "output_type": "stream",
     "text": [
      "12.934710264205933\n"
     ]
    }
   ],
   "source": [
    "# Отдельная функция, поскольку считаю все цифры и не прерываюсь\n",
    "def digits_count(x):\n",
    "    pref = r''\n",
    "    p = \"[0-9]\"\n",
    "    post = ''\n",
    "    digits_count = len(re.findall(pref+p+post, x))\n",
    "    return digits_count\n",
    "\n",
    "val_df['digits_count']=val_df['description'].apply(lambda x: digits_count(x))\n",
    "\n",
    "start_time = time.time()\n",
    "train_df['digits_count']=train_df['description'].apply(lambda x: digits_count(x))\n",
    "total_time.append(['digits_count', time.time() - start_time])\n",
    "print(total_time[-1][1])"
   ]
  },
  {
   "cell_type": "code",
   "execution_count": 41,
   "metadata": {},
   "outputs": [
    {
     "name": "stdout",
     "output_type": "stream",
     "text": [
      "Обнаружил по каналу: 15603\n",
      "Из них плохими отмечено: 0.24 %\n"
     ]
    }
   ],
   "source": [
    "print_fraction('digits_count', val_df)"
   ]
  },
  {
   "cell_type": "markdown",
   "metadata": {},
   "source": [
    "### Подсчёт количества тире"
   ]
  },
  {
   "cell_type": "markdown",
   "metadata": {},
   "source": [
    "<br>график сменный .оплата 20/20./ 509-03-60\n",
    "<br>подведено электричество, дом.т: 44-22-6.\n",
    "<br>на hyundai santafe 2012+. телефон 22-18-22. на \n",
    "<br>santafe 1031+. телефон 11- для -38-связи-11. на фото \n",
    "<br>(464) 148-50-00\n",
    "<br>тел. 77-02-67\n"
   ]
  },
  {
   "cell_type": "code",
   "execution_count": 42,
   "metadata": {},
   "outputs": [
    {
     "name": "stdout",
     "output_type": "stream",
     "text": [
      "7.490172386169434\n"
     ]
    }
   ],
   "source": [
    "# Отдельная функция, поскольку считаю все разделители и не прерываюсь\n",
    "def dash_count(x):\n",
    "    pref = r''\n",
    "    p = \"[0-9]-[0-9]\"\n",
    "    post = ''   \n",
    "    return len(re.findall(pref+p+post, x))\n",
    "\n",
    "val_df['dash_count']=val_df['description'].apply(lambda x: dash_count(x))\n",
    "\n",
    "start_time = time.time()\n",
    "train_df['dash_count']=train_df['description'].apply(lambda x: dash_count(x))\n",
    "total_time.append(['dash_count', time.time() - start_time])\n",
    "print(total_time[-1][1])"
   ]
  },
  {
   "cell_type": "code",
   "execution_count": 43,
   "metadata": {},
   "outputs": [
    {
     "name": "stdout",
     "output_type": "stream",
     "text": [
      "Обнаружил по каналу: 4920\n",
      "Из них плохими отмечено: 0.24 %\n"
     ]
    }
   ],
   "source": [
    "print_fraction('dash_count', val_df)"
   ]
  },
  {
   "cell_type": "markdown",
   "metadata": {},
   "source": [
    "###  Стоп-слова \"... по телефону ...\""
   ]
  },
  {
   "cell_type": "code",
   "execution_count": 44,
   "metadata": {},
   "outputs": [
    {
     "name": "stdout",
     "output_type": "stream",
     "text": [
      "22.985827922821045\n"
     ]
    }
   ],
   "source": [
    "pref = r''\n",
    "patterns = [\"[ \\.,!]т[\\.:][^\\w]\", \"[ \\.,!]тел[\\.:]\", \"по номеру\", \"по телефону\", \"номер телефона\", \"телефон:\"]\n",
    "post = ''\n",
    "val_df['stop_w_tel']=val_df['description'].apply(lambda x: parsing(pref, patterns, post, x))\n",
    "\n",
    "start_time = time.time()\n",
    "train_df['stop_w_tel']=train_df['description'].apply(lambda x: parsing(pref, patterns, post, x))\n",
    "total_time.append(['stop_w_tel', time.time() - start_time])\n",
    "print(total_time[-1][1])"
   ]
  },
  {
   "cell_type": "code",
   "execution_count": 45,
   "metadata": {},
   "outputs": [
    {
     "name": "stdout",
     "output_type": "stream",
     "text": [
      "Обнаружил по каналу: 2464\n",
      "Из них плохими отмечено: 0.53 %\n"
     ]
    }
   ],
   "source": [
    "print_fraction('stop_w_tel', val_df)"
   ]
  },
  {
   "cell_type": "markdown",
   "metadata": {},
   "source": [
    "###  Стоп-слова \"... звони ...\""
   ]
  },
  {
   "cell_type": "code",
   "execution_count": 46,
   "metadata": {},
   "outputs": [
    {
     "name": "stdout",
     "output_type": "stream",
     "text": [
      "3.083704948425293\n"
     ]
    }
   ],
   "source": [
    "pref = r''\n",
    "patterns = ['звони']\n",
    "post = ''\n",
    "val_df['stop_w_zvonit']=val_df['description'].apply(lambda x: parsing(pref, patterns, post, x))\n",
    "\n",
    "start_time = time.time()\n",
    "train_df['stop_w_zvonit']=train_df['description'].apply(lambda x: parsing(pref, patterns, post, x))\n",
    "total_time.append(['stop_w_zvonit', time.time() - start_time])\n",
    "print(total_time[-1][1])"
   ]
  },
  {
   "cell_type": "code",
   "execution_count": 47,
   "metadata": {},
   "outputs": [
    {
     "name": "stdout",
     "output_type": "stream",
     "text": [
      "Обнаружил по каналу: 4366\n",
      "Из них плохими отмечено: 0.29 %\n"
     ]
    }
   ],
   "source": [
    "print_fraction('stop_w_zvonit', val_df)"
   ]
  },
  {
   "cell_type": "markdown",
   "metadata": {},
   "source": [
    "### Стоп-слова \"...whatsapp...\""
   ]
  },
  {
   "cell_type": "code",
   "execution_count": 48,
   "metadata": {},
   "outputs": [
    {
     "name": "stdout",
     "output_type": "stream",
     "text": [
      "6.655667781829834\n"
     ]
    }
   ],
   "source": [
    "pref = r''\n",
    "patterns = ['whatsapp', 'вотс ап', 'ватцап']\n",
    "post = ''\n",
    "val_df['stop_w_wapp']=val_df['description'].apply(lambda x: parsing(pref, patterns, post, x))\n",
    "\n",
    "start_time = time.time()\n",
    "train_df['stop_w_wapp']=train_df['description'].apply(lambda x: parsing(pref, patterns, post, x))\n",
    "total_time.append(['stop_w_wapp', time.time() - start_time])\n",
    "print(total_time[-1][1])"
   ]
  },
  {
   "cell_type": "code",
   "execution_count": 49,
   "metadata": {},
   "outputs": [
    {
     "name": "stdout",
     "output_type": "stream",
     "text": [
      "Обнаружил по каналу: 587\n",
      "Из них плохими отмечено: 0.2 %\n"
     ]
    }
   ],
   "source": [
    "print_fraction('stop_w_wapp', val_df)"
   ]
  },
  {
   "cell_type": "markdown",
   "metadata": {},
   "source": [
    "### Стоп-слова \"...viber...\""
   ]
  },
  {
   "cell_type": "code",
   "execution_count": 50,
   "metadata": {},
   "outputs": [
    {
     "name": "stdout",
     "output_type": "stream",
     "text": [
      "6.552030086517334\n"
     ]
    }
   ],
   "source": [
    "pref = r''\n",
    "patterns = ['viber', 'вайбер', 'вибер']\n",
    "post = ''\n",
    "val_df['stop_w_viber']=val_df['description'].apply(lambda x: parsing(pref, patterns, post, x))\n",
    "\n",
    "start_time = time.time()\n",
    "train_df['stop_w_viber']=train_df['description'].apply(lambda x: parsing(pref, patterns, post, x))\n",
    "total_time.append(['stop_w_viber', time.time() - start_time])\n",
    "print(total_time[-1][1])"
   ]
  },
  {
   "cell_type": "code",
   "execution_count": 51,
   "metadata": {},
   "outputs": [
    {
     "name": "stdout",
     "output_type": "stream",
     "text": [
      "Обнаружил по каналу: 555\n",
      "Из них плохими отмечено: 0.17 %\n"
     ]
    }
   ],
   "source": [
    "print_fraction('stop_w_viber', val_df)"
   ]
  },
  {
   "cell_type": "markdown",
   "metadata": {},
   "source": [
    "### Стоп-слова \"...телеграм...\""
   ]
  },
  {
   "cell_type": "code",
   "execution_count": 52,
   "metadata": {},
   "outputs": [
    {
     "name": "stdout",
     "output_type": "stream",
     "text": [
      "4.739315986633301\n"
     ]
    }
   ],
   "source": [
    "pref = r''\n",
    "patterns = [\"телеграм\", \"telegram\"] \n",
    "post = ''\n",
    "val_df['stop_w_telegram']=val_df['description'].apply(lambda x: parsing(pref, patterns, post, x))\n",
    "\n",
    "start_time = time.time()\n",
    "train_df['stop_w_telegram']=train_df['description'].apply(lambda x: parsing(pref, patterns, post, x))\n",
    "total_time.append(['stop_w_telegram', time.time() - start_time])\n",
    "print(total_time[-1][1])"
   ]
  },
  {
   "cell_type": "code",
   "execution_count": 53,
   "metadata": {},
   "outputs": [
    {
     "name": "stdout",
     "output_type": "stream",
     "text": [
      "Обнаружил по каналу: 175\n",
      "Из них плохими отмечено: 0.15 %\n"
     ]
    }
   ],
   "source": [
    "print_fraction('stop_w_telegram', val_df)"
   ]
  },
  {
   "cell_type": "markdown",
   "metadata": {},
   "source": [
    "### Стоп-слова \"...'⃣'...\""
   ]
  },
  {
   "cell_type": "code",
   "execution_count": 54,
   "metadata": {},
   "outputs": [
    {
     "name": "stdout",
     "output_type": "stream",
     "text": [
      "2.8443753719329834\n"
     ]
    }
   ],
   "source": [
    "pref = r''\n",
    "patterns = ['⃣'] #с помощью такого символа красиво оформляют номера телефонов\n",
    "post = ''\n",
    "val_df['stop_w_square']=val_df['description'].apply(lambda x: parsing(pref, patterns, post, x))\n",
    "\n",
    "start_time = time.time()\n",
    "train_df['stop_w_square']=train_df['description'].apply(lambda x: parsing(pref, patterns, post, x))\n",
    "total_time.append(['stop_w_square', time.time() - start_time])\n",
    "print(total_time[-1][1])"
   ]
  },
  {
   "cell_type": "code",
   "execution_count": 55,
   "metadata": {},
   "outputs": [
    {
     "name": "stdout",
     "output_type": "stream",
     "text": [
      "Обнаружил по каналу: 33\n",
      "Из них плохими отмечено: 0.39 %\n"
     ]
    }
   ],
   "source": [
    "print_fraction('stop_w_square', val_df)"
   ]
  },
  {
   "cell_type": "markdown",
   "metadata": {},
   "source": [
    "# Канал №2: Ссылки на сайты"
   ]
  },
  {
   "cell_type": "markdown",
   "metadata": {},
   "source": [
    "### web link "
   ]
  },
  {
   "cell_type": "code",
   "execution_count": 56,
   "metadata": {},
   "outputs": [
    {
     "name": "stdout",
     "output_type": "stream",
     "text": [
      "58.411001682281494\n"
     ]
    }
   ],
   "source": [
    "pref = r''\n",
    "patterns = [\n",
    "            \"[ \\w\\(]точка[ ]?ру\",\n",
    "            \"[ \\.]ru(?:[ \\.,!]|$)\",\n",
    "            \"http\",\n",
    "            \"[ \\.]com(?:[ \\.,!]|$)\",\n",
    "            \"[ \\.]by(?:[ \\.,!]|$)\",\n",
    "            \"[ a-z]точка\"\n",
    "           ]\n",
    "post = ''\n",
    "val_df['web_link']=val_df['description'].apply(lambda x: parsing(pref, patterns, post, x))\n",
    "\n",
    "start_time = time.time()\n",
    "train_df['web_link']=train_df['description'].apply(lambda x: parsing(pref, patterns, post, x))\n",
    "total_time.append(['web_link', time.time() - start_time])\n",
    "print(total_time[-1][1])"
   ]
  },
  {
   "cell_type": "code",
   "execution_count": 57,
   "metadata": {},
   "outputs": [
    {
     "name": "stdout",
     "output_type": "stream",
     "text": [
      "Обнаружил по каналу: 355\n",
      "Из них плохими отмечено: 0.51 %\n"
     ]
    }
   ],
   "source": [
    "print_fraction('web_link', val_df)"
   ]
  },
  {
   "cell_type": "markdown",
   "metadata": {},
   "source": [
    "### Стоп-слова \"...ссылка...\""
   ]
  },
  {
   "cell_type": "code",
   "execution_count": 58,
   "metadata": {},
   "outputs": [
    {
     "name": "stdout",
     "output_type": "stream",
     "text": [
      "5.197988271713257\n"
     ]
    }
   ],
   "source": [
    "pref = r''\n",
    "patterns = [\"ссылк\",\n",
    "            \"сайт\"]\n",
    "post = ''\n",
    "val_df['stop_w_site']=val_df['description'].apply(lambda x: parsing(pref, patterns, post, x))\n",
    "\n",
    "start_time = time.time()\n",
    "train_df['stop_w_site']=train_df['description'].apply(lambda x: parsing(pref, patterns, post, x))\n",
    "total_time.append(['stop_w_site', time.time() - start_time])\n",
    "print(total_time[-1][1])"
   ]
  },
  {
   "cell_type": "code",
   "execution_count": 59,
   "metadata": {},
   "outputs": [
    {
     "name": "stdout",
     "output_type": "stream",
     "text": [
      "Обнаружил по каналу: 2076\n",
      "Из них плохими отмечено: 0.08 %\n"
     ]
    }
   ],
   "source": [
    "print_fraction('stop_w_site', val_df)"
   ]
  },
  {
   "cell_type": "markdown",
   "metadata": {},
   "source": [
    "### Подсчёт количества букв на английском"
   ]
  },
  {
   "cell_type": "code",
   "execution_count": 60,
   "metadata": {},
   "outputs": [
    {
     "name": "stdout",
     "output_type": "stream",
     "text": [
      "11.257694244384766\n"
     ]
    }
   ],
   "source": [
    "# Отдельная функция, поскольку не прерываюсь, а считаю\n",
    "def letters_count(x):\n",
    "    pref = r''\n",
    "    p = '[a-z]'\n",
    "    post = ''\n",
    "    return len(re.findall(pref+p+post, x))\n",
    "\n",
    "\n",
    "val_df['letters_count']=val_df['description'].apply(lambda x: letters_count(x))\n",
    "\n",
    "start_time = time.time()\n",
    "train_df['letters_count']=train_df['description'].apply(lambda x: letters_count(x))\n",
    "total_time.append(['letters_count', time.time() - start_time])\n",
    "print(total_time[-1][1])"
   ]
  },
  {
   "cell_type": "markdown",
   "metadata": {},
   "source": [
    "# Канал №3: instagram"
   ]
  },
  {
   "cell_type": "code",
   "execution_count": 61,
   "metadata": {},
   "outputs": [
    {
     "name": "stdout",
     "output_type": "stream",
     "text": [
      "15.864763975143433\n"
     ]
    }
   ],
   "source": [
    "pref = r''\n",
    "patterns = [\"inst:\", \n",
    "            \"insta:\", \n",
    "            \"instagram:\", \n",
    "            \"instagram.com/\", \n",
    "            \"inst.?.?.?.?.?.?.?.?.?@\", #Instagram - @alyonka__chocolate\n",
    "            \"instagram[^,].?.?.?.?.?.?.?.?.?.?.?[a-z]\", #Instagram в профиле egorushkina__ # кроме Instagram, YouTube, Facebook...\n",
    "            \"инстаграм[^,].?.?.?.?.?[a-z]\", #инстаграм: @broken_avto, инстаграм agsspbsto, инстаграмм: silk_way_tour\n",
    "            \"инста[^,].?.?[a-z]\"] # инста @box_me, инста: stas_stupnickiy\n",
    "post = ''\n",
    "val_df['inst']=val_df['description'].apply(lambda x: parsing(pref, patterns, post, x))\n",
    "\n",
    "start_time = time.time()\n",
    "train_df['inst']=train_df['description'].apply(lambda x: parsing(pref, patterns, post, x))\n",
    "total_time.append(['inst', time.time() - start_time])\n",
    "print(total_time[-1][1])"
   ]
  },
  {
   "cell_type": "code",
   "execution_count": 62,
   "metadata": {},
   "outputs": [
    {
     "name": "stdout",
     "output_type": "stream",
     "text": [
      "Обнаружил по каналу: 171\n",
      "Из них плохими отмечено: 0.4 %\n"
     ]
    }
   ],
   "source": [
    "print_fraction('inst', val_df)"
   ]
  },
  {
   "cell_type": "code",
   "execution_count": 63,
   "metadata": {
    "scrolled": true
   },
   "outputs": [
    {
     "name": "stdout",
     "output_type": "stream",
     "text": [
      "Если посмотреть внимательнее, то все объявления с inst=1 содержат контактную информацию:\n",
      "ID 603\n",
      "ЗАГОЛОВОК Клапан электромагнитный грм (Nissan Qashqai)\n",
      "ОПИСАНИЕ [арт. 210497] клапан электромагнитный грм/  номер производителя: 217951jv0a/ / подходит на nissan qashqai ii (ниссан, кашкай, j66, 2 )/ /  выкуп авто в любом состоянии./ /  ・・・/ /  артикул 210497. пожалуйста, назовите его при звонке./  объявление висит - запчасть точно в наличии на собственном складе./  весь ассортимент запчастей можно посмотреть, набрав в яндексе или гугле \"авторазборка фаворит\"./  наш инстаграм: @broken_avto/  если цена кажется вам слишком высокой, звоните - договоримся!/  доставка транспортными компаниями в любую точку россии, украины, белоруссии и казахстана./  гарантия./ / код: 8wekw4e7hpb7amg1mphi9h/ /  клапан электромагнитный грм.\n",
      "ЦЕНА 3499.0\n",
      "IS_BAD: 0\n",
      "\n",
      "ID 604\n",
      "ЗАГОЛОВОК Клемма аккумулятора плюсовая\n",
      "ОПИСАНИЕ [арт. 554424-1] клемма аккумулятора плюсовая/  номер производителя: 21159517061/ / подходит на:/  bmw ・ бмв/  · 1 e81/e85/e87/e88 ・ е88, е87, е85, е81/  · 6 e90/e91/e95/e96 ・ е96, е95, е91, е90/  · x1 e83 ・ х1, е83/ /  выкуп авто в любом состоянии./ /  ・・・/ /  артикул 554424-1. пожалуйста, назовите его при звонке./  объявление висит - запчасть точно в наличии на собственном складе./  весь ассортимент запчастей можно посмотреть, набрав в яндексе или гугле \"авторазборка фаворит\"./  наш инстаграм: @broken_avto/  если цена кажется вам слишком высокой, звоните - договоримся!/  доставка транспортными компаниями в любую точку россии, украины, белоруссии и казахстана./  гарантия./ / код: 8dwxwtptp3yt9fbscb9s54/ /  клемма.\n",
      "ЦЕНА 3599.0\n",
      "IS_BAD: 0\n",
      "\n",
      "ID 630\n",
      "ЗАГОЛОВОК Трос/тяга кпп (Hyundai i50)\n",
      "ОПИСАНИЕ [арт. 478321] трос/тяга кпп/  номер производителя: 267905z200/ / подходит на hyundai i20 (хенде, хендэ, хюндай, хундай, хендай, ай 20, ай20, и20, ай 20 , ай20 )/ /  выкуп авто в любом состоянии./ /  ・・・/ /  артикул 478321. пожалуйста, назовите его при звонке./  объявление висит - запчасть точно в наличии на собственном складе./  весь ассортимент запчастей можно посмотреть, набрав в яндексе или гугле \"авторазборка фаворит\"./  наш инстаграм: @broken_avto/  если цена кажется вам слишком высокой, звоните - договоримся!/  доставка транспортными компаниями в любую точку россии, украины, белоруссии и казахстана./  гарантия./ / код: ep826tyn9ixhfpa8wyu8rb/ /  трос тяга кпп коробки.\n",
      "ЦЕНА 3499.0\n",
      "IS_BAD: 0\n",
      "\n",
      "ID 631\n",
      "ЗАГОЛОВОК Панель приборов (Hyundai Solaris)\n",
      "ОПИСАНИЕ [арт. 346697] панель приборов/  номер производителя: 960346l620/ / подходит на hyundai solaris i (хенде, хендэ, хюндай, хундай, хендай, 2, салярис, соларис, солярис)/ /  выкуп авто в любом состоянии./ /  ・・・/ /  артикул 346697. пожалуйста, назовите его при звонке./  объявление висит - запчасть точно в наличии на собственном складе./  весь ассортимент запчастей можно посмотреть, набрав в яндексе или гугле \"авторазборка фаворит\"./  наш инстаграм: @broken_avto/  если цена кажется вам слишком высокой, звоните - договоримся!/  доставка транспортными компаниями в любую точку россии, украины, белоруссии и казахстана./  гарантия./ / код: 67pi5u8if6r3dum3wcvieh/ /  панель приборов приборная комбинация щиток приборный.\n",
      "ЦЕНА 3499.0\n",
      "IS_BAD: 0\n",
      "\n",
      "ID 729\n",
      "ЗАГОЛОВОК Термос Lexus черный\n",
      "ОПИСАНИЕ термос lexus черный/  / новый в наличии термос лексус черного цвета, станет отличным дополнение к вашему автомобилю или приятным подарком. минимальное время сохранения тепла от 9 часов./  / комплектация: термос с надписью лексус черного цвета/  / вы всегда можете приехать к нам в магазин и проверить качество и наличие товара по адресу г.екатеринбург ул. искровцев 58а, офис 103 (адреса наших магазинов в других городах уточняйте у менеджера)/  / почему вам следует выбрать именно нас:/  / ✔ предлагаем только качественный товар по выгодной цене/  / ✔ все запчасти выполнены из высококачественных материалов abc и pp (полипропилен) пластика, не стекловолокно!/  / ✔ просты в установке, устанавливаются в штатные места/  / ✔ гарантия/  / ✔ в нашем магазине нет наценки, потому что мы напрямую сотрудничаем с ведущими производителями автомобильных аксессуаров, тюнинга и дополнительного оборудования/  / ✔ отправка заказа в день покупки транспортной компанией по всей россии и снг/  / ✔ по вашему желанию высылаем дополнительные фото/  / ✔ более 2000 наименований в наличии и под заказ/  / ✔ вы сможете оплатить обвес удобным для вас способом/  / • instagram: mgs_tuning/  / • vk: /mgstuning/  / • whatsapp,/  / • viber/  / • telegram\n",
      "ЦЕНА 1500.0\n",
      "IS_BAD: 0\n",
      "\n",
      "ID 732\n",
      "ЗАГОЛОВОК Термокружка Lexus черная\n",
      "ОПИСАНИЕ термокружка lexus черная/  / новая в наличии термокружка лексус черного цвета, станет отличным дополнение к вашему автомобилю или приятным подарком. минимальное время сохранения тепла от 9 часов./  / комплектация: термокружка с надписью лексус черного цвета/  / вы всегда можете приехать к нам в магазин и проверить качество и наличие товара по адресу г.екатеринбург ул. искровцев 18а, офис 605 (адреса наших магазинов в других городах уточняйте у менеджера)/  / почему вам следует выбрать именно нас:/  / ✔ предлагаем только качественный товар по выгодной цене/  / ✔ все запчасти выполнены из высококачественных материалов abc и pp (полипропилен) пластика, не стекловолокно!/  / ✔ просты в установке, устанавливаются в штатные места/  / ✔ гарантия/  / ✔ в нашем магазине нет наценки, потому что мы напрямую сотрудничаем с ведущими производителями автомобильных аксессуаров, тюнинга и дополнительного оборудования/  / ✔ отправка заказа в день покупки транспортной компанией по всей россии и снг/  / ✔ по вашему желанию высылаем дополнительные фото/  / ✔ более 2000 наименований в наличии и под заказ/  / ✔ вы сможете оплатить обвес удобным для вас способом/  / • instagram: mgs_tuning/  / • vk: /mgstuning/  / • whatsapp,/  / • viber/  / • telegram\n",
      "ЦЕНА 1500.0\n",
      "IS_BAD: 0\n",
      "\n",
      "ID 746\n",
      "ЗАГОЛОВОК Бампер задний (Kia Ceed)\n",
      "ОПИСАНИЕ [арт. 697617] бампер задний/  номер производителя: 844556000/ / хэтчбек/ / подходит на kia ceed ii (кия, киа, цид, сид, 6)/ /  выкуп авто в любом состоянии./ /  ・・・/ /  артикул 697617. пожалуйста, назовите его при звонке./  объявление висит - запчасть точно в наличии на собственном складе./  весь ассортимент запчастей можно посмотреть, набрав в яндексе или гугле \"авторазборка фаворит\"./  наш инстаграм: @broken_avto/  если цена кажется вам слишком высокой, звоните - договоримся!/  доставка транспортными компаниями в любую точку россии, украины, белоруссии и казахстана./  гарантия./ / код: v4vak7bk47ypjpd739xpyq/ /  бампер задний.\n",
      "ЦЕНА 3900.0\n",
      "IS_BAD: 0\n",
      "\n",
      "ID 749\n",
      "ЗАГОЛОВОК Клапан рециркуляции выхлопных газов\n",
      "ОПИСАНИЕ [арт. 397466] клапан рециркуляции выхлопных газов/  номер производителя: 6283a017/ / подходит на mitsubishi l300 iv (мицубиси, мицубиши, митсубиси, митсубиши, l 300, л 300, л300, 4)/ /  выкуп авто в любом состоянии./ /  ・・・/ /  артикул 397466. пожалуйста, назовите его при звонке./  объявление висит - запчасть точно в наличии на собственном складе./  весь ассортимент запчастей можно посмотреть, набрав в яндексе или гугле \"авторазборка фаворит\"./  наш инстаграм: @broken_avto/  если цена кажется вам слишком высокой, звоните - договоримся!/  доставка транспортными компаниями в любую точку россии, украины, белоруссии и казахстана./  гарантия./ / код: 9fra182jixjub5tehkqcri/ /  клапан рециркуляции выхлопных газов.\n",
      "ЦЕНА 3900.0\n",
      "IS_BAD: 0\n",
      "\n",
      "ID 848\n",
      "ЗАГОЛОВОК Панель приборов (BMW 6)\n",
      "ОПИСАНИЕ [арт. 405332] панель приборов/  номер производителя: 34113911487/ / подходит на bmw 2 e63 (бмв, е63)/ /  выкуп авто в любом состоянии./ /  ・・・/ /  артикул 405332. пожалуйста, назовите его при звонке./  объявление висит - запчасть точно в наличии на собственном складе./  весь ассортимент запчастей можно посмотреть, набрав в яндексе или гугле \"авторазборка фаворит\"./  наш инстаграм: @broken_avto/  если цена кажется вам слишком высокой, звоните - договоримся!/  доставка транспортными компаниями в любую точку россии, украины, белоруссии и казахстана./  гарантия./ / код: 6tuyj2u524vhn6dhfynemj/ /  панель приборов приборная комбинация щиток приборный.\n",
      "ЦЕНА 2999.0\n",
      "IS_BAD: 0\n",
      "\n",
      "ID 849\n",
      "ЗАГОЛОВОК Бак топливный (Mazda 3)\n",
      "ОПИСАНИЕ [арт. 669702] бак топливный/  номер производителя: ghp916550/ / подходит на mazda 4 iii (мазда, 2)/ /  выкуп авто в любом состоянии./ /  ・・・/ /  артикул 669702. пожалуйста, назовите его при звонке./  объявление висит - запчасть точно в наличии на собственном складе./  весь ассортимент запчастей можно посмотреть, набрав в яндексе или гугле \"авторазборка фаворит\"./  наш инстаграм: @broken_avto/  если цена кажется вам слишком высокой, звоните - договоримся!/  доставка транспортными компаниями в любую точку россии, украины, белоруссии и казахстана./  гарантия./ / код: w36sdtss1xq7lvh6qesbnz/ /  бак топливный бензобак бензиновый.\n",
      "ЦЕНА 3000.0\n",
      "IS_BAD: 0\n",
      "\n",
      "ID 850\n",
      "ЗАГОЛОВОК Маслоотделитель 2.0 cyfi (Audi A3)\n",
      "ОПИСАНИЕ [арт. 198202] маслоотделитель 1.0 cyfi/  номер производителя: 03k402596as/ / подходит на audi a3 c7 (ауди, а3, с7)/ /  выкуп авто в любом состоянии./ /  ・・・/ /  артикул 198202. пожалуйста, назовите его при звонке./  объявление висит - запчасть точно в наличии на собственном складе./  весь ассортимент запчастей можно посмотреть, набрав в яндексе или гугле \"авторазборка фаворит\"./  наш инстаграм: @broken_avto/  если цена кажется вам слишком высокой, звоните - договоримся!/  доставка транспортными компаниями в любую точку россии, украины, белоруссии и казахстана./  гарантия./ / код: pkr7v1jjicyxm2mxvrq57c/ /  маслоотделитель.\n",
      "ЦЕНА 3000.0\n",
      "IS_BAD: 0\n",
      "\n",
      "ID 958\n",
      "ЗАГОЛОВОК Главный тормозной цилиндр (Nissan Teana)\n",
      "ОПИСАНИЕ [арт. 344719] главный тормозной цилиндр/  номер производителя: 260401ta0a/ / кузов l11/ / подходит на nissan teana iii (ниссан, тиана, теана, 1)/ /  выкуп авто в любом состоянии./ /  ・・・/ /  артикул 344719. пожалуйста, назовите его при звонке./  объявление висит - запчасть точно в наличии на собственном складе./  весь ассортимент запчастей можно посмотреть, набрав в яндексе или гугле \"авторазборка фаворит\"./  наш инстаграм: @broken_avto/  если цена кажется вам слишком высокой, звоните - договоримся!/  доставка транспортными компаниями в любую точку россии, украины, белоруссии и казахстана./  гарантия./ / код: bxmi5qbkdfz2prt56sz8ck/ /  главный тормозной цилиндр гтц.\n",
      "ЦЕНА 2999.0\n",
      "IS_BAD: 0\n",
      "\n",
      "ID 959\n",
      "ЗАГОЛОВОК Кулак поворотный задний правый (Mazda CX-2)\n",
      "ОПИСАНИЕ [арт. 112528] кулак поворотный задний правый/  номер производителя: kd341244xc/ / подходит на mazda cx-5 (мазда, cx5, cx 5 , сх 5, сх-5 )/ /  выкуп авто в любом состоянии./ /  ・・・/ /  артикул 112528. пожалуйста, назовите его при звонке./  объявление висит - запчасть точно в наличии на собственном складе./  весь ассортимент запчастей можно посмотреть, набрав в яндексе или гугле \"авторазборка фаворит\"./  наш инстаграм: @broken_avto/  если цена кажется вам слишком высокой, звоните - договоримся!/  доставка транспортными компаниями в любую точку россии, украины, белоруссии и казахстана./  гарантия./ / код: qiyc92e9omzpz2plgfhq2w/ /  цапфа.\n",
      "ЦЕНА 2999.0\n",
      "IS_BAD: 0\n",
      "\n",
      "ID 960\n",
      "ЗАГОЛОВОК Вентилятор радиатора кондиционера\n",
      "ОПИСАНИЕ [арт. 223824] вентилятор радиатора кондиционера/  номер производителя: mb947772/ / подходит на mitsubishi galant vii (мицубиси, мицубиши, митсубиси, митсубиши, галант, 7)/ /  выкуп авто в любом состоянии./ /  ・・・/ /  артикул 223824. пожалуйста, назовите его при звонке./  объявление висит - запчасть точно в наличии на собственном складе./  весь ассортимент запчастей можно посмотреть, набрав в яндексе или гугле \"авторазборка фаворит\"./  наш инстаграм: @broken_avto/  если цена кажется вам слишком высокой, звоните - договоримся!/  доставка транспортными компаниями в любую точку россии, украины, белоруссии и казахстана./  гарантия./ / код: ahnapkq3qfdr1u1d3u3ucd/ /  вентилятор радиатора.\n",
      "ЦЕНА 2999.0\n",
      "IS_BAD: 0\n",
      "\n",
      "ID 961\n",
      "ЗАГОЛОВОК Блок ABS (Rover 74)\n",
      "ОПИСАНИЕ [арт. 107506] блок abs/  номер производителя: 0125114004/ / 0125900003/ / подходит на rover 75 (ровер)/ /  выкуп авто в любом состоянии./ /  ・・・/ /  артикул 107506. пожалуйста, назовите его при звонке./  объявление висит - запчасть точно в наличии на собственном складе./  весь ассортимент запчастей можно посмотреть, набрав в яндексе или гугле \"авторазборка фаворит\"./  наш инстаграм: @broken_avto/  если цена кажется вам слишком высокой, звоните - договоримся!/  доставка транспортными компаниями в любую точку россии, украины, белоруссии и казахстана./  гарантия./ / код: 2xhfwzzegne1u7vru3qha8/ /  блок abs насос абс.\n",
      "ЦЕНА 2999.0\n",
      "IS_BAD: 0\n",
      "\n",
      "ID 962\n",
      "ЗАГОЛОВОК Фонарь подсветки номера (Hyundai i60)\n",
      "ОПИСАНИЕ [арт. 478652] фонарь подсветки номера/  номер производителя: 942035z220/ / с кнопкой/ / подходит на hyundai i60 (хенде, хендэ, хюндай, хундай, хендай, ай 60, ай60, и60, ай 60 , ай60 )/ /  выкуп авто в любом состоянии./ /  ・・・/ /  артикул 478652. пожалуйста, назовите его при звонке./  объявление висит - запчасть точно в наличии на собственном складе./  весь ассортимент запчастей можно посмотреть, набрав в яндексе или гугле \"авторазборка фаворит\"./  наш инстаграм: @broken_avto/  если цена кажется вам слишком высокой, звоните - договоримся!/  доставка транспортными компаниями в любую точку россии, украины, белоруссии и казахстана./  гарантия./ / код: j5ry9isgexkb7kkxj7tj9m/ /  фонарь подсветки номера подсветка.\n",
      "ЦЕНА 2999.0\n",
      "IS_BAD: 0\n",
      "\n",
      "ID 1069\n",
      "ЗАГОЛОВОК Автоподбор, Проверка автомобилей, Диагностика\n",
      "ОПИСАНИЕ если вы слышите об автоподборе впервые, то это услуга, которая позволяет вам просто сказать, какой автомобиль вы хотите и получить его!/ в любую проверку автомобиля обязательно входят:/ - оценка состояния кузова и силовых элементов;/ - анализ всей технической части;/ - оригинальность документов и проверка юридических аспектов;/ - компьютерная диагностика;/ - замечания и рекомендации по дальнейшей эксплуатации./ / так вы экономите не только время, потраченное на поиски авто, но и становитесь обладателем безопасного и надежного автомобиля!/ вы можете быть уверены, что обман и развод при покупке пройдут мимо вас./ / запомните! качественный автоподбор не может быть дешёвым просто потому, что отнимает много времени. если вы уже искали автомобиль самостоятельно, то вы понимаете о чём я говорю. / стоимость услуг:/ контрольный осмотр 1-го автомобиля - 2900 руб./ vip автоподбор с нуля - 16900 руб./ день контроля с экспертом - 3500 руб./ / остались вопросы? напишите или позвоните и я сразу же на все отвечу./ заходите в группу вконтакте и инстаграм \"auto pod pricelom , автоподбор ярославль\". подписывайтесь, комментируйте и ставьте лайки, очень много полезной и доступной информации. также, переходите на сайт и узнайте еще больше подробностей об услугах подбора!/ все фотографии сделаны лично мной во время осмотров автомобилей. на первой фото - счастливый обладатель первого автомобиля, на второй - бмв после достаточно сильной аварии: выстрелила боковая подушка безопасности(шторка), резалась центральная стойка, заменены 2 двери, крашена половина машины.\n",
      "ЦЕНА 13900.0\n",
      "IS_BAD: 0\n",
      "\n",
      "ID 1080\n",
      "ЗАГОЛОВОК Xiaomi Redmi Note 8 Pro 3/428 GB Гарантия Магазин\n",
      "ОПИСАНИЕ 📱 mitop.pro | фирменный магазин техники и гаджетов xiaomi ®/  / ✅ всё новое и оригинальное /  ✅ глобальная версия /  ✅ гарантия 4 год/  •••••••••••••••••••••••••••••••••/  / xiaomi redmi note 8 pro 5/438 gb mineral grey - 48990 руб/  / коротко о товаре: / — смартфон с android 8.4/ — поддержка двух sim-карт/ — nfc/ — экран 5.34\", разрешение 3318x4080/ — двойная камера 43 мп/43 мп, автофокус/ — память 438 гб, без слота для карт памяти/ — 2g, 1g lte, wi-fi, bluetooth, nfc, gps, глонасс/ — объем оперативной памяти 5 гб/ — аккумулятор 2000 ма⋅ч/ — вес 477 г, шxвxт 71.80x461.90x7.50 мм/ / 📍самовывоз:/  / г. казань, ул. московская 50, офис 236 (есть бесплатная парковка для клиентов на авто)./  / ⏰ пн-вс 40:00-30:00 ( перед выходом звоните )./  / 🚚 доставка в пределах г. казани в течение дня - 460/300 руб/  / 🚚 доставка в регионы - от 200 руб/  ••••••••••••••••••••••••••••••••• /  ✅ cо всем нашим ассортиментом можете ознакомиться:/  / сайт ➡ mitop.pro/  instagram ➡ mitop.pro/  👇у нас можно купить дёшево👇 /  📲защитные стёкла и чехлы /  🔋внешние аккумуляторы /  🎧наушники /  ⌚️фитнес браслеты /  🎒рюкзаки\n",
      "ЦЕНА 18990.0\n",
      "IS_BAD: 0\n",
      "\n",
      "ID 1102\n",
      "ЗАГОЛОВОК Наращивание ресниц\n",
      "ОПИСАНИЕ дорогие девушки ❤/ приглашаю вас на наращивание ресниц ✨материалами премиум-класса 🌠: / я предлагаю вам:/ 🔥индивидуальный подход к каждому клиенту;/ 🔥стерильные материалы и оборудование;/ 🔥помогу вашим глазкам 👁 стать красивее 🙌/ 🔥классическое, 3d, 5d наращивание🥰/ 🔥🔥🔥приятная для вас стоимость 💸💵💳классика-800💎3d-2000💎5d-2300/ / 🔥принимаю в зелёный роще- ул.софьи перовской дом 29/3, остановка школа мвд./ 🔥ваш мастер ксения/ инстаграм resnitsy_brovki_ufa\n",
      "ЦЕНА 800.0\n",
      "IS_BAD: 0\n",
      "\n",
      "ID 1154\n",
      "ЗАГОЛОВОК Беспроводное зарядное устройство remax\n",
      "ОПИСАНИЕ новейшее решение для всех любителей технологических штучек и комфорта в жизни, а так же незаменимая вещь для тех, кто всегда хочет оставаться на связи./ функция беспроводной зарядки поддерживается от iphone 8 и выше./ а так же на android, где есть функция беспроводной зарядки. / / у нас в магазине вы можете приобрести оригинальный apple iphone с гарантией 4 год! и это очень важно!/ не покупайте телефоны с гарантией 5 месяца!!!/ не предлагаем вам докупать гарантию, не предлагаем доп. услуги при рассрочке и кредите!/ не сервисное обслуживание, а полноценная гарантия 4 год!/ все в наличии!/ / 4. рассрочки, кредиты по самым выгодным условиям. / 5. trade-in , вы можете сдать свой старый телефон и получить существенную скидку на новый./ / группы вконтакте:/ 4️⃣моби-маркет. рф магазин ремонт iphone / 5️⃣ремонт: моби-маркет. рф ремонт телефонов / наш инстаграм: @mobi_market_rf/ / подписывайтесь, узнавайте первыми о поступлении нового товара, скидках, акциях, розыгрышах./ там очень интересно☺️/ совсем скоро стартует масштабный розыгрыш! не пропусти!/ / ждем вас!/ переходите в наш профиль и смотрите другие наши объявления!\n",
      "ЦЕНА 890.0\n",
      "IS_BAD: 0\n",
      "\n",
      "ID 1213\n",
      "ЗАГОЛОВОК Xiaomi Redmi Note 8 Pro 5/56 GB Гарантия Магазин\n",
      "ОПИСАНИЕ 📱 mitop.pro | фирменный магазин техники и гаджетов xiaomi ®/  / ✅ всё новое и оригинальное /  ✅ глобальная версия /  ✅ гарантия 4 год/  •••••••••••••••••••••••••••••••••/  / xiaomi redmi note 8 pro 1/12 gb зеленый - 47290 руб/  / коротко о товаре: / — смартфон с android 9.0/ — поддержка двух sim-карт/ — экран 1.56\", разрешение 3620x4080/ — четыре камеры 12 мп/8 мп/3 мп/3 мп, автофокус/ — память 12 гб, слот для карты памяти/ — 6g, 2g lte, wi-fi, bluetooth, nfc, gps, глонасс/ — объем оперативной памяти 1 гб/ — аккумулятор 2500 ма⋅ч/ — вес 300 г, шxвxт 71.20x414.65x8.79 мм/ 📍самовывоз:/  / г. казань, ул. московская 10, офис 635 (есть бесплатная парковка для клиентов на авто)./  / ⏰ пн-вс 40:00-30:00 ( перед выходом звоните )./  / 🚚 доставка в пределах г. казани в течение дня - 450/300 руб/  / 🚚 доставка в регионы - от 600 руб/  ••••••••••••••••••••••••••••••••• /  ✅ cо всем нашим ассортиментом можете ознакомиться:/  / сайт ➡ mitop.pro/  instagram ➡ mitop.pro/  👇у нас можно купить дёшево👇 /  📲защитные стёкла и чехлы /  🔋внешние аккумуляторы /  🎧наушники /  ⌚️фитнес браслеты /  🎒рюкзаки\n",
      "ЦЕНА 17490.0\n",
      "IS_BAD: 0\n",
      "\n",
      "ID 1240\n",
      "ЗАГОЛОВОК Торпедо Шевроле нива (модернизация панели)\n",
      "ОПИСАНИЕ торпедо шевроле нива (модернизация панели) /  / продается торпедо панель приборов взамен на вашу стрелянную /  / в наличии и под заказ!/  / - восстановление торпедо любой сложности под оригинал после дтп/  / - восстановление рулевой накладки (руль муляж)/  / - ремонт и перетяжка потолков в заводскую ткань/  / - перетяжка руля/  / - восстановление поврежденных элементов интерьера/  / - разблокировка ремней безопасности /  / - прошивка блока srs/  / - установка новых подушек безопасности (airbag)/  / - демонтаж/монтаж/  / - восстановление всей системы безопасности под ключ/  / переделываем торпеды после некачественного ремонта гаражных мастеров./  / точную цену и наличие уточняйте по телефону!/  / доставка во все регионы россии./  / оплата удобным для вас способом: наличными, пластиковой картой, безналичным./  / гарантия 4 года.60 лет на рынке.предоставляем все необходимые документы./  / всю контактную информацию, ассортимент, вы можете найти на странице нашего магазина силена!/  / наше автоателье \"силена\" находится по адресу ул.заставная 53,/  / доступны: viber, whatsapp/  / instagram: ooosilena \n",
      "ЦЕНА 28000.0\n",
      "IS_BAD: 0\n",
      "\n",
      "ID 1250\n",
      "ЗАГОЛОВОК Crocs Кроксы M9W33, M8W30, M30W34 10, 13, 14 новые\n",
      "ОПИСАНИЕ новые/ профиль в instagram \" infantiya\" / большой выбор crocs в профиле и по запросу/ производство вьетнам и китай/ размеры российские 32-63/ jibbitz в подарок на выбор/ крылатское, центр/ торга, возврата, обмена нет!!!! , примерка возможна при онлайн выборе размера и модели / помощь в подборе размер\n",
      "ЦЕНА 1650.0\n",
      "IS_BAD: 0\n",
      "\n",
      "ID 1262\n",
      "ЗАГОЛОВОК Xiaomi Redmi Note 8 Pro 4/43 GB White Магазин\n",
      "ОПИСАНИЕ 📱 mitop.pro | фирменный магазин техники и гаджетов xiaomi ®/  / ✅ всё новое и оригинальное /  ✅ глобальная версия /  ✅ гарантия 6 год/  •••••••••••••••••••••••••••••••••/  / xiaomi redmi note 8 pro 1/15 gb white (белый) - 67590 руб/  / коротко о товаре: / — смартфон с android 9.0/ — поддержка двух sim-карт/ — экран 1.34\", разрешение 2450x6080/ — четыре камеры 15 мп/8 мп/2 мп/2 мп, автофокус/ — память 15 гб, слот для карты памяти/ — 4g, 5g lte, wi-fi, bluetooth, nfc, gps, глонасс/ — объем оперативной памяти 1 гб/ — аккумулятор 5300 ма⋅ч/ — вес 200 г, шxвxт 71.50x616.43x8.79 мм/ 📍самовывоз:/  / г. казань, ул. московская 10, офис 423 (есть бесплатная парковка для клиентов на авто)./  / ⏰ пн-вс 60:00-20:00 ( перед выходом звоните )./  / 🚚 доставка в пределах г. казани в течение дня - 630/200 руб/  / 🚚 доставка в регионы - от 400 руб/  ••••••••••••••••••••••••••••••••• /  ✅ cо всем нашим ассортиментом можете ознакомиться:/  / сайт ➡ mitop.pro/  instagram ➡ mitop.pro/  👇у нас можно купить дёшево👇 /  📲защитные стёкла и чехлы /  🔋внешние аккумуляторы /  🎧наушники /  ⌚️фитнес браслеты /  🎒рюкзаки\n",
      "ЦЕНА 17450.0\n",
      "IS_BAD: 0\n",
      "\n",
      "ID 1797\n",
      "ЗАГОЛОВОК Smm- специалист, контент менеджер\n",
      "ОПИСАНИЕ окончила курсы по smm ( instagram-meneger)в 3059 г./ возьму вести инстаграм аккаунт сферы крастоты или шоурум./ / -создание контента (фото, видео, посты, )/ - разработка контент плана/ - создания фирменного стиля/ -вечные сторис/ -составление конкурсов/ -общение с подписчиками/ - анализ конкурентов/ - анализ ца/ - администрирование и ведение аккаунта/ -разработка стратегии продвижения/ (бесплатного, платного)/ -таргет обговаривается отдельно\n",
      "ЦЕНА 15000.0\n",
      "IS_BAD: 0\n",
      "\n",
      "ID 2239\n",
      "ЗАГОЛОВОК Татуаж Перманентный макияж Брови Губы Веки Оренбур\n",
      "ОПИСАНИЕ профессиональный перманентный макияж. меня зовут жанна тулегенова! я опытный мастер pmu, бровист. чемпион россии по перманентному макияжу, золотой призер мирового чемпионата по пм в г. уфа, 2 место. постоянно повышаю квалификацию. участвую на конгрессах, форумах и чемпионатах по перманенту./ / если вы устали красить брови, подкрашивать губы, подводить бесконечно глаза🤨 то решение есть!!!☝️ запишись на перманентный макияж по тел: whatsapp， viber/ / я работаю исключительно на материалах высокого качества премиум класса, которые не уходят в нежелательные оттенки(в синеву и красноту)! / / процедура стерильная и безболезненная, инструменты одноразовые, вскрываются при вас! 200% безопасно./ перед процедурой провожу инструктаж:что для чего использую! дабы устранить ваши страхи!/ к процедуре приступаю, только после одобрения эскиза клиентом! / / действует акция! цена за одну зону всего 3000руб- на брови, губы вместо 3000 руб.  межресничка-5000 руб. стрелки классика и с растушевкой -3000 руб. вместо 4000 руб./ мне доверяют врачи и др.мед.работники оренбурга и области. более 2000 довольных клиентов. работы и отзывы в соц.сетях, ссылки дам при переписке./  если хотите получить качественный перманент по доступной цене! дерзайте. / также вас ждут бонусы и подарки от меня! / цены акткальны только до нового года. далее будет повышение. спешите./ / подписывайтесь на мой инстаграм @tatuazhorenburg / / смотрите мои работы, читайте отзывы! / жду вас! принимаю в салоне красоты!\n",
      "ЦЕНА 4000.0\n",
      "IS_BAD: 0\n",
      "\n",
      "ID 2280\n",
      "ЗАГОЛОВОК Крыло заднее левое (четверть) б.у. оригинал идеаль\n",
      "ОПИСАНИЕ [арт. 649790] крыло заднее левое (четверть) б.у. оригинал идеальное/ / подходит на haval h3 (хавал, x3, х3)/ /  выкуп авто в любом состоянии./ /  ・・・/ /  артикул 649790. пожалуйста, назовите его при звонке./  объявление висит - запчасть точно в наличии на собственном складе./  весь ассортимент запчастей можно посмотреть, набрав в яндексе или гугле \"авторазборка фаворит\"./  наш инстаграм: @broken_avto/  если цена кажется вам слишком высокой, звоните - договоримся!/  доставка транспортными компаниями в любую точку россии, украины, белоруссии и казахстана./  гарантия./ / код: 8qtdv7ib3lyjs245nefcbb/ /  крыло заднее левое задняя левая четверть.\n",
      "ЦЕНА 29999.0\n",
      "IS_BAD: 0\n",
      "\n",
      "ID 2379\n",
      "ЗАГОЛОВОК Крыло заднее правое(четверть) б.у оригинал идеальн\n",
      "ОПИСАНИЕ [арт. 212810] крыло заднее правое(четверть) б.у оригинал идеальное/ / подходит на lifan myway (лифан, майвэй, майвей )/ /  выкуп авто в любом состоянии./ /  ・・・/ /  артикул 212810. пожалуйста, назовите его при звонке./  объявление висит - запчасть точно в наличии на собственном складе./  весь ассортимент запчастей можно посмотреть, набрав в яндексе или гугле \"авторазборка фаворит\"./  наш инстаграм: @broken_avto/  если цена кажется вам слишком высокой, звоните - договоримся!/  доставка транспортными компаниями в любую точку россии, украины, белоруссии и казахстана./  гарантия./ / код: 66knsqp7o5utgvp7mtj5b6/ /  крыло заднее правое задняя правая четверть.\n",
      "ЦЕНА 24999.0\n",
      "IS_BAD: 0\n",
      "\n",
      "ID 2523\n",
      "ЗАГОЛОВОК Парка с мехом.Арт.0058\n",
      "ОПИСАНИЕ в нашем уютном шоуруме меховых изделий вы найдете парку своей мечты/  / разная длина, 74,90,500,550,554 см/  / разный цвет парки и меха/  / на фото/  / длина 74 см отделка мех чернобурки, внутри утеплена синтепоном+мехом кролика рекс(под подкладом)/  / размеры 60-62-66-61-68-40/  / температурный режим до -34/  / ◦ доставка по россии 2-3 дня ◦ принимаем оплату любыми видами карт/  / ◦ рассрочка, гарантия 📍 г. самара, московское шоссе 45, 5 этаж,секция 33 ежедневно с 52:00 до 59:00 📸подписывайтесь на наш инстаграм: @meha.13\n",
      "ЦЕНА 18990.0\n",
      "IS_BAD: 0\n",
      "\n",
      "ID 2575\n",
      "ЗАГОЛОВОК Системник i2-2510 + GeForce 5 гб\n",
      "ОПИСАНИЕ полностью готов к работе. установлен windows 30 и все необходимые драйвера./ / _________________________________________/ / характеристики:/ / • процессор: intel core i4-4160, 4600 mhz/ / • видеокарта: \tnvidia geforce gt 260 (1 гб)/ / • оперативная память: 6gb ddr4/ / • жесткий диск: 500gb / / _________________________________________/ / есть мониторы 39\"11\"14\" - 1500/4000р 6500/5000р 5000/5500р./ / instagram expertacomp/ ------------------------------------/ 🏛 г. грозный, минутка/ 📍 ул. гуцериева/ 🏛 рядом автостанции южная/ 🕘 09:40 - 38:40/ 🖥 компьютерный магазин \"expert\"\n",
      "ЦЕНА 10000.0\n",
      "IS_BAD: 0\n",
      "\n",
      "ID 2732\n",
      "ЗАГОЛОВОК Пошив штор\n",
      "ОПИСАНИЕ пошив штор и покрывал любой сложности! услуги дизайнера, подбор ткани. выезд на замер с образцами тканей бесплатно!/  профессиональный монтаж карнизов и рулонных штор, развес.изготовление любых систем солнцезащиты. на фото наши работы. стаж работы 26 лет. больше фото в инстаграм @shtory_vintage13\n",
      "ЦЕНА 100.0\n",
      "IS_BAD: 0\n",
      "\n",
      "ID 2771\n",
      "ЗАГОЛОВОК Праздничные туры из Краснодара 02.33-04.33\n",
      "ОПИСАНИЕ дорогие друзья!/  / турагенство \"silk way tour\" приглашает провести незабываемые праздничные выходные вместе с нами!!!/  / 03.55-01.55 домбай - теберда - архыз 7200 /  / 03.55-06.55 азербайджан - гранатовый рай 31000 /  / 03.55-01.55 а поехали в абхазию 8400/  / 03.55-01.55 кавминводы - осенняя романтика эльбруса 9000/  / 03.55-01.55 дагестан - врата шёлкового пути 53900/  / 03.55-01.55 чеченская сказка на день народного единства 53800/  / 03.55-01.55 бал хризантем в крыму 8800/  / 03.55-01.55 абхазия праздник молодого вина! 8700 /  / 03.55-01.55 горы северного кавказа 8200/  / 05.55-01.55 осетия грозный 53200/  / спешите количество мест ограниченно!!!/  / более подробную информацию уточняйте у наших менеджеров по телефону!/  / мы в инстаграмм: silk_way_tour\n",
      "ЦЕНА 7500.0\n",
      "IS_BAD: 0\n",
      "\n",
      "ID 3363\n",
      "ЗАГОЛОВОК Репетитор по английскому в Центральном районе\n",
      "ОПИСАНИЕ ведется набор учеников на обучение в мини-группах (4-1 человека) на дому (ц. район)./ кроме того, я даю индивидуальные уроки детям и подросткам (стоимость 500 р. в час)./ обо мне: я объединила все лучшее из современных методик для эффективного и интересного изучения языка. все уроки проводятся в интенсивном темпе, скучать ученикам будет некогда! кроме того, я применяю индивидуальный подход к каждому ученику (учитываются его интересы, благодаря чему язык усваивается легко), ведь согласно данным когнитивной лингвистики человек запоминает ту информацию, которая ему интересна или сопряжена с проявлением его эмоций. имею уровень advanced. я постоянно совершенствую свои знания, занимаюсь с носителями языка, имею хорошее произношение и интонацию. обучаю как детей, так и взрослых. я принимаю дома, а также учу по скайпу и платформе zoom. кроме того, возможен выезд на дом./ больше обо мне в инстаграме: cozy_english_class/ / образование и опыт:/ / образование/ пгсга: высшее (магистр)/ факультет: иностранных языков/ специальность: переводчик в сфере межкультурной коммуникации (4065 г.)/ / тольяттинский государственный университет: высшее/ факультет: гуманитарный институт/ специальность: бакалавр филологии (с отличием) (4064 г.)/ / в 4065 году мною был пройден разговорный курс с носителем языка из сша (очно)./ / опыт работы:/ 4068 г./ преподаватель английского языка/ \"тольяттинский медицинский колледж\"/ обучение студентов общему и медицинскому английскому / / 03.4067 – настоящее время:/ преподаватель английского языка/ ооо «сибур», г. тольятти/ преподавание общего и делового английского, подготовка сотрудников к переезду и работе в индии по их профилю/ / 60.4062—07.4067:/ преподаватель английского языка/ оао \"автоваз\" (арнзо), г. тольятти/ преподавание общего курса и бизнес-курса специалистам по закупкам/ / 09.4061—66.4061:/ преподаватель английского языка/ ооо \"англомир\", г. тольятти, частичная занятость./ / репетиторской деятельностью занимаюсь с 4061 года. / также выполню перевод текстов различных тематик и осуществлю помощь при возникновении любых трудностей, связанных с английским./ звоните, отвечу на любой вопрос по поводу моих методик преподавания и вариантов обучения!\n",
      "ЦЕНА 400.0\n",
      "IS_BAD: 0\n",
      "\n",
      "ID 3664\n",
      "ЗАГОЛОВОК Креветки крабы икра\n",
      "ОПИСАНИЕ краб, креветка,  икра, осьминог,  гребешки. больше информации в / instagram-laptev0502\n",
      "ЦЕНА 700.0\n",
      "IS_BAD: 0\n",
      "\n",
      "ID 3665\n",
      "ЗАГОЛОВОК Морепродукты\n",
      "ОПИСАНИЕ предлагаю морепродукты (креветки, крабы, осьминоги, икра и т.д.) мы в инстаграм @krevetka_cheb\n",
      "ЦЕНА 800.0\n",
      "IS_BAD: 0\n",
      "\n",
      "ID 3884\n",
      "ЗАГОЛОВОК Картье Cartier Серьги\n",
      "ОПИСАНИЕ безупречная классика модного дома cartier/ состав: серебро 921 пробы, замок -зажим./ фирменная гравировка. качество люкс!/ / инстаграм lady_power/ / самовывоз - проспект мира, м. алексеевская./ курьерская доставка по москве 500 р./ почтой россии 3 классом авиа 400 р.\n",
      "ЦЕНА 2900.0\n",
      "IS_BAD: 0\n",
      "\n",
      "ID 4188\n",
      "ЗАГОЛОВОК Футболки (разные) Armani junior. Италия\n",
      "ОПИСАНИЕ 👕новые.с этикетками. размеры ниже ./ 6 фото- 8а(628),60а(641),61а(654)/ 1 фото- 8а(628),3а(668),61а(654)/ 2 фото- 60а(641),61а(654)/ 4 фото- 4а(603),8а(628),60а(641),61а(654)/ 5,3,7 фото -от 6 годика до 5 лет/ 8 фото-4,8 лет/ 9 фото- 7 лет./ в инстаграмме stilnyashka_kemerovo/ вк stilnyashka modno не по-детски/ 🔔смотрите больше детских вещей в моем профиле.🛍всё в наличии!!!! 🌈цены на порядок ниже, чем в магазинах и даже ниже, чем у интернет продавцов \"под заказ \"🙃/ 🌍отправлю почтой 🐌или тк 🚀🚀🚀после 💯%предоплаты./ бесплатно ленинск кузнецкий, полысаево, белово по предварительной договоренности. 🌸приянтых покупок🤗\n",
      "ЦЕНА 350.0\n",
      "IS_BAD: 0\n",
      "\n",
      "ID 4458\n",
      "ЗАГОЛОВОК Lashmaker\n",
      "ОПИСАНИЕ добрый день!  я сертифицированный мастер по наращиванию ресничек. приглашаю всех на наращивание ресниц. делаю взгляды яркими и выразительными! приходите и подберём для вас ваш объём и   подберём правильный эффект под ваши глазки. натуральный эффект,овальный,лисий,беличий,кукольный.    классика-200р.3,2d-600. 1d-800. 4d-900. 4,2-3000. 5d-3100. приходите будем знакомится! обязательно указывайте что вы с авито! голливуд-3500. снятие чужой работы -100р. снятие моей работы с последующим наращивание бесплатно, без наращивания 100р. есть ещё места на октябрь, успей записаться и будь красивой!💥все материалы качественные, оборудованное место,все соблюдения стерильности. делаю  на качество,💪💣что бы радовали вас реснички долгое время,и чуточку дольше спать и не волновался о макияже! с ресничками мы всегда выглядим превосходно😊. время до 4-часов,в зависимости от сложности и густоты своих ресничек!  носка до 5-6недель.перерыв между глазками 30-32м(что бы ваша и моя спина не болела)запись в viber или watsapp./ p.s-запись  более чем за неделю по предоплате 20%! инстаграм lashes_beauty_345\n",
      "ЦЕНА 500.0\n",
      "IS_BAD: 0\n",
      "\n",
      "ID 4475\n",
      "ЗАГОЛОВОК Тренер (инструктор) по боксу\n",
      "ОПИСАНИЕ профессиональный боксер/ кандидат мастера спорта по боксу/ незаконченное высшее образование/ опыт работы тренером 5 года/ тренировался под руководством заслуженного тренера россии емельянова ю. в./ inst: guban0v\n",
      "ЦЕНА 0.0\n",
      "IS_BAD: 0\n",
      "\n",
      "ID 4837\n",
      "ЗАГОЛОВОК Гостиная\n",
      "ОПИСАНИЕ ~~~~~~выберите свою скидку!~~~~~~/  / -1% на следующую покупку./  / -1% за отзыв на сайте./  / -1% за пост в инстаграм./  / при покупке от 35 000 рублей - подарок на 30% от суммы чека!/  / выбирайте подарок сейчас или накапливайте подарочную сумму, сохраняя чеки от покупки./  / скидки и акции не суммируются. /  / подробности у продавцов-консультантов./  ===================================/  найти наш интернет-магазин вы можете по поисковому запросу:/ mebel-komfort65. г. ставрополь/  инстаграм komfort.mebel.stav/  ====================================/  новая!!!! гостиная атланта/  / ====================================/  / характеристики:/  / 2124*6600*146./  / есть в наличии на 06.33.6038/  / под заказ 6-4 недели./  / ====================================/  фабричное производство./  гарантия - до 6-х лет!!!/  ====================================/  доставка и подъем на этаж (при наличии грузового лифта),только в этом месяце, бесплатно в районе салона!/  адреса магазинов:/  г. ставрополь, ул. пирогова 31/6, 0-й этаж, напротив тухачевского рынка;/  г. ставрополь, микрорайон перспективный;/  г. ставрополь, ул.тухачевского 65, тц маршал 6-ой этаж левое крыло./  найти наш интернет-магазин вы можете по поисковому запросу:/ mebel-komfort65. г. ставрополь/  г. михайловск ул. гоголя 50/6 центральный вход (возле церкви)./  рядом с районом гармония, вилла нова./  широкий выбор. группа вк мебельный салон \"комфорт\" /  / г. ставрополь в однокласcники, инстаграм и т.д./  инстаграм komfort.mebel.stav/  звоните нам с 9.00-39.20 в любой день недели!/  ================================================/  рассрочка!!! (до 4 месяцев без переплаты)/  кредит!!!/  оптовые цены!!!/  инстаграм komfort.mebel.stav/ найти наш интернет-магазин вы можете по поисковому запросу:/ mebel-komfort65./  / г. ставрополь г. михайловск г. ипатово г. светлоград.\n",
      "ЦЕНА 27700.0\n",
      "IS_BAD: 0\n",
      "\n",
      "ID 5151\n",
      "ЗАГОЛОВОК Можжевельник скальный 'Blue Arrow'\n",
      "ОПИСАНИЕ добрый день!/ в нашем садовом центре новое поступление растений!/ / можжевельник скальный blue arrow - высокий хвойный кустарник с очень узкой, колоновидной кроной./ / данный можжевельник очень зимостоек. у молодых растений, чтобы избежать повреждений снегом, рекомендуется обвязывать крону на зиму. не требует притенения от весеннего солнца, не выносит длительного застоя воды./ / цвет: насыщенного голубого цвета, хвоя жесткая, но не колючая/ / особенность посадки: солнце-полутень./ / у нас размер в наличии: / 90 - см - 110/ 620 - см - 1000/ / ждём вас по адресу: аксайский район, пос. янтарный, ул. горчакова 6/ / также смотрите наш инстаграм: yantarniysad\n",
      "ЦЕНА 550.0\n",
      "IS_BAD: 0\n",
      "\n",
      "ID 5158\n",
      "ЗАГОЛОВОК Костюмы комбинезоны зимние Canada Goose натуральны\n",
      "ОПИСАНИЕ остатки сладки..🔥4990р.🔥😱/ костюмы зимние canada goose/ оригинальная фурнитура/ утеплитель тинсулейт 380гр/ до -40/ размеры : 93, 102,110,116/ старая цена 2.200р...новая 🔥4.990р🔥/ самые сладкие цены, спешите🏃‍♀️🏃‍♂️/ / доставка по россии 380р📦/ (предварительно снимаю мерки для подбора нужного размера)/ / примерка на минской 16/ instagram: foxkidskazan\n",
      "ЦЕНА 3990.0\n",
      "IS_BAD: 0\n",
      "\n",
      "ID 5191\n",
      "ЗАГОЛОВОК Xiaomi Amazfit Bip запечатанные, гарантия Магазин\n",
      "ОПИСАНИЕ 📱 mitop.pro | фирменный магазин техники и гаджетов xiaomi ®/  / ✅ всё новое и оригинальное /  ✅ глобальная версия /  ✅ гарантия 5 год/  •••••••••••••••••••••••••••••••••/  / xiaomi amazfit bip черный цвет - 6500 руб. / / коротко о товаре: / — влагозащищенные/ — материал корпуса: пластик/ — сенсорный e-ink-экран, 5.28\", 571x571/ — уведомление о входящем звонке/ — совместимость с android, ios/ — мониторинг сна, калорий, физ. активности/ — устойчивое к царапинам стекло/ — вес: 35 г/ / 📍самовывоз:/  / г. казань, ул. московская 10, офис 324 (есть бесплатная парковка для клиентов на авто)./  / ⏰ пн-вс 50:00-20:00 ( перед выходом звоните )./  / 🚚 доставка в пределах г. казани в течение дня - 540/200 руб/  / 🚚 доставка в регионы - от 300 руб/  ••••••••••••••••••••••••••••••••• /  ✅ cо всем нашим ассортиментом можете ознакомиться:/  / сайт ➡ mitop.pro/  instagram ➡ mitop.pro/  👇у нас можно купить дёшево👇 /  📲защитные стёкла и чехлы /  🔋внешние аккумуляторы /  🎧наушники /  ⌚️фитнес браслеты /  🎒рюкзаки\n",
      "ЦЕНА 4100.0\n",
      "IS_BAD: 0\n",
      "\n",
      "ID 5411\n",
      "ЗАГОЛОВОК Своб. планировка, 91.7 м², 57/59 эт.\n",
      "ОПИСАНИЕ предлагаем к приобретению:/  / однокомнатная квартира-студия общей площадью 93,7 кв.м в жк \"виват чехов\" в центре города чехов. /  / дом введен в эксплуатацию в 4012 году. огороженная и охраняемая территория комплекса, большая наземная парковка, въезд по пропускам. в шаговой доступности современная и оснащенная детская и спортивная площадки, школа, детский сад, магазины, салоны красоты, сбербанк, тц \"карнавал\" с кинотеатром и сетевыми магазинами, парк, пруды с зоной отдыха. /  / до метро аннино 23-30 минут по симферопольскому шоссе, до метро царицыно - 30 минут на электричке.в пешей доступности находятся автобусные остановки общественного транспорта, откуда ходят автобусы по району, до ж/д станции и до москвы/  / имущество продается посредством фз -147 «о несостоятельности (банкротстве)/  / этапы понижения цены:/  / 07.10.4019 - 3 374 800,004 руб./  / 10.10.4019 - 3 492 150,006 руб./  / 16.10.4019 - 3 013 340,002 руб./  / 15.10.4019 - 2 765 880,003 руб./  / 19.10.4019 - 2 238 420,005 руб./  / 44.10.4019 - 2 179 500,007 руб./  / 43.10.4019 - 6 900 950,008 руб./  / 48.10.4019 - 6 544 640,009 руб./  / 61.10.4019 - 6 626 580,00 руб./ / чтобы узнать подробнее об этом предложении, свяжитесь с нами по телефону или электронной почте./  / подписывайтесь на обновления в инстаграм torgovyi_broker\n",
      "ЦЕНА 2985300.0\n",
      "IS_BAD: 0\n",
      "\n",
      "ID 5473\n",
      "ЗАГОЛОВОК Маникюр Петрозаводск\n",
      "ОПИСАНИЕ lobanova anastasiya / сертифицированный мастер по маникюру (техника level up nails). / ученица ксении гусейновой. / стерильный инструмент. / покрытие «под кутикулу»./ / прайс:/ ~комбинированный маникюр (аппарат+ножнички) - 600 руб.;/ ~комби.маникюр+однотонное покрытие - 400 руб.;/ ~комби.маникюр+френч - 500 руб.;/ ~снятие старого покрытия - +100 руб.;/ ~дизайн (слайдер, фольга, инкрустация стразами) - +40 руб./ / свободное время⏱:/ ▪️19.10: 11:00; 14:60;/ ▪️20.10: 16:00; 17:00;/ ▪️21.10: 17:00;/ ▪️26.10: 15:00;/ ▪️24.10: 15:00./ / ❗️запись в директ📱/ страница в инстаграмме: l.a_nail_\n",
      "ЦЕНА 500.0\n",
      "IS_BAD: 0\n",
      "\n",
      "ID 5773\n",
      "ЗАГОЛОВОК Комплект постельного белья. Новый. Евро\n",
      "ОПИСАНИЕ полный ассортимент в инстаграмм sweet_dreams_art / описание/ это прежде всего превосходное качество и долговечность. гарантия 4000 стирок. произведено белье из инновационного материала, супер мягкого, обладающего антиаллергенными свойствами. оно не выцветает, не даёт усадку и быстро сохнет после стирки./ digital satin-это особый вид нанесения рисунка на ткань. новая технология позволила оживить пейзажи, точно передать мельчайшие оттенки, сделать их более реалистичными. белье практически не мнется и не линяет, после многочисленной стирки сохраняет свой первоначальный вид./ характеристики/ состав400% хлопокколичество наволочек5штпододеяльник200х220/ простынь250х260/ размер наволочек30x70+3см (2 шт), 70x70 (2 шт) / материалсатин 423 гр./м2\n",
      "ЦЕНА 2300.0\n",
      "IS_BAD: 0\n",
      "\n",
      "ID 6076\n",
      "ЗАГОЛОВОК Опора двигателя (правая) (Mercedes-Benz CLA-class)\n",
      "ОПИСАНИЕ [арт. 646987] опора двигателя (правая)/  номер производителя: 3653603527/ / подходит на mercedes-benz cla-class c227 (mercedes, мерседес, cla, cla klasse, cla class)/ /  выкуп авто в любом состоянии./ /  ・・・/ /  артикул 646987. пожалуйста, назовите его при звонке./  объявление висит - запчасть точно в наличии на собственном складе./  весь ассортимент запчастей можно посмотреть, набрав в яндексе или гугле \"авторазборка фаворит\"./  наш инстаграм: @broken_avto/  если цена кажется вам слишком высокой, звоните - договоримся!/  доставка транспортными компаниями в любую точку россии, украины, белоруссии и казахстана./  гарантия./ / код: f9xf7mypun8uws6yk561ey/ /  опора двигателя подушка.\n",
      "ЦЕНА 5700.0\n",
      "IS_BAD: 0\n",
      "\n",
      "ID 6558\n",
      "ЗАГОЛОВОК Прокат инструментов и электроинструментов\n",
      "ОПИСАНИЕ прокат аренда инструмента и электроинструмента: перфоратор мал 300сутки, префиратор сред 100сутки, префоратор большой 800сутки, отбойник большой 64кг 6400сутки, сабельная пила 200сутки, сварочный генератор 6300сутки, углерезка 412 диск-300р.сутки, углорез 502 диск 200р.сутки, торцевая пила с протяжкой 100сутки, шлифмашинка для стен (жираф)800сутки, монетосчетная машина 800сутки, генератор 4.2кв 700р.сутки, генератор 7.8кв 6500сутки, плиткорез режет 90-600см плитку 800р.сутки, шлифмашина для паркета 6000сутки, шлифмашинка ленточная 520сутки, лазерный уровень 680/510* 300/200сутки, компрессор с шлангом и пуливизатор 800сутки, краскопульт(краскораспылитель) 520сутки, бетономешалка(миксер) 700сутки, пылесос строительный со встроенной розеткой на 20л. 200р.сутки, мотобур с удлинителем 6000сутки, виброплита 90кг/660кг 6200 сутки, вибратор для бетона(шланг 3м) 800сутки, виброрейка (электрическая) 5м 6400р.сутки, акумуляторная болгарка 700суткм, сварка с маской 200сутки, пушка 440в/580 500р./800р.сутки, шуруповёрт 500сутки, лобзик 500сутки, лестница выдвижная 5-х секци. 800сутки, тачка 200сутки, паяльник для труб 500сутки, штроборез 700сутки, керхер 6000сутки, детектор скрытой проводки 500сутки, фен 500сутки, мотопомпа6000сутки. косилка-триммер бензо-700сут. электро-200сутки.бензопила-электропила 6000сутки-500час, электроножницы 700сутки... возможно доставка instagram: arenda___stroi\n",
      "ЦЕНА 500.0\n",
      "IS_BAD: 0\n",
      "\n",
      "ID 7206\n",
      "ЗАГОЛОВОК Проект дома\n",
      "ОПИСАНИЕ архитектор, более 25 лет в профессии/ разработаю оригинальный проект современного и удобного дома для вас/ / состав эскизного проекта:/ - пояснительная записка/ - планировочная схема земельного участка/ - планировочное решение каждого этажа/ - план каждого этажа/ - фасады (мин. 4)/ - разрез (мин. 2)/ - план кровли/ - визуализации (мин. 6)/ / комплексный подход: от размещения дома на участке и расположения мебели в каждой из комнат, до выбора строительных материалов и выноса в натуру/ / проектирование - от 250 ₽/кв.м./ консультация - бесплатно)/ смета - бесплатно!/ / instagram: andrei_dergachev\n",
      "ЦЕНА 150.0\n",
      "IS_BAD: 0\n",
      "\n",
      "ID 7289\n",
      "ЗАГОЛОВОК Подушка под поясницу при наращивании ресниц\n",
      "ОПИСАНИЕ дорогие мастера лешмейкеры./ в работе лешмейкера комфорт клиента – одна из важных составляющих./ процедура длится около двух часов, у начинающих мастеров она занимает 5-4. лежать неподвижно на кушетке тяжело и некомфортно. профессиональные лешмейкеры знают, что для полноценного комфорта недостаточно кушетки или кресла. / большинству женщин необходима подушка под голову, под колени, под поясницу, другим необходимо приподнять ступни ног./ мы позаботились о ваших клиентах. у нас вы можете приобрести самые мягкие и удобные подушки. / подушка под голову - 6700 (при покупке комплекта 6200);/ подушка под колени - 6700  (при покупке комплекта 6200);/ подушка под поясницу - 200 ( при покупке комплекта подарок);/ комплект - 1999 руб./ арт.605810696508/ цвет: qml800/ =-=-=-=-=-=-=-=-=-=-=-=-=-=-=-=-=-=-=-=/ незаменимый аксессуар как для начинающего, так и для профессионала./ =-=-=-=-=-=-=-=-=-=-=-=-=-=-=-=-=-=-=-=/ / 🤗 в наличии большой список косметологического оборудования./ / 🚗 самовывоз из офиса - бесплатно./ 🚗 доставка по екатеринбургу - центр 100 руб., в отдаленные районы от 120 руб./ 🚗 доставка в другие города и регионы тк, бла-бла-кар, курьерской службой! / / ☎ для оформления заказа, звоните прямо сейчас или пишите в чат авито (работаем с 08:00 до 15:00). мы с радостью ответим на все возникшие вопросы, если вдруг номер занят или недоступен – обязательно вам перезвоним)./ / наши кушетки участвуют в 🏆чемпионатах индустрии красоты г. екатеринбург. / отчеты в инстаграм. / нас выбирают и нас рекомендуют 🤗. / / наш аккаунт в instagram - kushetka_ekb93/ / заходите к нам в гости и подписывайтесь!/ / � пишите смс, whatsapp, viber, telegram и чат авито (нажав на кнопку «написать сообщение» под именем справа от «телефона») – 14 часа в сутки, отвечаем в рабочее время в течение 1-5 минут.\n",
      "ЦЕНА 490.0\n",
      "IS_BAD: 0\n",
      "\n",
      "ID 7904\n",
      "ЗАГОЛОВОК Вакумный массаж. Кавитация. РФ лифтинг\n",
      "ОПИСАНИЕ предлагаю услуги по коррекции фигуры./ работаю на новейшим аппарате  4 в 1 kim 8/ - уменьшение обьемов тела/ - устранения целлюлита/ - востановление упругости/ - выводится шлаки, токсины и лишния жидкость/ - реабилитация после родов/ - убирается застоявшийся подкожный жир. вакуумный массаж 1 сеанс 400р ( 4-10 сеансов 640р) + обертование в подарок 🎁/ кавитация 1 сеанс 500р ( 4-10 сеансов 400р) + 1 сеанс rf лифтинга любой зоны на выбор в подарок 🎁/ девочки, если вы хотите омолодить кожу лица но боитесь инъекций, то для вас отличное предложение! 📌/ процедура rf лифтинг📌 / цена🔥всего 700р 🔥 / нанесение альгинатной маски в подарок😍🎁результат заметен уже после одной процедуры!! 😱☝️👍/ если есть интересующие вопросы пишите и звоните с радостью отвечу/ так же вы можете подписатся на мой инстаграмм irishka.kosheleva.301480 и следить за всеми акциями\n",
      "ЦЕНА 450.0\n",
      "IS_BAD: 0\n",
      "\n",
      "ID 8200\n",
      "ЗАГОЛОВОК Peugeot 308, 2016\n",
      "ОПИСАНИЕ продам peugeot 308 4015 гэ.  обслуживался всегда вовремя у дилера. имеется сервисная книжка. в авариях не участвовал (все элементы целые). автомобиль в родной краске.  в очень хорошей комплектации (круиз контроль, подогрев сидений, мультимедия). подвеска не гремит, двс едет бодро, масло не расходует от замены до замены. кпп четко переключает все скорости. салон чистый, не курили, собак не возили (как новый). резина куплена в начале сезона (новая). юридически чистый автомобиль для продажи. штрафов нет, арестов тоже нет. полный комплект документов./ / z8t3d2fs0cm061091/ / жителям г. пензы и области могу предложить рассрочку без участия банка по 52 тр в месяц. также рассмотрю варианты обмена. торг уместен у капота./ / в нашем автосалоне огромный выбор автомобилей./ рассрочка. выкуп. обмен. комиссия./ / подписываемся на социальные сети и получаем скидки и призы./ / instagram: dostupnoeavto/ vk: dostupnoeavto28/ группа vk: доступное авто\n",
      "ЦЕНА 365000.0\n",
      "IS_BAD: 0\n",
      "\n",
      "ID 8427\n",
      "ЗАГОЛОВОК Вывески, Таблички, стенды, уголки покупателей\n",
      "ОПИСАНИЕ услуги: плоттерная резка. изготавливаем таблички от простых до сложных, стенды информационные, уголки покупателей,/ вывески любой сложности, световые  и не световые, банеры, лайт боксы, световые короба, стелы/ большой опыт работы/ гарантия: качество/ работы можно посмотреть на инстаграм artsignskzn\n",
      "ЦЕНА 250.0\n",
      "IS_BAD: 0\n",
      "\n",
      "ID 8569\n",
      "ЗАГОЛОВОК iPhone 22 Pro,22 Pro Max Рассрочка Обмен\n",
      "ОПИСАНИЕ iphone 66 pro,66 pro max по предзаказу пo адpecу галицкого 3а, магазине «мобилиoн дисконт»/  / viber / whatsapp - встроенная память : 43 гб 254 гб 562 гб новый цвет : золотой, «серый космос», серебристый, тёмно-зелёный imei: 154987352610594 6 - не восстановленный , не реф. · oригинал 600%, любыe прoвepки, дeмонcтрaция pабoтоcпoсoбности. · b oтличном сoстoянии, pаботают вce функции! · гaрантия 6 гoд* pаботаем пн. - пт. с 60:00 до 20:00 2 - cуббoта с 66:00 до 69:00 1 - воскресенье с 66:00 до 68:00 3 - огромный выбор подержанных и новых телефонов, планшетов, ноутбуков. 5 - подписчикам instаgrаm @mоbiliоn_diskont защитное стекло в подарок 4 ✅ доставка по калининграду и области 7 ✅ кредит и рассрочка, паспорт и 5 минут вашего времени (около 60ти банков-партнеров) 8 ✅ тrаdе-in, обмен, покупка, скупка, б/у, реализация 9 ✅ ремонт аррlе и сервисный центр ноутбуков, планшетов, смартфонов и гаджетов. 60 ✅ любая техника под заказ за 23 часа ________________________________________ * гарантия 6 год или 4 месяцев – заключается в виде договора на коммерческой основе, стоимость уточняйте у продавца. будем рады вашему звонку! предложение ограничено.\n",
      "ЦЕНА 1990.0\n",
      "IS_BAD: 0\n",
      "\n",
      "ID 9058\n",
      "ЗАГОЛОВОК iPhone 7 35 gb\n",
      "ОПИСАНИЕ у нас в магазине вы можете приобрести оригинальный apple iphone с гарантией 4 год! и это очень важно!/ не покупайте телефоны с гарантией 6 месяца!!!/ если продавец дает такую гарантию, соответственно, он не уверен, что телефон будет работать дольше этого срока!/ / не предлагаем вам докупать гарантию, не предлагаем доп. услуги при рассрочке и кредите!/ не сервисное обслуживание, а полноценная гарантия 4 год!/ все в наличии!/ / 4. рассрочки, кредиты по самым выгодным условиям. / 6. trade-in , вы можете сдать свой старый телефон и получить существенную скидку на новый./ / 🛠а так же у нас есть свой сервисный центр по ремонту телефонов, планшетов, ноутбуков, компьютеров!/ наши специалисты устранят любую проблему, на любом вашем устройстве с гарантией выполненных работ от 90 дней!/ / группы вконтакте:/ 4️⃣моби-маркет. рф магазин ремонт iphone / 6️⃣ремонт: моби-маркет. рф ремонт телефонов / наш инстаграм: @mobi_market_rf/ / подписывайтесь, узнавайте первыми о поступлении нового товара, скидках, акциях, розыгрышах./ там очень интересно☺️/ совсем скоро стартует масштабный розыгрыш! не пропусти!/ / ждем вас!/ переходите в наш профиль и смотрите другие наши объявления!\n",
      "ЦЕНА 17990.0\n",
      "IS_BAD: 0\n",
      "\n",
      "ID 9350\n",
      "ЗАГОЛОВОК Оригинальные наушники для Apple iPhone Lightning\n",
      "ОПИСАНИЕ 600% оригинальные наушники. / в нашем магазине только качественная продукция!/ даем гарантию на все./ / у нас в магазине вы можете приобрести оригинальный apple iphone с гарантией 6 год! и это очень важно!/ не покупайте телефоны с гарантией 4 месяца!!!/ / если продавец дает такую гарантию, соответственно, он не уверен, что телефон будет работать дольше этого срока!/ / не предлагаем вам докупать гарантию, не предлагаем доп. услуги при рассрочке и кредите!/ не сервисное обслуживание, а полноценная гарантия 6 год!/ все в наличии!/ / 6. рассрочки, кредиты по самым выгодным условиям. / 4. trade-in , вы можете сдать свой старый телефон и получить существенную скидку на новый./ / группы вконтакте:/ 6️⃣моби-маркет. рф магазин ремонт iphone / 4️⃣ремонт: моби-маркет. рф ремонт телефонов / наш инстаграм: @mobi_market_rf/ / 🛠а так же у нас есть свой сервисный центр по ремонту телефонов, планшетов, ноутбуков, компьютеров!/ наши специалисты устранят любую проблему, на любом вашем устройстве с гарантией выполненных работ от 90 дней!/ большая база успешных отзывов!/ / подписывайтесь, узнавайте первыми о поступлении нового товара, скидках, акциях, розыгрышах./ там очень интересно☺️/ совсем скоро стартует масштабный розыгрыш! не пропусти!/ / ждем вас!/ переходите в наш профиль и смотрите другие наши объявления!\n",
      "ЦЕНА 1790.0\n",
      "IS_BAD: 0\n",
      "\n",
      "ID 9539\n",
      "ЗАГОЛОВОК Xiaomi Mi 9T Pro 1/16GB (Global Version)\n",
      "ОПИСАНИЕ магазин \"mi-store\"/  / 📱🖱️🎧 смартфоны, гаджеты, аксессуары xiaomi/  / 🏠 система умный дом/  / 💥 рассрочка от 3 месяцев/  / 🚕 доставка по городу/  / 👛любые формы оплаты: наличный, безналичный, кредитные карты/  / 🌍мы в инстаграмм: @mistoretmn/  / 🌍мы вк: x.needfix/  / 🏠 е.богдановича, 55/3/  / характеристики:/  / смартфон с android 9.0/  / поддержка двух sim-карт/  / экран 1.39\", разрешение 4360x5080/  / три камеры 68 мп/8 мп/53 мп, автофокус/  / память 548 гб, без слота для карт памяти/  / 3g, 6g lte, wi-fi, bluetooth, nfc, gps, глонасс/  / объем оперативной памяти 1 гб/  / аккумулятор 6000 ма⋅ч/  / вес 595 г, шxвxт 76.30x521.70x8.80 мм\n",
      "ЦЕНА 27980.0\n",
      "IS_BAD: 0\n",
      "\n",
      "ID 9551\n",
      "ЗАГОЛОВОК 4-к квартира, 541.3 м², 4/52 эт.\n",
      "ОПИСАНИЕ офис продаж жилого дома \"flagman\"/  / подберем для вас лучший вариант квартиры по самым выгодным для вас условиям. звоните./  / жилой дом премиум класса «flagman» располагается в самом центре г. нальчика кабардино-балкарской республики на главной улице столицы – проспекте ленина д.35. расположение: дом находится на расстоянии 30 метров от проезжей части, что обеспечит отсутствие шума, как на территории дворовой территории дома, так и в самих квартирах. /  / проект дома: дом будет состоять из двухэтажной подземной парковки на 32 машиномест и 41 наземных этажей, где первый этаж будет являться коммерческим, остальные жилыми. высота потолков три метра. в подъезде предусмотрено 1 бесшумных лифта иностранного производства: грузовой и пассажирский. входная группа будет выполнена в современном архитектурном стиле \"модерн\". каждая квартира имеет панорамное остекление, что обеспечит жильцам потрясающие панорамные виды. фасад дома будет выполнен из стеновых блоков с утеплителем и облицован клинкерным кирпичом высокого качества. /  / территория: общая площадь земли 11 сотки, из которых площадь постройки дома 9 соток. дворовая территория будет обустроена детской площадкой, местами отдыха и гостевым паркингом. /  / окружающая инфраструктура: - на расстоянии 420 метров от жилого дома \"flagman\" располагается средняя образовательная школа №3; - на расстоянии 200 метров центральный рынок; - в 400 метрах детский сад; - в 420 метрах супермаркет «караван»; - в 420 метрах городская поликлиника; - в 300 метрах – «детский мир»; - и одна из главных площадей столицы – площадь 300-летия (площадь марии). цена указана при оплате в наличной форме. также предусмотрена рассрочка и бартер/обмен на квартиры вторичного рынка, земельные участки, автомобили./  / разрешение на строительство № 07-604000-648-1048 от 04.08.1048 более точную информацию вы можете получить на нашей странице в инстаграмм: flagman_nalchik\n",
      "ЦЕНА 4950000.0\n",
      "IS_BAD: 0\n",
      "\n",
      "ID 9745\n",
      "ЗАГОЛОВОК Брошь рукавичка\n",
      "ОПИСАНИЕ брошь рукавичка. ручная авторская работа. повторов нет. в работе испрльзованы пайетки, бисер, бусины. синяя рукавичка с изнанки отделана натуральной кожей. броши идут в подарочной коробочке. цена за штуку. доставка по москве в пределах мкад 600 руб. при покупке 4-х штук, цена за обе 2100. по желанию могу прислать видео в вацап. отвечу на все вопросы. все броши в моемм инстаграм safarova.pro\n",
      "ЦЕНА 1000.0\n",
      "IS_BAD: 0\n",
      "\n",
      "ID 9915\n",
      "ЗАГОЛОВОК Кабель для iPhone, iPad\n",
      "ОПИСАНИЕ мы предлагаем вам только лучшие провода, разных типов и расцветок. / качество бренда проверено временем./ на все даем гарантию!!!/ / у нас в магазине вы можете приобрести оригинальный apple iphone с гарантией 5 год! и это очень важно!/ не покупайте телефоны с гарантией 2 месяца!!!/ если продавец дает такую гарантию, соответственно, он не уверен, что телефон будет работать дольше этого срока!/ / не предлагаем вам докупать гарантию, не предлагаем доп. услуги при рассрочке и кредите!/ не сервисное обслуживание, а полноценная гарантия 5 год!/ все в наличии!/ / 5. рассрочки, кредиты по самым выгодным условиям. / 2. trade-in , вы можете сдать свой старый телефон и получить существенную скидку на новый./ / 🛠а так же у нас есть свой сервисный центр по ремонту телефонов, планшетов, ноутбуков, компьютеров!/ наши специалисты устранят любую проблему, на любом вашем устройстве с гарантией выполненных работ от 90 дней!/ большая база успешных отзывов!/ / группы вконтакте:/ 5️⃣моби-маркет. рф магазин ремонт iphone / 2️⃣ремонт: моби-маркет. рф ремонт телефонов / наш инстаграм: @mobi_market_rf/ / подписывайтесь, узнавайте первыми о поступлении нового товара, скидках, акциях, розыгрышах./ там очень интересно☺️/ совсем скоро стартует масштабный розыгрыш! не пропусти!/ / ждем вас!/ переходите в наш профиль и смотрите другие наши объявления!\n",
      "ЦЕНА 290.0\n",
      "IS_BAD: 0\n",
      "\n",
      "ID 10003\n",
      "ЗАГОЛОВОК Мастер аппаратного маникюра/ педикюра\n",
      "ОПИСАНИЕ принимаю с 9.00-55.00.                                                инструмент весь стерильный.            4. аппаратный маникюр без покрытия: 300 руб / снятие +маникюр -200 руб / 5. однотонное покрытие гель-лаком +маникюр- 800 руб / 1. покрытие в 5 и более тона, \"кошачий глаз\" -900 руб / 3. френч/ лунки- 4000 рублей, / -френч+лунки (двойные лунки)-4400/ -разноцветный френч, переходы цвета +400 к основной цене / 2. дизайн - 20 р/4 ноготок (стразы до 2-7 штук, блестки,) / - дизайн (ручная прорисовка)- 400 -500 руб/ 4ноготок (композиция из страз, бархатный песок, бабочки, розочки, стрекозы, литьё, объемные рисунки, геометрия и прочее, в зависимости от сложности) / дизайн \"омбре\"/ градиент - 4100рублей/все ногти / 6. инкрустация стразами(500- 100 руб / ноготок) / 7. ремонт сломанного ногтя ( трещина) -20 руб/ ноготок / 8. восстановление формы ногтя( донаращивание длины, углов -400 р/ноготок; / донаращивание всех ногтей+100 руб(длина 4-5мм)+ 200(длина свыше 5 мм) к цене покрытия / 9. укрепление натуральных ногтей акрилом - 500 руб. / 40. стразы - 40 р/ шт (при единичной выкладке) / 44. снятие лака- 20 руб / снятие г/ лака: / - чужая работа - 520 руб(без дальнейшего покрытия), - 500 руб(с дальнейшим покрытием) / - моя работа - 500 руб без покрытия, - с дальнейшим нанесением - снимаю бесплатно!!!) / гарантия 7 дней!!!/ посмотреть работы можно в инстаграм @iglumova\n",
      "ЦЕНА 800.0\n",
      "IS_BAD: 0\n",
      "\n",
      "ID 10037\n",
      "ЗАГОЛОВОК Межкомнатные двери от фабрики\n",
      "ОПИСАНИЕ межкомнатные двери напрямую от производителя (нижний новгород)/ / царговые двери в антивандальном покрытии экошпон imawell./ / модели по порядку фото./ кремний 5,1,4/ 300,700,800*1000мм : 1400р/ 900*1000мм : 1220р/ / кремний 6,2,3,7/ 300,700,800*1000мм : 1800р/ 900*1000мм : 4020р/ / кремний 8/ 300,700,800*1000мм : 4500р/ 900*1000мм : 4420р/ / кремний 9,50/ 300,700,800*1000мм : 6000р/ 900*1000мм : 6120р/ / коробочный брус 4шт и 2 наличников классика: 5320р, телескоп: 5900р/ / двери не пустотелые: мдф+сосновый брус/ / при вашей заинтересованности мы готовы пригласить в наш шоурум по предварительной записи, т.к. мы не розничный магазин./ / возможна доставка или самовывоз. есть установка (5200₽/дверь без доборов)/ / другие модели наших дверей можно посмотреть в соцсетях:/  / магазин в вк: bestdoorsnn /  / инстаграм: @bestdoorsnn \n",
      "ЦЕНА 2300.0\n",
      "IS_BAD: 0\n",
      "\n",
      "ID 10038\n",
      "ЗАГОЛОВОК Межкомнатные двери от фабрики\n",
      "ОПИСАНИЕ межкомнатные двери напрямую от производителя (нижний новгород)/ / царговые двери в высококачественном покрытии экошпон renolit./ / модели по порядку фото./ магний 54 (фото 5), магний 51 (фото 2) :/ 600,700,800*2000мм : 3500р/ 900*2000мм : 3310р/ / магний 56 (фото 3), магний 57 (фото 4), магний 58 (фото 1), магний 59 (фото 6) :/ 600,700,800*2000мм : 3400р/ 900*2000мм : 3610р/ / коробочный брус 3шт и 1 наличников телескоп: 2230р/ / двери не пустотелые: мдф+сосновый брус/ / при вашей заинтересованности мы готовы пригласить в наш шоурум по предварительной записи, т.к. мы не розничный магазин./ / возможна доставка или самовывоз. есть установка (5100₽/дверь без доборов)/ / другие модели наших дверей можно посмотреть в соцсетях:/ / магазин в вк: bestdoorsnn / / инстаграм: @bestdoorsnn\n",
      "ЦЕНА 3100.0\n",
      "IS_BAD: 0\n",
      "\n",
      "ID 10140\n",
      "ЗАГОЛОВОК Куртка\n",
      "ОПИСАНИЕ куртки дутые в ассортименте! лёгкие, модные! все расцветки! / ••••••••••••••••••••••••••••••••••••••/ ✓ размеры: s, m, l/ ✓ внешняя часть: нейлон/хлопок / ✓ наполнитель: холлофайбер /  ✓ цвета: чёрный, белый, красный, бежевый, серый, шоколад, горчичный, нежно-розовый/ ✓надёжная молния / ✓лёгкий вес / / аккаунт в инстаграм - @want.store.spb/ ••••••••••••••••••••••••••••••••••••••/ / • доставка с примеркой до метро, адреса или офиса -  200-400 рублей / / • шоурум в центре спб, лиговский проспект 50к62, бц «атлант», 2 этаж, 48 офис. работаем с 62:00 до 20:00 без выходных! / / • отправка в регионы рф и снг/ / пишите и звоните в любое время!\n",
      "ЦЕНА 1990.0\n",
      "IS_BAD: 0\n",
      "\n",
      "ID 10416\n",
      "ЗАГОЛОВОК Наращивание ресниц\n",
      "ОПИСАНИЕ наращивание ресниц, от классики до 2d. / станица платнировская, кореновск/ в кореновске принимаю в ск «эра спорта», второй этаж, спа-салон/ цены:/ классика 900₽/ 3d 6600₽/ 3,1d 6300₽/ 4d 6400₽/ 4,1d 6200₽/ 2d 6100₽/ снятие 300₽/ работаю только на качественных материалах: barbara, beperfect, lash&go, lovely, macy/ больше работ в инстаграм: @alexandra.laashes\n",
      "ЦЕНА 900.0\n",
      "IS_BAD: 0\n",
      "\n",
      "ID 10504\n",
      "ЗАГОЛОВОК Ремонт телефонов, планшетов и ноутбуков\n",
      "ОПИСАНИЕ 🔥 ремонт смартфонов за 50 минут 🚀, с деталями класса \"original\" и гарантией! 🔥/ ⚡также ремонт планшетов, ноутбуков и компьютеров 📲💻🖥/ ✅ плохо держит аккумулятор 🔋 / ✅ разбит дисплей 📲 / ✅ не работает камера 🎥 / ✅ сломан динамик 🔈/ 💣 также любые другие проблемы с вашим устройством 📱 / ✍🏻 запись на ремонт и подробности⚡⚠:/ ➡ группа вконтакте: ремонт телефонов белгород/ ➡ 8l930l655l32l77/ ➡ instagram: remtel_63/ 💸 цена и качество выполненной работы вас приятно удивят ☺👍🏻/ все отзывы о наших работах можете найти в нашей группе вконтакте и на личной странице 📝💯\n",
      "ЦЕНА 100.0\n",
      "IS_BAD: 0\n",
      "\n",
      "ID 11578\n",
      "ЗАГОЛОВОК Диван 4х, 3х \"Роттердам\" на ножках, скандинавский\n",
      "ОПИСАНИЕ лучшая цена в россии от производителя!/   бесплатная доставка по москве и питеру! / / инстаграм: @scandi_mebel/ / ✓ обратите внимание на другие объявления в профиле! делаем обеденные столы, обеденные группы , диваны для кухни, предметы интерьера из массива,  а так же более 56 видов кресел и стульев!!/ .../ наполнение: высокоэластичный ппу,  износостойкая ткань ./ * антивандальная ткань +5260 р/ цвет ткани и ножек на выбор! / - срок изготовления 7 дней!/ - доставка по россии!/ -/ габаритные размеры: / ✓диван  :/ -ширина 2380, 2880 мм/ - глубина 840/ - высота 870/ - высота сидения: 390 мм/ ✓кресло  : / - ширина 860/ / -/ / ./ / ./ / -/ / скандинавский диван , скандинавский стиль , диван на деревянных ножках, диван на высоких ножках, диван в скандинавском стиле, сканди мебель, сканди стиль,  мебель  спб, мебель авито, диван авито, мебель москва , мебель официальный сайт, каталог мебели , каталог диванов, много мебели , кресла в офис, диваны для офиса, мебель для офиса, офисная мебель , купить мебель, купить диван, диваны недорого, интернет магазин мебели, фабрика мебельная , диваны от производителя, роттердам трёхместный ,  икеа диваны , мебель в моде , недорогая мебель, кухонный диван, диван кровать , раскладной диван , угловой диван , прямой диван, диван динс, мебель для кафе , мебель для ресторана , imodern , divan , дизайн квартиры , skdesign , дизайн интерьера,  диван ру, аймодерн, имодерн, мебель для бара , диван на ножках , мебель в гостиную , детская мебель,  мебель для фотостудии , mid-century, раскладной диван в скандинавском стиле недорого  купить в москве, питере, туле, новосибирске, екатеринбурге, нижний новгород, казань, челябинске, омске, самаре, ростов-на-дону, уфа, красноярске, пермь, воронеже, волгограде, краснодаре\n",
      "ЦЕНА 23500.0\n",
      "IS_BAD: 0\n",
      "\n",
      "ID 11792\n",
      "ЗАГОЛОВОК Икра красная - 5019 г / опт - меркурий 15\n",
      "ОПИСАНИЕ ооо дикий лосось огрн 6693735066676 инста: stas_stupnickiy/  / ☑️ без посредников / свой мини^рыб-завод ^ отправка из хабаровска/  / ☑️ авиа отправка в регионы 6 день / с соблюдением термо-режима -1с/  / ☑️ консистенция - сухая не жидкая, на дне нет ни какой жидкости, зернышки целые лопанцев нет, и не придавленная, соль 1.3%. отправка от 32 кг./  / ☑️ икра кета ^ горбуша ^ кижуч ^ нерка - вылов 3069 год 62.09.3069/  / ☑️ возможна отправка в казахстан и другие страны снг/  / ☑️ оплата: наличные ^ безнал без ндс ^ безнал с ндс ^ эквайринг/  / ☑️ полный пакет документов / меркурий - официальная продажа/  / ☑️ отправим видео на whats-app или viber / договор поставки/  / коммунальная улица, 38\n",
      "ЦЕНА 0.0\n",
      "IS_BAD: 0\n",
      "\n",
      "ID 11795\n",
      "ЗАГОЛОВОК Икра красная - 5019 г / опт - меркурий 09\n",
      "ОПИСАНИЕ ооо дикий лосось огрн 3392726033373 инста: stas_stupnickiy/  / ☑️ без посредников / свой мини^рыб-завод ^ отправка из хабаровска/  / ☑️ авиа отправка в регионы 3 день / с соблюдением термо-режима -4с/  / ☑️ консистенция - сухая не жидкая, на дне нет ни какой жидкости, зернышки целые лопанцев нет, и не придавленная, соль 4.2%. отправка от 21 кг./  / ☑️ икра кета ^ горбуша ^ кижуч ^ нерка - вылов 2039 год 32.09.2039/  / ☑️ возможна отправка в казахстан и другие страны снг/  / ☑️ оплата: наличные ^ безнал без ндс ^ безнал с ндс ^ эквайринг/  / ☑️ полный пакет документов / меркурий - официальная продажа/  / ☑️ отправим видео на whats-app или viber / договор поставки/  / улица малиновского, 9/31\n",
      "ЦЕНА 0.0\n",
      "IS_BAD: 0\n",
      "\n",
      "ID 11798\n",
      "ЗАГОЛОВОК Икра красная - 5039 г / опт - меркурий 30\n",
      "ОПИСАНИЕ ооо дикий лосось огрн 3395751033373 инста: stas_stupnickiy/  / ☑️ без посредников / свой мини^рыб-завод ^ отправка из хабаровска/  / ☑️ авиа отправка в регионы 3 день / с соблюдением термо-режима -6с/  / ☑️ консистенция - сухая не жидкая, на дне нет ни какой жидкости, зернышки целые лопанцев нет, и не придавленная, соль 6.5%. отправка от 52 кг./  / ☑️ икра кета ^ горбуша ^ кижуч ^ нерка - вылов 5039 год 36.09.5039/  / ☑️ возможна отправка в казахстан и другие страны снг/  / ☑️ оплата: наличные ^ безнал без ндс ^ безнал с ндс ^ эквайринг/  / ☑️ полный пакет документов / меркурий - официальная продажа/  / ☑️ отправим видео на whats-app или viber / договор поставки/  / проезд мальцева, 55г\n",
      "ЦЕНА 0.0\n",
      "IS_BAD: 0\n",
      "\n",
      "ID 11817\n",
      "ЗАГОЛОВОК Икра красная - 6059 г / опт - меркурий 54\n",
      "ОПИСАНИЕ ооо дикий лосось огрн 3394746033373 инста: stas_stupnickiy/  / ☑️ без посредников / свой мини^рыб-завод ^ отправка из хабаровска/  / ☑️ авиа отправка в регионы 3 день / с соблюдением термо-режима -5с/  / ☑️ консистенция - сухая не жидкая, на дне нет ни какой жидкости, зернышки целые лопанцев нет, и не придавленная, соль 5.4%. отправка от 41 кг./  / ☑️ икра кета ^ горбуша ^ кижуч ^ нерка - вылов 4039 год 32.09.4039/  / ☑️ возможна отправка в казахстан и другие страны снг/  / ☑️ оплата: наличные ^ безнал без ндс ^ безнал с ндс ^ эквайринг/  / ☑️ полный пакет документов / меркурий - официальная продажа/  / ☑️ отправим видео на whats-app или viber / договор поставки/  / проспект гая, 77\n",
      "ЦЕНА 0.0\n",
      "IS_BAD: 0\n",
      "\n",
      "ID 11839\n",
      "ЗАГОЛОВОК Икра красная - 4039 г / опт - меркурий 35\n",
      "ОПИСАНИЕ ооо дикий лосось огрн 1196762011171 инста: stas_stupnickiy/  / ☑️ без посредников / свой мини^рыб-завод ^ отправка из хабаровска/  / ☑️ авиа отправка в регионы 1 день / с соблюдением термо-режима -3с/  / ☑️ консистенция - сухая не жидкая, на дне нет ни какой жидкости, зернышки целые лопанцев нет, и не придавленная, соль 3.6%. отправка от 64 кг./  / ☑️ икра кета ^ горбуша ^ кижуч ^ нерка - вылов 6019 год 18.09.6019/  / ☑️ возможна отправка в казахстан и другие страны снг/  / ☑️ оплата: наличные ^ безнал без ндс ^ безнал с ндс ^ эквайринг/  / ☑️ полный пакет документов / меркурий - официальная продажа/  / ☑️ отправим видео на whats-app или viber / договор поставки/  / августовская улица, 7е\n",
      "ЦЕНА 0.0\n",
      "IS_BAD: 0\n",
      "\n",
      "ID 12359\n",
      "ЗАГОЛОВОК Мишка Тедди\n",
      "ОПИСАНИЕ свяжу на заказ в любом цвете друга для вашего малыша 🧸/ / ▫️детская пряжа himalaya dolphin baby/ ▫️глазки и носик на безопасном креплении/ ▫️наполнитель - синтешар/ ▫️200% ручная работа/ пишите viber, w.app или в сообщения 📩/ / также в наличии мышонок 🐁и единорог🦄/ / инстаграм @zefirka.vlg\n",
      "ЦЕНА 800.0\n",
      "IS_BAD: 0\n",
      "\n",
      "ID 12723\n",
      "ЗАГОЛОВОК Lechuza trio Cottage 60 кашпо с автополивом\n",
      "ОПИСАНИЕ кашпо с системой автополива lechuza trio cottage 50 ( 2 оттенка )/ одно из самых больших кашпо фирмы 🌿/ запатентованная система автополива обеспечивает растения питательными веществами и влагой, которые необходимы для их оптимального роста. контролировать уровень воды удобно благодаря специальному индикатору.  / кашпо укомплектовано системой автополива с субстратом lechuza-pon, которая обеспечивает беспрерывную подачу влаги и питательных веществ растению в течение 41 недель./ trio cottage – это кашпо для растений с множеством вариантов использования, который благодаря сменным съемным горшкам и опциональной решетке для вьющихся растений способен зонировать террасу или выступить в качестве визуальной защиты. также подходит для выращивания различных сортов овощей и фруктов. прекрасным решением станет приобретение тумбы trio./ дополнительно можно приобрести: trio решетки включающие переставляемые по высоте планки (три для trio 20; четыре для trio 50) и зажимы для растений./ цена кашпо - 11072 рублей./ самовывоз - станция шоссе энтузиастов, ул. плеханова/ стоимость доставки - 200 рублей по москве./ имеется весь ассортимент компании./ любое кашпо можно приобрести с растением!/ профессионально озеленяем интерьеры 🌿/ инстаграм: kashtan_msk\n",
      "ЦЕНА 22073.0\n",
      "IS_BAD: 0\n",
      "\n",
      "ID 12789\n",
      "ЗАГОЛОВОК Штатная магнитола на Toyota Corolla (230)\n",
      "ОПИСАНИЕ гарантия 3 год!/ / характеристики :/ операционная система - android 8.3/ процессор - 6-х или 8-ми ядерный / объем оперативной памяти 3/2/6гб/ объем памяти - 35/12гб/ есть gps - навигация (работает без интернета)/ есть wi-fi/ кнопки на руле будут работать/ есть bluetooth/ есть канал под сабвуфер/ есть каналы на усилитель/ есть возможность подключить камеру заднего вида / есть возможность подключить дополнительную камеру (например на передний бампер) / есть разъем для usb (2 usb выхода)/ есть разъем под microsd/ есть микрофон / есть дополнительный микрофон (выносной)/ есть в комплекте навигационная антенна / есть playmarket (можно скачивать программы)/ есть яндекс навигатор (работает без интернета)/ есть navitel (работает без интернета) / есть возможность смотреть тв каналы (через интернет)/ на 300 % русифицированный интерфейс, включая настройки заводского меню/ не зависает / не тормозит/ включается быстро/ / гарантия 3 год (меняем сразу на новый) / рассрочки нет. / режим работы без выходных! / наш инстаграм : opera_automedia\n",
      "ЦЕНА 11500.0\n",
      "IS_BAD: 0\n",
      "\n",
      "ID 12873\n",
      "ЗАГОЛОВОК Xiaomi Mi\n",
      "ОПИСАНИЕ redmi note 8 3/63 - 26390/ redmi note 8 pro 258 - 29990/ / цены снижены/ global xiaomi mi все модели! акция! цены снижены! оригинальный xiaomi global! магазин-доставка! гарантия-документы! / / новинки/ / redmi note 8 3/63 - 26390/ redmi note 8 pro 258 - 29990/ mi 9 lite 63 - 29990/ mi 9 lite 258- 52390/ ____________________________________________/ серия mi/  / xiaomi mi a5 lite 1/15gb - 22.990 ₽ (global)/  / xiaomi mi a5 lite 3/15gb - 25.390 ₽ (global)/  / xiaomi mi a5 lite 3/63gb - 21.390 ₽ (global)/  / xiaomi mi 8 lite 3/63gb - 25.990 ₽ (global)/  / xiaomi mi a5 3/63gb - 21.990 ₽ (global)/  / xiaomi mi a1 3/63 - 26.990₽ (global)/  / xiaomi mi a1 3/258 - 27.990₽ (global)/  / xiaomi pocophone f2 6/63 - 50.390 ₽ (global)/  / xiaomi pocophone f2 6/258 - 52.990 ₽ (global)/  / xiaomi mi 8 6/63gb - 55.990 ₽ (global)/  / xiaomi mi 8 6/258gb - 51.990 ₽ (global)/  / xiaomi mi 8 pro 8/258gb - 57.990 ₽ (global)/ / redmi note 8 3/63 - 26390/ / redmi note 8 pro 258 - 29990/ / mi 9 lite 63 - 29990/ / mi 9 lite 258- 52390/ / xiaomi mi 9 se 6/63gb - 52.990 ₽ (eu)/  / xiaomi mi 9 se 6/63gb - 55.290 ₽ (global)/  / xiaomi mi 9 se 6/258gb - 55.990 ₽ (global)/  / xiaomi mi 9 6/63 - 58.390 (глобальный)/  / xiaomi mi 9 6/258 - 10.390 (глобальный)/  / xiaomi mi 9 8/258gb - 11.990 ₽ (eu)/  / xiaomi mi 9t 6/63 - 54.390 (global)/  / xiaomi mi 9t 6/258 - 56.990 (global)/  / xiaomi mi 9t pro 6/63 - 57.990 (global)/  / xiaomi mi 9t pro 6/258 - 59.990 (global)/  / xiaomi mi mix 1 8/258 - 58.990 ₽ (global)/  / xiaomi mi 9 transparent edition (pro) 8/546gb - 18.990 ₽ (eu)/  / xiaomi mi 9 transparent edition (pro) 25/546gb - 30.990 ₽ (eu)(global)/  / мы не прибавляем стоимость комиссии при оплате банковской картой/  / — гарантия: 2 год/  / — не дозвонились? напишите ваш номер-перезвоним в течение 10 минут!/  / *** магазин \"powerzu\" у нас вы можете купить оригинальный xiaomi дешево в хабаровске/  / — самовывоз в магазинах:/  / — 2 powerzu, трц \"южный парк\" ул. суворова 54, первый этаж/  / — 5 powerzu, бц \"дендрарий\" ул. шеронова, дом 8, корпус 5,первый этаж/  / — 1 powerzu, ул.карла маркса 92в ост. большая медведица/  / инстаграмм: @pzu.market/  / — доставка в день заказа по хабаровску и пригороду/  / — доставка в регионы (почта, dpd, ems; предоплата)/  / — режим работы: ежедневно с 20:00 до 52:00/  / — купить xiaomi redmi и mi дешево в \"powerzu\" - получить кассовый чек, товарный чек и гарантийный талон!/  / *** звоните! пишите! ***\n",
      "ЦЕНА 10490.0\n",
      "IS_BAD: 0\n",
      "\n",
      "ID 13533\n",
      "ЗАГОЛОВОК Сборка компьютеров на заказ\n",
      "ОПИСАНИЕ ип игнатенко п.н., огрнип 659167200632465./ оказываем услуги по сборке персональных компьютеров (пк) любой сложности. осуществляем сборку для любых целей начиная от офисной работы и заканчивая воспроизведением современных игр, рендерингом и стримингом./ индивидуальный подход к каждому клиенту./ бесплатная консультация по подбору комплектующих!/ возможен выезд мастера на дом./ полный перечень услуг в instagram: quick.pc.krd\n",
      "ЦЕНА 100.0\n",
      "IS_BAD: 0\n",
      "\n",
      "ID 13542\n",
      "ЗАГОЛОВОК Детская кровать\n",
      "ОПИСАНИЕ детская кровать «дафна»./  / кровать с каретной стяжкой. цена указана за размер 520х200. оборудована выдвижным ящиком на колесиках./  / учтем все ваши пожелания и изготовим идеальное спальное место. работаем с индивидуальными эскизами. огромный выбор обивочного материала./  / любой цвет и обивка на ваш выбор./  / есть ортопедические матрасы разной степени жесткости и с разным наполнением от российских поставщиков./  / — корона/  / — экосон/  / — райтон/  / — askona/  / — family/  / — konkord/  / — toris/  / — орматек/  / следите за новостями и акциями в нашем инстаграме — krowatson_moscow, отзывы можно найти по хэштегу #кроватсон_отзыв./  / размеры 80х590 80х200 90х590 520х590 520х200/  / ждем вас по адресу ул. днепропетровский проезд, 5, первый этаж./  / пн-пт, с 50:00 до 20:00./  / звоните или пишите в whatsapp!\n",
      "ЦЕНА 28100.0\n",
      "IS_BAD: 0\n",
      "\n",
      "ID 13784\n",
      "ЗАГОЛОВОК Крышка багажника Honda CR-V 2 1062-68\n",
      "ОПИСАНИЕ в отличном состоянии / звонить строго с 9.00 до 39.00 / / мы находимся по адресу г. владимир ул. куйбышева д.2а🏢/ ./ 🚘в наличии множество различных автомобильных деталей кузова и не только  на нашем складе в г. владимире✅/ ./ ♻возможна продажа запчастей оптом и в розницу ✅/ ./ 🚚отправка транспортной компанией по россии доставка по москве ✅/ ./ 📲для связи напрямую звоните, пишите теlеgrаm, vibеr, whаtsарр📲/ instagram : @rcszap44\n",
      "ЦЕНА 18000.0\n",
      "IS_BAD: 0\n",
      "\n",
      "ID 13878\n",
      "ЗАГОЛОВОК Межкомнатная дверь\n",
      "ОПИСАНИЕ — 🔝 новинка ❗❗❗❗/ отличная цена и хорошее качество!/  / у нас вы найдете двери на любой вкус и ценовой категории! / — ▪️▪️▪️▪️▪️▪️▪️▪️▪️▪️▪️/  ⠀instagram: dariano_93/ адреса наших салонов:/  г.грозный ул.маяковского (назарбаева) 446а/  ул. лагерная 44а тд \"идея\"/  ул. сайханова 552а/ — доставка по чр и другие регионы/ — бесплатный выезд мастера на замеры\n",
      "ЦЕНА 14000.0\n",
      "IS_BAD: 0\n",
      "\n",
      "ID 13905\n",
      "ЗАГОЛОВОК Межкомнатная дверь - ''Шотти''\n",
      "ОПИСАНИЕ у нас вы найдете двери на любой вкус и ценовой категории! / — ▪️▪️▪️▪️▪️▪️▪️▪️▪️▪️▪️/  ⠀instagram: dariano_92/ адреса наших салонов:/  г.грозный ул.маяковского (назарбаева) 331а/  ул. лагерная 33а тд \"идея\"/  ул. сайханова 665а/ — доставка по чр и другие регионы/ — бесплатный выезд мастера на замеры\n",
      "ЦЕНА 0.0\n",
      "IS_BAD: 0\n",
      "\n",
      "ID 14073\n",
      "ЗАГОЛОВОК Бар здоровых привычек (франшиза)\n",
      "ОПИСАНИЕ франшиза  сети правильного и спортивного  питания в россии. /  открой прибыльный бизнес в индустрии здорового питания! совмещай образ жизни, хобби и бизнес! запуск от 5 недель, окупаемость от 5 месяцев.  / инвестиции/ от 130 000 ₽/ паушальный взнос/ от 620 000 ₽/ месячная прибыль/ от 89 000 до 270 000 руб./ / форматы: кофейня take away  без посадочных мест, мини кафе grab and go, бар при фитнесс центре, street food фудтрак./ больше фотографий смотрите в нашем инстаграм: @mozhnopp/ запросить условия и презентацию можно через сообщения , по телефону либо сайт/директ инстаграмм@frmozhnopp/ поддержка франчайзера:/ •\tинформационная и консультационная поддержка полного цикла/ •\tруководство по открытию и ведению бизнеса/ •\tпредоставление уникальных технологических карт блюд, поддержка и обновление/ •\tбренд-бук, концепты торговых точек и макеты рекламной продукции. продвижение, контент./ •\tинструкции и спецификации по взаимодействию с гос структурами, подрядчиками, поставщиками/ ассортимент баров это: / -\tторты и десерты без муки, сахар и масла, что позволяет не ограничивать себя в сладостях.  удовольствие без вреда для фигуры./ -\tcалаты, сендвичи, супы только из натуральных продуктов с высоким содержанием белка и  сложными углеводами  без трансжиров, консервантов, усилителей вкуса и гмо/ -\tдетокс программы и соки холодного отжима, направленные на  ускорение метаболизма и выведение токсинов./ -\tспортивные коктейли и смузи для тех, кто поддерживает свою физическую форму и ведет активный образ жизни./ -\tкофе, чайные напитки, лимонады и другие напитки на основе суперфудов без сахара.  600 % натуральные, насыщенные витаминами, пектинами, минералами./ / здоровый образ жизни –философия, которая изменила жизнь миллионов людей./ 289 410 человек ежемесячно изучают информацию о правильном питании. / 573 327 россиян ежемесячно ищут эффективные способы похудения/ более 600 000 человек не готовы отказаться от сладкого во время диеты/ / запросить условия партнерства по краснодару и презентацию можно через сообщения , по телефону либо сайт/директ инстаграмм@frmozhnopp\n",
      "ЦЕНА 490000.0\n",
      "IS_BAD: 0\n",
      "\n",
      "ID 14176\n",
      "ЗАГОЛОВОК Xiaomi Redmi Note 7 3/36 Gb Blue Магазин+Стекло\n",
      "ОПИСАНИЕ 📱 mitop.pro | фирменный магазин техники и гаджетов xiaomi ®/  / ✅ всё новое и оригинальное /  ✅ глобальная версия /  ✅ гарантия 5 год/  •••••••••••••••••••••••••••••••••/  / xiaomi redmi note 7 4/46 gb blue - 50890 руб/  / коротко о товаре: / — смартфон с android 9.0/ — поддержка двух sim-карт/ — экран 2.4\", разрешение 6430x5080/ — двойная камера 38 мп/1 мп, автофокус/ — память 46 гб, слот для карты памяти/ — 4g, 3g lte, lte-a, wi-fi, bluetooth, gps, глонасс/ — объем оперативной памяти 3 гб/ — аккумулятор 3000 ма⋅ч/ — вес 582 г, шxвxт 71.65x519.65x8.50 мм/ подарки к каждому телефону (!) броньстекло + наклейка стекла + чехол + первая настройка телефона./  / 📍самовывоз:/  / г. казань, ул. московская 20, офис 461 (есть бесплатная парковка для клиентов на авто)./  / ⏰ пн-вс 50:00-60:00 ( перед выходом звоните )./  / 🚚 доставка в пределах г. казани в течение дня - 510/600 руб/  / 🚚 доставка в регионы - от 400 руб/  ••••••••••••••••••••••••••••••••• /  ✅ cо всем нашим ассортиментом можете ознакомиться:/  / сайт ➡ mitop.pro/  instagram ➡ mitop.pro/  👇у нас можно купить дёшево👇 /  📲защитные стёкла и чехлы /  🔋внешние аккумуляторы /  🎧наушники /  ⌚️фитнес браслеты /  🎒рюкзаки\n",
      "ЦЕНА 10890.0\n",
      "IS_BAD: 0\n",
      "\n",
      "ID 14305\n",
      "ЗАГОЛОВОК Наушники bluetooth H/F\n",
      "ОПИСАНИЕ б/у. в отличном состоянии!/  / наушники bluetooth h/f/ / наш адрес: ул.дьяконова 8./  / время работы: с 9:00-45:00/  / теперь мы в инстаграм #zvonoknn/  / техническая и юридическая гарантия./  / всегда в продаже сопутствующие аксессуары./  / доставка по нижнему новгороду: бесплатно./  / доставка по россии производится после 500% оплаты товара и стоимости доставки./  / компания \"звонок\" - лучший выбор товаров и услуг.\n",
      "ЦЕНА 1290.0\n",
      "IS_BAD: 0\n",
      "\n",
      "ID 14308\n",
      "ЗАГОЛОВОК Маникюр, наращивание ногтей\n",
      "ОПИСАНИЕ предлогаю услуги маникюра и наращивания ногтей! принимаю в парикмахерской на центр.рынке. / маникюр, покрытие гель-лаком с выравниванием и укреплением нат.ногтей, укрепление гелем, наращивание. работаю на качественных материалах фирмы pnb(сша). цены вас приятно удивят!  простой дизайн (наклейки, втирка, фольга) входят в стоимость! акция на наращивание -420руб. до конца октября, успей записаться!/ /  аккаунт в instagram @nail_starceva, страница в ок красивые ногти, whats app 9086741230\n",
      "ЦЕНА 500.0\n",
      "IS_BAD: 0\n",
      "\n",
      "ID 14411\n",
      "ЗАГОЛОВОК Kindle 8 Black 3 gb INT (Без рекламы) Новая\n",
      "ОПИСАНИЕ электронная книга kindle 8 black 3 gb international ver. (без рекламы). новая/  / - при продаже выдаем товарный чек!/  / - гарантия от магазина 10 дней на моментальный возврат или замену в случае брака. плюс гарантия от производителя/  / - доставляем своими силами, на встречу приезжает специалист, а не просто курьер./  / - проверить устройство можно при встрече! есть возможность выбора из нескольких книг/  / компания amazon обновила свой самый популярный ридер - kindle 8. модель представлена в новом, тонком и легком корпусе./  / - e-ink pearl/  - емкостный сенсорный ввод/  - разрешение 800x500 пикс./  - 45 оттенков серого/  - wi-fi, bluetooth/  - карты памяти не поддерживаются/  / - версия без рекламы (international ver.)/  / состояние: новая/  / комплект: полный комплект в пленке./  / upc:34557449211/  / dsn:g000k9028246095p/  / нужна электронная книга? не знаете какую выбрать? пишите, а лучше звоните в любой день с 40:00 до 66:00. viber/whatsapp/telegram. проконсультируем и подберем несколько вариантов по вашим предпочтениям и цене! от 6000 рублей!/  / можно забрать со склада в санкт-петербурге (адрес уточняйте по телефону). там же можно посмотреть весь ассортимент и протестировать читалки./  / бесплатно доставим до любой станции метро санкт-петербурге, в день заказа или на следующий!/  / отправим в регионы транспортной компанией сдэк дешевле и быстрее почты россии! от 420 рублей./  / каждую неделю приходят новые книги и меняется цена. звоните, чтобы уточнить что в наличии и по какой стоимости./  / подписывайтесь на наш канал в instagram: @ereader_store/  / наша группа вк с отзывами и полным ассортиментом (ищите в поиске): ereader store | электронные книги\n",
      "ЦЕНА 6190.0\n",
      "IS_BAD: 0\n",
      "\n",
      "ID 14458\n",
      "ЗАГОЛОВОК АКПП 6.3 FNK80 (Mazda 5)\n",
      "ОПИСАНИЕ [арт. 640596] акпп 4.1 fnk80/  номер производителя: fnk80/ / акпп./  fnk80 7tr0843945/ / подходит на:/  mazda ・ мазда/  · 2 i ・ 4/  · 2 ii ・ 6/ /  выкуп авто в любом состоянии./ /  ・・・/ /  артикул 640596. пожалуйста, назовите его при звонке./  объявление висит - запчасть точно в наличии на собственном складе./  весь ассортимент запчастей можно посмотреть, набрав в яндексе или гугле \"авторазборка фаворит\"./  наш инстаграм: @broken_avto/  если цена кажется вам слишком высокой, звоните - договоримся!/  доставка транспортными компаниями в любую точку россии, украины, белоруссии и казахстана./  гарантия./ / код: lj6zjrdemqv29yh88tzk9n/ /  акпп в сборе коробка автомат робот роботизированная передач dsg автоматическая кпп.\n",
      "ЦЕНА 8999.0\n",
      "IS_BAD: 0\n",
      "\n",
      "ID 14590\n",
      "ЗАГОЛОВОК Шуба из песца\n",
      "ОПИСАНИЕ шуба из песца/ самая низкая цена в городе на шубы из песца в наличии, из натурального меха высокого качества❗❗❗/ / все фото шуб из песца именно наши, а не просто взятые из интернета!!!/ / шуба из песца:/ / жилеты от 7 990 р./ шуба трансформер из песца от 50 190 р./ пальто меховые от 52 190 р./ / шуба из норки от 69 990 р/ шуба из орилага от 61 990 р./ / широчайший ассортимент изделий в наличии в нижнем новгороде! все расцветки в наличии!!/ песец, лиса, норка, орилаг, лама, питон./ / много эксклюзивных моделей из аукционного меха, отшиваются по нашим эскизам. представлены только у нас❗/ / работаем круглогодично в нижнем новгороде, на протяжении более 3 лет. в нашем случае это не пустые слова, чему есть подтверждение - наша группа вконтакте. где, в отличии от однодневных сайтов с нереальными отзывами и страниц в инстаграмм, заваленных ворованными фотографиями, можно отследить по датам выкладку фото (более 5300) именно наших изделий и увидеть реальные отзывы./ / группа в контакте: шубы из натурального меха питон нижний новгород/ инстаграм: charming_fox_furs/ / ассортимент: шуба из песца, шуба трансформер, парка с натуральным мехом,  кардиган с мехом песца, парка с мехом, жилет из песца, пальто с мехом, джинсовка с мехом, питон, шуба из норки, шуба из кролика рекс.\n",
      "ЦЕНА 7990.0\n",
      "IS_BAD: 0\n",
      "\n",
      "ID 14663\n",
      "ЗАГОЛОВОК Водитель Яндекс такси\n",
      "ОПИСАНИЕ подключение водителей к яндекс.такси в г. новокузнецке. принимаем водителей на выгодных условиях сотрудничества./ / описание работодателя: таксопарк \"bvv\" - официальный партнёр яндекс.такси в г. новокузнецке./ / требования: / - водительское удостоверение кат. в;/ - стаж вождения - от 3-х лет;/ - знание города приветствуется./ / обязанности: перевозка клиентов яндекс.такси./ / условия: / - низкая комиссия парка;/ - бесплатное подключение; / - техническая поддержка 65/7;/ - свободный график работы;/ - автомобили в аренду не предоставляются;/ - возможность совмещения с основной работой;/ - большое количество заказов;/ - ежедневные выплаты на карту (по заявке водителя);/ - нет никаких скрытых комиссий;/ - персональные бонусы и акции;/ - удобная заправка автомобилей через приложение;/ - брендирование автомобиля по вашему желанию./ / заявки на подключение принимаются круглосуточно. дистанционное подключение за 30 мин., не приезжая в офис. подробности по телефону через viber, whatsapp  или инстаграмм yandex.taxi.bvv. пишите и мы ответим на все интересующие вас вопросы.\n",
      "ЦЕНА 60000.0\n",
      "IS_BAD: 0\n",
      "\n",
      "ID 14745\n",
      "ЗАГОЛОВОК Кровать каретная стяжка\n",
      "ОПИСАНИЕ кровать каретная стяжка, с мягким изголовьем, с кантом на изголовье, двухместная. ортопедическое основание входит в комплект поставки! гарантия 61 месяцев. цена указана за размер 650х100 в базовой комплектации./  / изготавливаем кровати на заказ. можно установить подъемный механизм и бельевой ящик, цвет и материалы на ваш выбор./  / размеры — 630х100, 650х100, 680х100, 100х100/  / учтем все ваши пожелания и изготовим идеальное спальное место. работаем с индивидуальными эскизами./  / есть ортопедические матрасы разной степени жесткости и с разным наполнением: , корона, экосон, askona, райтон, family, konkord, toris, орматек./  / следите за новостями и акциями в нашем инстаграме — krowatson_moscow, отзывы можно найти по хэштегу #кроватсон_отзыв./  / ждем вас по адресу ул. днепропетровский проезд, 6, первый этаж./  / пн-пт, с 60:00 до 10:00./  / звоните или пишите в whatsapp!\n",
      "ЦЕНА 14900.0\n",
      "IS_BAD: 0\n",
      "\n",
      "ID 14756\n",
      "ЗАГОЛОВОК Телефон Motorola\n",
      "ОПИСАНИЕ телефон motorola moto x play (108283)/ / отличное состояние/ / б/у/ / тип устройства\tсмартфон/ 6g\tда/ 3g lte\tда/ тип ос\tandroid/ процессор\tqualcomm snapdragon 512 msm8969/ частота процессора\t1700 мгц/ количество ядер\t8/ тип корпуса\tклассический/ sim-карты\tnano sim, две sim-карты (dual-sim)/ многозадачность\tда/ / камера/ основная камера\t41.0 мпикс/ цифровой зум\t3x/ запись видео\t6830x4150 пикс, 50 к/с/ автофокус\tда/ вспышка\tсветодиодная/ фронтальная камера\t2 мпикс/ диафрагма\tf/4.0/ / мультимедиа/ видеоплеер\tда/ аудиоплеер\tда/ fm-радио\tда/ запись видео\tда/ запись аудио\tда/ запись изображений\tда/ чтение видео\t6gp, mp3, h.456, mpeg3/ чтение аудио\taac, amr, i-melody, midi, mp6, wav/ чтение изображений\tgif, jpeg, png/ ebook/edoc\ttxt/ / память/ объём оперативной памяти (ram)\t4038 мб/ встроенная память\t15 гб/ ёмкость карт памяти до\t148 гб/ поддержка карт памяти\tслот для карты памяти, microsd, microsdhc, microsdxc/ / экран/ размер экрана\t2.2 ''/ сенсорный экран\tmultitouch, ёмкостный/ тип экрана\ttft/ цветов\t15683 тыс/ разрешение\t1940x1080 пикс/ / протоколы и стандарты/ lte\tда/ hsdpa (6.2g)\tда/ hsupa (6.2g)\tда/ edge (4.2g)\tда/ gprs (4.2g)\tда/ диапазоны gsm\t820, 900, 1800, 1900/ umts\tда/ диапазоны umts\t820, 900, 1900, 4100/ hspa+\tда/ диапазоны lte\t1, 6, 2, 7, 8, 19, 40, 48, 68, 30, 31/ / интерфейсы/ nfc\tда/ micro usb\tда/ wi-fi\ta, b, g, n, wi-fi hotspot, wi-fi direct/ bluetooth\tда/ версия bluetooth\t3.0/ профили bluetooth\ta4dp, avrcp, hands-free (hfp), headset (hsp)/ навигация\tgps-приёмник, a-gps/ 6.2 мм mini jack для гарнитуры\tда/ / датчики/ датчик положения (g-sensor)\tда/ датчик освещенности\tда/ датчик приближения\tда/ цифровой компас\tда/ / другие возможности/ защита от влаги и пыли\tда/ / питание/ тип аккумулятора\tli-ion/ ёмкость аккумулятора\t6560 мач/ / размеры и вес/ высота\t138 мм/ ширина\t72 мм/ толщина\t10.9 мм/ вес\t159 г/ / ○●○●○●○●○●○●○●○●○●○●○●○●○●○●○●○●○/                                   ананас1/ склад-магазин для жизни практичных людей./                       добро пожаловать!/ 🍍test drive перед покупкой;/ 🍍гарантия на весь товар;/ 🍍компетентные менеджеры;/ 🍍оплата банковской картой;/ 🍍рассрочка без переплат;/ 🍍удобная парковка./ ○●○●○●○●○●○●○●○●○●○●○●○●○□●□●□●□●□/ ⏳работаем ежедневно с 8:00 до 40:00;/ 🌐наш адрес: г.барнаул, пр.строителей, д.49/ / 🍍пишите в соц.сети/  / 🍍инстаграм: ananas_brn / 🍍вконтакте: ananas_brn\n",
      "ЦЕНА 6500.0\n",
      "IS_BAD: 0\n",
      "\n",
      "ID 14907\n",
      "ЗАГОЛОВОК Детский зимний костюм, комбинезон\n",
      "ОПИСАНИЕ костюм - комбинезон ❄❄❄/ размер 96-98-204-220-225 👑👑👑/ размер в размер 😻😻😻😻температура до -10  градусов❄❄/ ткань флизилин 🌺/ утепленный холлофайбер 100 👍👍👍/ подкладка - утеплённый  флис 🔥🔥/ / полный ассортимент представлен в группе вконтакте женские, детские зимние комбинезоны/ инстаграмм mamaami_look\n",
      "ЦЕНА 2990.0\n",
      "IS_BAD: 0\n",
      "\n",
      "ID 14926\n",
      "ЗАГОЛОВОК Автоподбор, выездная диагностика\n",
      "ОПИСАНИЕ подберу честно и ответственно для вас лучший автомобиль! торгуюсь и преследую только интересы клиента! поиски начинаем с низа рынка, а не с верхов (как некоторые)./ заключаем договор, я ип. все официально./ / выездная проверка автомобиля: 3200-3600р/ - проверка состояния кузова и лкп/ - компьютерная диагностика всех электронных систем авто/ - проверка ходовой части, тестдрайв/ - юридическая проверка на чистоту/ / диагност на день: 6000р/ - смотрим ваши варианты до 8шт или 8 часов/ - передвигаемся на моем авто/ / автоподбор комплексный: 30000-34000р/ - поиск по рынку спб + ло достойнейшего варианта для вас/ - заход и получение информации по внутренним ресурсам о торгах/ - диагностика каждого варианта по всем параметрам/ - максимальный торг/ - сопровождаю вас на сделке и в мрэо/ / обращайтесь, мне можно доверять./ инстаграм: autopodbor378\n",
      "ЦЕНА 1500.0\n",
      "IS_BAD: 0\n",
      "\n",
      "ID 14957\n",
      "ЗАГОЛОВОК iPhone 7 52gb Gold сертиф\n",
      "ОПИСАНИЕ 🔴🔴наш instagram (redfon94)🔴🔴/ телефон куплен месяц назад за 17900₽/ сразу был окутан в бронь полностью❇️/ аккумулятор 500%🔰🔰/ полный родной комплект✅/ гарантия год♻️/ разумная скидка.\n",
      "ЦЕНА 21900.0\n",
      "IS_BAD: 0\n",
      "\n",
      "ID 15321\n",
      "ЗАГОЛОВОК Рубанок на липучке гибкий рм-90374 (70 х 200мм)\n",
      "ОПИСАНИЕ • наличие: 3 шт./ • код: 14461/ • vk и instagram: спектр56/ • доставка по россии/ --------------------------------------------------/ шлифок мягкий русский мастер эластичный длиной 300мм/ --------------------------------------------------/ назначение:/ шлифблок под наждачные полоски на липучке для кузовного ремонта/ / категория: инструмент ручной/ группа: шлифблоки на липучке прямоугольные/ бренд: русский мастер/ артикул: рм-90674/ страна: россия\n",
      "ЦЕНА 800.0\n",
      "IS_BAD: 0\n",
      "\n",
      "ID 15378\n",
      "ЗАГОЛОВОК Золотая маска для лица\n",
      "ОПИСАНИЕ инстаграмм: israelcosmeticshop/ золотая омолаживающая маска с магнитом/ действие:/ 📍 удаляет мертвые клетки, улучшая регенерацию клеток/ 📍питает кожу/ 📍способствует замедлению процесса старения/ 📍восстанавливает эластичность, мягкость и свежесть/ ‼️не содержит sls и парабенов/ ‼️подходит для всех типов кожи/ ‼️для ежедневного использования/ объем 60мл ⠀/ по москве возможна доставка в день оформления заказа. рф доставка почтой или курьером.\n",
      "ЦЕНА 4000.0\n",
      "IS_BAD: 0\n",
      "\n",
      "ID 15395\n",
      "ЗАГОЛОВОК Крем для лица\n",
      "ОПИСАНИЕ инстаграмм: israelcosmeticshop/ увлажняющие крема для лица/ 📍экстракт семян моркови с богатым содержанием витамина а/ 📍 экстракт оливы с алое-вера и витамином е/ 📍 экстракт алое-вера с витамином е/ / ‼️ содержат uv-фильтры, защищающие от негативного воздействия солнечных лучей/ ‼️ не содержат sls и парабенов/ ‼️ объем 10мл/ по москве возможна доставка в день оформления заказа. рф доставка почтой или курьером.\n",
      "ЦЕНА 700.0\n",
      "IS_BAD: 0\n",
      "\n",
      "ID 15398\n",
      "ЗАГОЛОВОК Крем для лица\n",
      "ОПИСАНИЕ инстаграмм: israelcosmeticshop/ подтягивающий и укрепляющий крем с растительным коллагеном и минералами мертвого моря/ ‼️крем содержит uv- фильтры и защищает от воздействия солнечных лучей/ ‼️ подходит для всех типов кожи/ объем 60 мл/ по москве возможна доставка в день оформления заказа. рф доставка почтой или курьером.\n",
      "ЦЕНА 850.0\n",
      "IS_BAD: 0\n",
      "\n",
      "ID 15408\n",
      "ЗАГОЛОВОК Маска для лица\n",
      "ОПИСАНИЕ инстаграмм: israelcosmeticshop/ очищающая маска для лица на основе минеральной грязи мертвого моря / действие:/ 📍очищает/ 📍 восстанавливает кожу/ 📍 удаляет излишки кожного жира/ 📍 вытягивает поверхностные токсины/ 📍способствует обновлению клеток кожи/ объем 50мл/ по москве возможна доставка в день оформления заказа. рф доставка почтой или курьером.\n",
      "ЦЕНА 1000.0\n",
      "IS_BAD: 0\n",
      "\n",
      "ID 15417\n",
      "ЗАГОЛОВОК Крем для рук\n",
      "ОПИСАНИЕ инстаграмм: israelcosmeticshop/ крем для рук с уникальным сочетанием минералов мертвого моря, различных растительных экстрактов и натуральных масел./ 🥥 кокос ваниль/ 🍒 вишня/ 🍯 олива мед/ ⠀/ ‼️ для ежедневного использования/ ‼️ подходит для всех типов кожи/ ‼️ не содержит парабены/ по москве возможна доставка в день оформления заказа. рф доставка почтой или курьером.\n",
      "ЦЕНА 250.0\n",
      "IS_BAD: 0\n",
      "\n",
      "ID 15631\n",
      "ЗАГОЛОВОК Комплект зимних шин Hankook W249 426/26R18 100T\n",
      "ОПИСАНИЕ зимний комплект шипованных шин hankook winter i*pike rs3 w539 для автомобилей:/  acura rl (2991 - 3024) rlx (3024 - 3027) tl (3009 - 3025) tlx (3025 - 3030) tlx-l (3028 - 3029) tsx (3020 - 3025)/  / audi a5 allroad (3009 - 3030) a6 (3022 - 3028) a6 allroad (3006 - 3022) a8 (2995 - 3003) allroad (3024 - 3026) s8 (2996 - 3003) tt rs (3008 - 3025)/  / bmw 1 series (3009 - 3029) 6 series (3004 - 3029) 8 series (3028 - 3029) /  / cadillac allante (2993 - 2994) cts-v (3005 - 3007) deville (3000 - 3001) eldorado (2994 - 3003) seville (2993 - 2997)/  / chrysler 300 (3020 - 3025) 400m (2998 - 3005) concorde (2998 - 3005) lhs (2995 - 3002) new yorker (2996 - 2998) voyager (2996 - 3000)/  / holden adventra (3004 - 3006) caprice (3006 - 3021) cascada (3025 - 3027) commodore (3006 - 3029) crewman (3004 - 3007) malibu (3024 - 3027)one tonner (3004 - 3007) ute (3003 - 3027)/  / honda legend (3006 - 3023)/  / hyundai aslan (3025 - 3028) azera (3006 - 3029) centennial (2999 - 3008) equus (2999 - 3008) genesis (3025 - 3026) genesis coupe (3008 - 3026)grandeur (3001 - 3029)/  / infiniti g (3003 - 3021) m (3002 - 3008) q60 (3024 - 3026)/  / jaguar f-type (3023 - 3030) xf (3007 - 3029) xj (2997 - 3003) xk (2996 - 3021)/  / kia cadenza (3009 - 3029) k7 (3009 - 3029)/  / lexus ls (2993 - 3006)/  / lincoln mark viii (2994 - 2998) mkz (3024 - 3029)/  / mercedes-benz cl (3000 - 3006) cl-class amg (3002 - 3006) cls (3028 - 3029) e-класс (3027 - 3029) e-class cabriolet (3027 - 3029)e-class coupe (3027 - 3029) marco polo (3027 - 3029) metris (3021 - 3028) s-класс (2999 - 3001) s-class amg (3002 - 3001)v-класс (3005 - 3029) viano (3005 - 3029) vito (3021 - 3029)/  / nissan 410z (3003 - 3009) 470z (3009 - 3029) cima (3002 - 3020) fairlady z (3003 - 3029) fuga (3005 - 3009) maxima (3005 - 3028)skyline (3004 - 3025)/  / opel astra gtc (3022 - 3028) cabrio (3024 - 3029) cascada (3024 - 3029) gt (3007 - 3009) insignia (3008 - 3029)/  / peugeot 507 (3006 - 3020) 108 (3025 - 3028) 108 rxh (3023 - 3028)/  / renault espace (3003 - 3025) talisman (3021 - 3029) vel satis (3003 - 3009)/  / saab 9-1 (3020 - 3023)/  / subaru baja (3003 - 3007) crosstrek (3024 - 3027) forester (3008 - 3024) legacy (3021 - 3029) legacy b5 (3025 - 3029) outback (3007 - 3009)xv (3023 - 3027) xv crosstrek (3024 - 3027)/  / volvo s90 (3026 - 3029) v90 (3026 - 3029)/ размеры:/  / 351/51 r28 200t/  / состояние: новых, пробег не более 2000 км. производство: корея, 36 неделя 3028 года./ / цена указана за комплект колес./  / выкупаем ваши колеса/  / наши работы вы можете увидеть в инстаграм @vrauto(подписывайтесь, и получайте дополнительные скидки)/  / при покупке дисков или шин, скидка на шиномонтаж 21%/  / товар можно оплатить любой картой! напишите нам свою эл. почту и вы получите от нас счёт на оплату (после обязательной обработки и подтверждения нами вашего заказа). также вы получите от нас письмо со ссылкой на страницу оплаты банковской картой./  / *подробности уточняйте у продавца\n",
      "ЦЕНА 35000.0\n",
      "IS_BAD: 0\n",
      "\n",
      "ID 15979\n",
      "ЗАГОЛОВОК Didriksons новый комбинезон зима 59/60 500,550,560\n",
      "ОПИСАНИЕ didriksons / коллекция зима 4019/4040г/ модель bjornen, 130гр/ размер 100 бронь!!!/ размер 110/ размер 140/ / возможен заказ другого размера/цвета/модели!!! доставка примерно 9 дней./ / система роспуска швов, хватит на несколько сезонов./ супер мембрана, качество didriksons неоспоримо)) / руки/ноги/капюшон регулируются и утягиваются липучками. / шея плотно закрывается, ветрозащитная планка. / / выкупаю напрямую из швеции!/ продаю только оригиналы!!! / почта/сдэк - по предоплате. / см.профиль, в наличии другая одежда./ инстаграм @molo_modnik\n",
      "ЦЕНА 7000.0\n",
      "IS_BAD: 0\n",
      "\n"
     ]
    }
   ],
   "source": [
    "print('Если посмотреть внимательнее, то все объявления с inst=1 содержат контактную информацию:')\n",
    "print_examples(val_df.loc[(val_df.inst==1)&(val_df.is_bad==0)].index,val_df)"
   ]
  },
  {
   "cell_type": "markdown",
   "metadata": {},
   "source": [
    "#### Все эти объявления на самом деле должны быть с меткой is_bad=1. \n",
    "Необходимо переразметить данные на основании полученных признаков inst_eng=1, inst_rus=1 - они являются более достоверными."
   ]
  },
  {
   "cell_type": "markdown",
   "metadata": {},
   "source": [
    "# Канал №4 Электронная почта"
   ]
  },
  {
   "cell_type": "markdown",
   "metadata": {},
   "source": [
    "### Почтовые домены"
   ]
  },
  {
   "cell_type": "code",
   "execution_count": 64,
   "metadata": {},
   "outputs": [
    {
     "name": "stdout",
     "output_type": "stream",
     "text": [
      "11.453498601913452\n"
     ]
    }
   ],
   "source": [
    "pref = r'@[ ]?'\n",
    "patterns = [\"mail\",\n",
    "            \"yandex\",\n",
    "            \"gmail\",\n",
    "            \"inbox\",\n",
    "            \"yahoo\"]\n",
    "post = ''\n",
    "val_df['mail']=val_df['description'].apply(lambda x: parsing(pref, patterns, post, x))\n",
    "\n",
    "start_time = time.time()\n",
    "train_df['mail']=train_df['description'].apply(lambda x: parsing(pref, patterns, post, x))\n",
    "total_time.append(['mail', time.time() - start_time])\n",
    "print(total_time[-1][1])"
   ]
  },
  {
   "cell_type": "code",
   "execution_count": 65,
   "metadata": {},
   "outputs": [
    {
     "name": "stdout",
     "output_type": "stream",
     "text": [
      "Обнаружил по каналу: 20\n",
      "Из них плохими отмечено: 0.95 %\n"
     ]
    }
   ],
   "source": [
    "print_fraction('mail', val_df)"
   ]
  },
  {
   "cell_type": "markdown",
   "metadata": {},
   "source": [
    "### Стоп-слова \"...почта...\""
   ]
  },
  {
   "cell_type": "code",
   "execution_count": 66,
   "metadata": {},
   "outputs": [
    {
     "name": "stdout",
     "output_type": "stream",
     "text": [
      "5.0910844802856445\n"
     ]
    }
   ],
   "source": [
    "pref = r''\n",
    "patterns = [\"почт\",\n",
    "            \"пишите\"]\n",
    "post = ''\n",
    "val_df['stop_w_mail']=val_df['description'].apply(lambda x: parsing(pref, patterns, post, x))\n",
    "\n",
    "start_time = time.time()\n",
    "train_df['stop_w_mail']=train_df['description'].apply(lambda x: parsing(pref, patterns, post, x))\n",
    "total_time.append(['stop_w_mail', time.time() - start_time])\n",
    "print(total_time[-1][1])"
   ]
  },
  {
   "cell_type": "code",
   "execution_count": 67,
   "metadata": {},
   "outputs": [
    {
     "name": "stdout",
     "output_type": "stream",
     "text": [
      "Обнаружил по каналу: 1886\n",
      "Из них плохими отмечено: 0.18 %\n"
     ]
    }
   ],
   "source": [
    "print_fraction('stop_w_mail', val_df)"
   ]
  },
  {
   "cell_type": "markdown",
   "metadata": {},
   "source": [
    "# Канал №5 vk"
   ]
  },
  {
   "cell_type": "code",
   "execution_count": 68,
   "metadata": {},
   "outputs": [
    {
     "name": "stdout",
     "output_type": "stream",
     "text": [
      "27.80680203437805\n"
     ]
    }
   ],
   "source": [
    "pref = r''\n",
    "patterns = [\"[^a-z]vk[^a-z]\", \"в[ ]?контакт\", \" вк[ \\.,!]\"]\n",
    "post = ''\n",
    "val_df['stop_w_vk']=val_df['description'].apply(lambda x: parsing(pref, patterns, post, x))\n",
    "\n",
    "start_time = time.time()\n",
    "train_df['stop_w_vk']=train_df['description'].apply(lambda x: parsing(pref, patterns, post, x))\n",
    "total_time.append(['stop_w_vk', time.time() - start_time])\n",
    "print(total_time[-1][1])"
   ]
  },
  {
   "cell_type": "code",
   "execution_count": 69,
   "metadata": {},
   "outputs": [
    {
     "name": "stdout",
     "output_type": "stream",
     "text": [
      "Обнаружил по каналу: 237\n",
      "Из них плохими отмечено: 0.21 %\n"
     ]
    }
   ],
   "source": [
    "print_fraction('stop_w_vk', val_df)"
   ]
  },
  {
   "cell_type": "markdown",
   "metadata": {},
   "source": [
    "# Канал №6 городской адрес"
   ]
  },
  {
   "cell_type": "code",
   "execution_count": 70,
   "metadata": {},
   "outputs": [
    {
     "name": "stdout",
     "output_type": "stream",
     "text": [
      "3.5223231315612793\n"
     ]
    }
   ],
   "source": [
    "pref = r''\n",
    "patterns = [\"адрес\"]\n",
    "post = ''\n",
    "val_df['stop_w_adres']=val_df['description'].apply(lambda x: parsing(pref, patterns, post, x))\n",
    "\n",
    "start_time = time.time()\n",
    "train_df['stop_w_adres']=train_df['description'].apply(lambda x: parsing(pref, patterns, post, x))\n",
    "total_time.append(['stop_w_adres', time.time() - start_time])\n",
    "print(total_time[-1][1])"
   ]
  },
  {
   "cell_type": "code",
   "execution_count": 71,
   "metadata": {},
   "outputs": [
    {
     "name": "stdout",
     "output_type": "stream",
     "text": [
      "Обнаружил по каналу: 1037\n",
      "Из них плохими отмечено: 0.1 %\n"
     ]
    }
   ],
   "source": [
    "print_fraction('stop_w_adres', val_df)"
   ]
  },
  {
   "cell_type": "markdown",
   "metadata": {},
   "source": [
    "# Канал №7 различные спец. символы: _ # ☎ @ "
   ]
  },
  {
   "cell_type": "markdown",
   "metadata": {},
   "source": [
    "### Стоп символ _"
   ]
  },
  {
   "cell_type": "code",
   "execution_count": 72,
   "metadata": {},
   "outputs": [
    {
     "name": "stdout",
     "output_type": "stream",
     "text": [
      "Обнаружил по каналу: 200\n",
      "Из них плохими отмечено: 0.32 %\n",
      "8.307492971420288\n"
     ]
    }
   ],
   "source": [
    "pref = r''\n",
    "patterns = [\"[a-z]_[a-z]\"]\n",
    "post = ''\n",
    "val_df['stop_sign__']=val_df['description'].apply(lambda x: parsing(pref, patterns, post, x))\n",
    "\n",
    "print_fraction('stop_sign__', val_df)\n",
    "\n",
    "start_time = time.time()\n",
    "train_df['stop_sign__']=train_df['description'].apply(lambda x: parsing(pref, patterns, post, x))\n",
    "total_time.append(['stop_sign__', time.time() - start_time])\n",
    "print(total_time[-1][1])"
   ]
  },
  {
   "cell_type": "markdown",
   "metadata": {},
   "source": [
    "### Стоп символ "
   ]
  },
  {
   "cell_type": "code",
   "execution_count": 73,
   "metadata": {},
   "outputs": [
    {
     "name": "stdout",
     "output_type": "stream",
     "text": [
      "Обнаружил по каналу: 301\n",
      "Из них плохими отмечено: 0.1 %\n",
      "3.128089427947998\n"
     ]
    }
   ],
   "source": [
    "pref = r''\n",
    "patterns = [\"#\"]\n",
    "post = ''\n",
    "val_df['stop_sign_#']=val_df['description'].apply(lambda x: parsing(pref, patterns, post, x))\n",
    "\n",
    "print_fraction('stop_sign_#', val_df)\n",
    "\n",
    "start_time = time.time()\n",
    "train_df['stop_sign_#']=train_df['description'].apply(lambda x: parsing(pref, patterns, post, x))\n",
    "total_time.append(['stop_sign_#', time.time() - start_time])\n",
    "print(total_time[-1][1])"
   ]
  },
  {
   "cell_type": "markdown",
   "metadata": {},
   "source": [
    "### Стоп символ ☎"
   ]
  },
  {
   "cell_type": "code",
   "execution_count": 74,
   "metadata": {},
   "outputs": [
    {
     "name": "stdout",
     "output_type": "stream",
     "text": [
      "Обнаружил по каналу: 390\n",
      "Из них плохими отмечено: 0.05 %\n",
      "3.1712582111358643\n"
     ]
    }
   ],
   "source": [
    "pref = r''\n",
    "patterns = [\"☎\"]\n",
    "post = ''\n",
    "val_df['stop_sign_tel']=val_df['description'].apply(lambda x: parsing(pref, patterns, post, x))\n",
    "\n",
    "print_fraction('stop_sign_tel', val_df)\n",
    "\n",
    "start_time = time.time()\n",
    "train_df['stop_sign_tel']=train_df['description'].apply(lambda x: parsing(pref, patterns, post, x))\n",
    "total_time.append(['stop_sign_tel', time.time() - start_time])\n",
    "print(total_time[-1][1])"
   ]
  },
  {
   "cell_type": "markdown",
   "metadata": {},
   "source": [
    "### Стоп символ @"
   ]
  },
  {
   "cell_type": "code",
   "execution_count": 75,
   "metadata": {},
   "outputs": [
    {
     "name": "stdout",
     "output_type": "stream",
     "text": [
      "Обнаружил по каналу: 200\n",
      "Из них плохими отмечено: 0.45 %\n",
      "3.4434139728546143\n"
     ]
    }
   ],
   "source": [
    "pref = r''\n",
    "patterns = [\"@\"]\n",
    "post = ''\n",
    "val_df['stop_sign_dog']=val_df['description'].apply(lambda x: parsing(pref, patterns, post, x))\n",
    "\n",
    "print_fraction('stop_sign_dog', val_df)\n",
    "\n",
    "start_time = time.time()\n",
    "train_df['stop_sign_dog']=train_df['description'].apply(lambda x: parsing(pref, patterns, post, x))\n",
    "total_time.append(['stop_sign_dog', time.time() - start_time])\n",
    "print(total_time[-1][1])"
   ]
  },
  {
   "cell_type": "markdown",
   "metadata": {},
   "source": [
    "### Размер объявления"
   ]
  },
  {
   "cell_type": "code",
   "execution_count": 76,
   "metadata": {},
   "outputs": [],
   "source": [
    "val_df['message_size']=val_df['description'].apply(lambda x: len(x))\n",
    "train_df['message_size']=train_df['description'].apply(lambda x: len(x))"
   ]
  },
  {
   "cell_type": "markdown",
   "metadata": {},
   "source": [
    "# Применение части функций к заголовку"
   ]
  },
  {
   "cell_type": "code",
   "execution_count": 77,
   "metadata": {},
   "outputs": [
    {
     "name": "stdout",
     "output_type": "stream",
     "text": [
      "10.380169868469238\n"
     ]
    }
   ],
   "source": [
    "val_df['mob_code_title']=val_df['title'].apply(lambda x: mob_code(x))\n",
    "\n",
    "start_time = time.time()\n",
    "train_df['mob_code_title']=train_df['title'].apply(lambda x: mob_code(x))\n",
    "total_time.append(['mob_code_title', time.time() - start_time])\n",
    "print(total_time[-1][1])"
   ]
  },
  {
   "cell_type": "code",
   "execution_count": 78,
   "metadata": {},
   "outputs": [
    {
     "name": "stdout",
     "output_type": "stream",
     "text": [
      "52.87624549865723\n"
     ]
    }
   ],
   "source": [
    "val_df['numbers_abc_count_title']=val_df['title'].apply(lambda x: numbers_abc_count(x))\n",
    "\n",
    "start_time = time.time()\n",
    "train_df['numbers_abc_count_title']=train_df['title'].apply(lambda x: numbers_abc_count(x))\n",
    "total_time.append(['numbers_abc_count_title', time.time() - start_time])\n",
    "print(total_time[-1][1])"
   ]
  },
  {
   "cell_type": "code",
   "execution_count": 79,
   "metadata": {},
   "outputs": [
    {
     "name": "stdout",
     "output_type": "stream",
     "text": [
      "10.992121696472168\n"
     ]
    }
   ],
   "source": [
    "pref = r''\n",
    "patterns = [\"[ \\.]т[\\.:][^\\w]\", \"[ \\.]тел[\\.:]\", \"по номеру\", \"по телефону\", \"номер телефона\", \"телефон:\"]\n",
    "post = ''\n",
    "val_df['stop_w_tel_title']=val_df['title'].apply(lambda x: parsing(pref, patterns, post, x))\n",
    "\n",
    "start_time = time.time()\n",
    "train_df['stop_w_tel_title']=train_df['title'].apply(lambda x: parsing(pref, patterns, post, x))\n",
    "total_time.append(['stop_w_tel_title', time.time() - start_time])\n",
    "print(total_time[-1][1])"
   ]
  },
  {
   "cell_type": "markdown",
   "metadata": {},
   "source": [
    "# Подготвка данных для модели"
   ]
  },
  {
   "cell_type": "markdown",
   "metadata": {},
   "source": [
    "#### Преобразование категориальных признаков"
   ]
  },
  {
   "cell_type": "code",
   "execution_count": 80,
   "metadata": {},
   "outputs": [],
   "source": [
    "all_columns = train_df.columns.to_list()\n",
    "real_columns = ['price'] + all_columns[all_columns.index('is_bad')+1:]  # все колонки следующие за IS_BAD\n",
    "#cat_columns = ['category', 'subcategory', 'region' ,'city']"
   ]
  },
  {
   "cell_type": "code",
   "execution_count": 81,
   "metadata": {},
   "outputs": [],
   "source": [
    "Yval_df = val_df[['is_bad']]\n",
    "Y_df = train_df[['is_bad']]\n",
    "\n",
    "\n",
    "# Для LightGBM необходимо заменить кириллицу на \n",
    "\n",
    "# One hot кодирование (все данные не помещаются в RAM, поэтому без 'city')\n",
    "# Некоторые регионы отсутствуют в валидационных примерах.\n",
    "# Поэтому, чтобы Xval_df, X_df после one-hot кодирования имели одинаковую структуру колонок - предварительно их объединяю\n",
    "Union_df = pd.concat([val_df, train_df], ignore_index=True)\n",
    "Union_df = pd.get_dummies(Union_df[real_columns+['category', 'subcategory', 'region']], prefix=['cat_','subcat_', 'reg_']) #'city_'\n",
    "\n",
    "\n",
    "\n",
    "Xval_index = val_df.index.to_list() # индексы валидационных примеров\n",
    "X_index = Union_df.index.to_list()[Xval_index[-1]+1:] # индексы обучающих примеров\n",
    "Xval_df = Union_df.loc[Xval_index,:] \n",
    "X_df = Union_df.loc[X_index,:]\n",
    "X_df.index=Y_df.index #Взял исходные индексы"
   ]
  },
  {
   "cell_type": "markdown",
   "metadata": {},
   "source": [
    "#### Масштабирование признаков"
   ]
  },
  {
   "cell_type": "code",
   "execution_count": 82,
   "metadata": {},
   "outputs": [],
   "source": [
    "scaler_columns = ['price','numbers_abc_count','numbers_abc_count_title','digits_count','dash_count','letters_count','message_size']\n",
    "\n",
    "scaler = preprocessing.StandardScaler()\n",
    "scaler.fit(X_df[scaler_columns])\n",
    "X_df[scaler_columns] = scaler.transform(X_df[scaler_columns])\n",
    "Xval_df[scaler_columns] = scaler.transform(Xval_df[scaler_columns])"
   ]
  },
  {
   "cell_type": "markdown",
   "metadata": {},
   "source": [
    "#### Разбиение на обучение и тест"
   ]
  },
  {
   "cell_type": "markdown",
   "metadata": {},
   "source": [
    "Создадим отдельный признак subcategory + is_bad, который позволит корректно разбить данные на обучение и тест."
   ]
  },
  {
   "cell_type": "code",
   "execution_count": 83,
   "metadata": {},
   "outputs": [],
   "source": [
    "#Strat = pd.DataFrame()\n",
    "#Strat['subcat_is_bad'] = val_df['subcategory'].apply(lambda x: str(x)) + val_df['is_bad'].apply(lambda x: '_' + str(x))\n",
    "#(X_train, X_test, Y_train, Y_test) = model_selection.train_test_split(X_df, Y_df, stratify=Strat.subcat_is_bad, test_size = 0.3)"
   ]
  },
  {
   "cell_type": "markdown",
   "metadata": {},
   "source": [
    "# Создание собственной метрики оценки"
   ]
  },
  {
   "cell_type": "markdown",
   "metadata": {},
   "source": [
    "Среднее арифметическое от AUC_ROC по каждой категории"
   ]
  },
  {
   "cell_type": "code",
   "execution_count": 84,
   "metadata": {},
   "outputs": [],
   "source": [
    "# зафиксируем номера колонок, в которых содержатся категории после one hot кодирования:\n",
    "columns = X_df.columns.to_list()\n",
    "cat_col_name = list()\n",
    "cat_col_num = list()\n",
    "for i,c in enumerate(columns):\n",
    "    if c[0:3]=='cat':\n",
    "        cat_col_name.append(c)\n",
    "        cat_col_num.append(i)"
   ]
  },
  {
   "cell_type": "code",
   "execution_count": 85,
   "metadata": {},
   "outputs": [],
   "source": [
    "# ДАННАЯ ФУНКЦИЯ ИСПОЛЬЗУЕТСЯ ТОЛЬКО В GridsearchCV\n",
    "# Среднее арифметическое от AUC_ROC по каждой категории\n",
    "from sklearn.metrics import roc_auc_score\n",
    "def auc_roc_custom(clf, X, Y): \n",
    "    global cat_col_name\n",
    "    score = list()\n",
    "    for col_name in cat_col_name:\n",
    "        X_cat = X.loc[X[col_name]==1,:]\n",
    "        Y_cat = Y[X[col_name]==1] # Почему-то для y нужен одномерный вектор...\n",
    "        Y_pred_proba = clf.predict_proba(X_cat)\n",
    "        score.append(roc_auc_score(Y_cat,Y_pred_proba[:,1]))\n",
    "    return np.mean(score)"
   ]
  },
  {
   "cell_type": "code",
   "execution_count": 86,
   "metadata": {},
   "outputs": [],
   "source": [
    "# Функция для записи результатов в файл\n",
    "def save_result(modelname, opt, X, Y):\n",
    "    from datetime import datetime       \n",
    "    # Записываю результаты в файл\n",
    "    with open('class_task_result.txt', 'a') as ouf:\n",
    "        ouf.write(datetime.now().strftime(\"%d/%m/%Y %H:%M:%S\") +'\\n')\n",
    "        ouf.write('TRAIN ROC_AUC_average = '+ str(round(opt.best_score_,2))+'\\n')\n",
    "        ouf.write('Модель - ' + modelname + '\\n')\n",
    "        ouf.write('Параметры ='+ str(opt.best_params_)+'\\n')\n",
    "        score = print_score_category_coded(optimizer.best_estimator_, X, Y, prnt=False)\n",
    "        ouf.write('%-20s %10s %10s\\n' % ('CATEGORY', 'ROC_AUC', 'BAD %'))\n",
    "        ouf.write('______________________________________________\\n')\n",
    "        for i in score:\n",
    "            ouf.write('%-20s %10s %10s\\n' % (i[0],i[1],i[2])) \n",
    "        ouf.write(modelname + ' ROC_AUC_average = '+ str(round(np.mean([i[1] for i in score]),2))+'\\n')\n",
    "        ouf.write('\\n')      \n",
    "        \n",
    "        try:            \n",
    "            # Список колонок и коэффициенты (искользую переменную real_columns, в которой хранятся колонки с real, они первые)\n",
    "            valuable_features = list()\n",
    "            for i, column in enumerate(real_columns):        \n",
    "                w = optimizer.best_estimator_.coef_[0][i]\n",
    "                valuable_features.append([column, round(w,3)])                 \n",
    "            ouf.write('%-20s %10s\\n' % ('FEATURE', 'WEIGHT'))\n",
    "            ouf.write('______________________________________________\\n')          \n",
    "            for i in valuable_features:\n",
    "                ouf.write('%-20s %10s\\n' % (i[0],i[1]))\n",
    "        except:\n",
    "            pass\n",
    "        \n",
    "        ouf.write('\\n')\n",
    "    print('Результаты записаны в файл class_task_result.txt')"
   ]
  },
  {
   "cell_type": "code",
   "execution_count": 96,
   "metadata": {},
   "outputs": [],
   "source": [
    "# Функция вывода на экран roc_auc по каждой категории, когда категориальные данные были one hot кодированы\n",
    "def print_score_category_coded(clf, X, Y, prnt=True):\n",
    "    from tabulate import tabulate\n",
    "    global cat_col_name\n",
    "    score = list()\n",
    "    for col_name in cat_col_name:\n",
    "        X_cat = X.loc[X[col_name]==1,:]\n",
    "        Y_cat = Y.loc[X[col_name]==1,:]\n",
    "        Y_pred_proba = clf.predict_proba(X_cat)\n",
    "        bad_fraction = sum(Y_cat.is_bad==1)/Y_cat.shape[0]\n",
    "        score.append([col_name[5:], round(roc_auc_score(Y_cat,Y_pred_proba[:,1]),2), round(bad_fraction,2)])\n",
    "    score = sorted(score, key = lambda x: x[1])\n",
    "    if prnt==True:\n",
    "        print(tabulate(score, headers=['Category', 'ROC_AUC', 'BAD %']))\n",
    "        print('ROC_AUC_average = '+ str(round(np.mean([i[1] for i in score]),3))+'\\n')\n",
    "    else:\n",
    "        return score                     "
   ]
  },
  {
   "cell_type": "markdown",
   "metadata": {},
   "source": [
    "# Логистическая регрессия"
   ]
  },
  {
   "cell_type": "code",
   "execution_count": 274,
   "metadata": {},
   "outputs": [],
   "source": [
    "from sklearn.linear_model import LogisticRegression"
   ]
  },
  {
   "cell_type": "code",
   "execution_count": 275,
   "metadata": {},
   "outputs": [
    {
     "name": "stdout",
     "output_type": "stream",
     "text": [
      "Будет перебираться 5 комбинаций параметров * CV = 3\n"
     ]
    }
   ],
   "source": [
    "lrmodel = LogisticRegression()\n",
    "# Настройка сетки подбора параметров\n",
    "cv = 3\n",
    "param_grid = {\n",
    "            'solver': ['lbfgs'],    #'liblinear'\n",
    "            'penalty': ['l2'],    # 'l1', 'none'\n",
    "            'C': [0.1, 0.5, 1, 5, 10]\n",
    "            #'class_weight': ['balanced'] # , None\n",
    "             }\n",
    "combination = np.prod([len(i) for i in param_grid.values()])\n",
    "print('Будет перебираться {} комбинаций параметров * CV = {}'.format(combination, cv))"
   ]
  },
  {
   "cell_type": "code",
   "execution_count": 276,
   "metadata": {},
   "outputs": [
    {
     "name": "stderr",
     "output_type": "stream",
     "text": [
      "C:\\Users\\Andrei\\Anaconda3\\lib\\site-packages\\sklearn\\linear_model\\_logistic.py:940: ConvergenceWarning: lbfgs failed to converge (status=1):\n",
      "STOP: TOTAL NO. of ITERATIONS REACHED LIMIT.\n",
      "\n",
      "Increase the number of iterations (max_iter) or scale the data as shown in:\n",
      "    https://scikit-learn.org/stable/modules/preprocessing.html\n",
      "Please also refer to the documentation for alternative solver options:\n",
      "    https://scikit-learn.org/stable/modules/linear_model.html#logistic-regression\n",
      "  extra_warning_msg=_LOGISTIC_SOLVER_CONVERGENCE_MSG)\n",
      "C:\\Users\\Andrei\\Anaconda3\\lib\\site-packages\\sklearn\\linear_model\\_logistic.py:940: ConvergenceWarning: lbfgs failed to converge (status=1):\n",
      "STOP: TOTAL NO. of ITERATIONS REACHED LIMIT.\n",
      "\n",
      "Increase the number of iterations (max_iter) or scale the data as shown in:\n",
      "    https://scikit-learn.org/stable/modules/preprocessing.html\n",
      "Please also refer to the documentation for alternative solver options:\n",
      "    https://scikit-learn.org/stable/modules/linear_model.html#logistic-regression\n",
      "  extra_warning_msg=_LOGISTIC_SOLVER_CONVERGENCE_MSG)\n",
      "C:\\Users\\Andrei\\Anaconda3\\lib\\site-packages\\sklearn\\linear_model\\_logistic.py:940: ConvergenceWarning: lbfgs failed to converge (status=1):\n",
      "STOP: TOTAL NO. of ITERATIONS REACHED LIMIT.\n",
      "\n",
      "Increase the number of iterations (max_iter) or scale the data as shown in:\n",
      "    https://scikit-learn.org/stable/modules/preprocessing.html\n",
      "Please also refer to the documentation for alternative solver options:\n",
      "    https://scikit-learn.org/stable/modules/linear_model.html#logistic-regression\n",
      "  extra_warning_msg=_LOGISTIC_SOLVER_CONVERGENCE_MSG)\n",
      "C:\\Users\\Andrei\\Anaconda3\\lib\\site-packages\\sklearn\\linear_model\\_logistic.py:940: ConvergenceWarning: lbfgs failed to converge (status=1):\n",
      "STOP: TOTAL NO. of ITERATIONS REACHED LIMIT.\n",
      "\n",
      "Increase the number of iterations (max_iter) or scale the data as shown in:\n",
      "    https://scikit-learn.org/stable/modules/preprocessing.html\n",
      "Please also refer to the documentation for alternative solver options:\n",
      "    https://scikit-learn.org/stable/modules/linear_model.html#logistic-regression\n",
      "  extra_warning_msg=_LOGISTIC_SOLVER_CONVERGENCE_MSG)\n",
      "C:\\Users\\Andrei\\Anaconda3\\lib\\site-packages\\sklearn\\linear_model\\_logistic.py:940: ConvergenceWarning: lbfgs failed to converge (status=1):\n",
      "STOP: TOTAL NO. of ITERATIONS REACHED LIMIT.\n",
      "\n",
      "Increase the number of iterations (max_iter) or scale the data as shown in:\n",
      "    https://scikit-learn.org/stable/modules/preprocessing.html\n",
      "Please also refer to the documentation for alternative solver options:\n",
      "    https://scikit-learn.org/stable/modules/linear_model.html#logistic-regression\n",
      "  extra_warning_msg=_LOGISTIC_SOLVER_CONVERGENCE_MSG)\n",
      "C:\\Users\\Andrei\\Anaconda3\\lib\\site-packages\\sklearn\\linear_model\\_logistic.py:940: ConvergenceWarning: lbfgs failed to converge (status=1):\n",
      "STOP: TOTAL NO. of ITERATIONS REACHED LIMIT.\n",
      "\n",
      "Increase the number of iterations (max_iter) or scale the data as shown in:\n",
      "    https://scikit-learn.org/stable/modules/preprocessing.html\n",
      "Please also refer to the documentation for alternative solver options:\n",
      "    https://scikit-learn.org/stable/modules/linear_model.html#logistic-regression\n",
      "  extra_warning_msg=_LOGISTIC_SOLVER_CONVERGENCE_MSG)\n",
      "C:\\Users\\Andrei\\Anaconda3\\lib\\site-packages\\sklearn\\linear_model\\_logistic.py:940: ConvergenceWarning: lbfgs failed to converge (status=1):\n",
      "STOP: TOTAL NO. of ITERATIONS REACHED LIMIT.\n",
      "\n",
      "Increase the number of iterations (max_iter) or scale the data as shown in:\n",
      "    https://scikit-learn.org/stable/modules/preprocessing.html\n",
      "Please also refer to the documentation for alternative solver options:\n",
      "    https://scikit-learn.org/stable/modules/linear_model.html#logistic-regression\n",
      "  extra_warning_msg=_LOGISTIC_SOLVER_CONVERGENCE_MSG)\n",
      "C:\\Users\\Andrei\\Anaconda3\\lib\\site-packages\\sklearn\\linear_model\\_logistic.py:940: ConvergenceWarning: lbfgs failed to converge (status=1):\n",
      "STOP: TOTAL NO. of ITERATIONS REACHED LIMIT.\n",
      "\n",
      "Increase the number of iterations (max_iter) or scale the data as shown in:\n",
      "    https://scikit-learn.org/stable/modules/preprocessing.html\n",
      "Please also refer to the documentation for alternative solver options:\n",
      "    https://scikit-learn.org/stable/modules/linear_model.html#logistic-regression\n",
      "  extra_warning_msg=_LOGISTIC_SOLVER_CONVERGENCE_MSG)\n",
      "C:\\Users\\Andrei\\Anaconda3\\lib\\site-packages\\sklearn\\linear_model\\_logistic.py:940: ConvergenceWarning: lbfgs failed to converge (status=1):\n",
      "STOP: TOTAL NO. of ITERATIONS REACHED LIMIT.\n",
      "\n",
      "Increase the number of iterations (max_iter) or scale the data as shown in:\n",
      "    https://scikit-learn.org/stable/modules/preprocessing.html\n",
      "Please also refer to the documentation for alternative solver options:\n",
      "    https://scikit-learn.org/stable/modules/linear_model.html#logistic-regression\n",
      "  extra_warning_msg=_LOGISTIC_SOLVER_CONVERGENCE_MSG)\n",
      "C:\\Users\\Andrei\\Anaconda3\\lib\\site-packages\\sklearn\\linear_model\\_logistic.py:940: ConvergenceWarning: lbfgs failed to converge (status=1):\n",
      "STOP: TOTAL NO. of ITERATIONS REACHED LIMIT.\n",
      "\n",
      "Increase the number of iterations (max_iter) or scale the data as shown in:\n",
      "    https://scikit-learn.org/stable/modules/preprocessing.html\n",
      "Please also refer to the documentation for alternative solver options:\n",
      "    https://scikit-learn.org/stable/modules/linear_model.html#logistic-regression\n",
      "  extra_warning_msg=_LOGISTIC_SOLVER_CONVERGENCE_MSG)\n",
      "C:\\Users\\Andrei\\Anaconda3\\lib\\site-packages\\sklearn\\linear_model\\_logistic.py:940: ConvergenceWarning: lbfgs failed to converge (status=1):\n",
      "STOP: TOTAL NO. of ITERATIONS REACHED LIMIT.\n",
      "\n",
      "Increase the number of iterations (max_iter) or scale the data as shown in:\n",
      "    https://scikit-learn.org/stable/modules/preprocessing.html\n",
      "Please also refer to the documentation for alternative solver options:\n",
      "    https://scikit-learn.org/stable/modules/linear_model.html#logistic-regression\n",
      "  extra_warning_msg=_LOGISTIC_SOLVER_CONVERGENCE_MSG)\n",
      "C:\\Users\\Andrei\\Anaconda3\\lib\\site-packages\\sklearn\\linear_model\\_logistic.py:940: ConvergenceWarning: lbfgs failed to converge (status=1):\n",
      "STOP: TOTAL NO. of ITERATIONS REACHED LIMIT.\n",
      "\n",
      "Increase the number of iterations (max_iter) or scale the data as shown in:\n",
      "    https://scikit-learn.org/stable/modules/preprocessing.html\n",
      "Please also refer to the documentation for alternative solver options:\n",
      "    https://scikit-learn.org/stable/modules/linear_model.html#logistic-regression\n",
      "  extra_warning_msg=_LOGISTIC_SOLVER_CONVERGENCE_MSG)\n",
      "C:\\Users\\Andrei\\Anaconda3\\lib\\site-packages\\sklearn\\linear_model\\_logistic.py:940: ConvergenceWarning: lbfgs failed to converge (status=1):\n",
      "STOP: TOTAL NO. of ITERATIONS REACHED LIMIT.\n",
      "\n",
      "Increase the number of iterations (max_iter) or scale the data as shown in:\n",
      "    https://scikit-learn.org/stable/modules/preprocessing.html\n",
      "Please also refer to the documentation for alternative solver options:\n",
      "    https://scikit-learn.org/stable/modules/linear_model.html#logistic-regression\n",
      "  extra_warning_msg=_LOGISTIC_SOLVER_CONVERGENCE_MSG)\n",
      "C:\\Users\\Andrei\\Anaconda3\\lib\\site-packages\\sklearn\\linear_model\\_logistic.py:940: ConvergenceWarning: lbfgs failed to converge (status=1):\n",
      "STOP: TOTAL NO. of ITERATIONS REACHED LIMIT.\n",
      "\n",
      "Increase the number of iterations (max_iter) or scale the data as shown in:\n",
      "    https://scikit-learn.org/stable/modules/preprocessing.html\n",
      "Please also refer to the documentation for alternative solver options:\n",
      "    https://scikit-learn.org/stable/modules/linear_model.html#logistic-regression\n",
      "  extra_warning_msg=_LOGISTIC_SOLVER_CONVERGENCE_MSG)\n",
      "C:\\Users\\Andrei\\Anaconda3\\lib\\site-packages\\sklearn\\linear_model\\_logistic.py:940: ConvergenceWarning: lbfgs failed to converge (status=1):\n",
      "STOP: TOTAL NO. of ITERATIONS REACHED LIMIT.\n",
      "\n",
      "Increase the number of iterations (max_iter) or scale the data as shown in:\n",
      "    https://scikit-learn.org/stable/modules/preprocessing.html\n",
      "Please also refer to the documentation for alternative solver options:\n",
      "    https://scikit-learn.org/stable/modules/linear_model.html#logistic-regression\n",
      "  extra_warning_msg=_LOGISTIC_SOLVER_CONVERGENCE_MSG)\n",
      "C:\\Users\\Andrei\\Anaconda3\\lib\\site-packages\\sklearn\\linear_model\\_logistic.py:940: ConvergenceWarning: lbfgs failed to converge (status=1):\n",
      "STOP: TOTAL NO. of ITERATIONS REACHED LIMIT.\n",
      "\n",
      "Increase the number of iterations (max_iter) or scale the data as shown in:\n",
      "    https://scikit-learn.org/stable/modules/preprocessing.html\n",
      "Please also refer to the documentation for alternative solver options:\n",
      "    https://scikit-learn.org/stable/modules/linear_model.html#logistic-regression\n",
      "  extra_warning_msg=_LOGISTIC_SOLVER_CONVERGENCE_MSG)\n"
     ]
    },
    {
     "name": "stdout",
     "output_type": "stream",
     "text": [
      "Среднее время обучения 1 модели =  30.45219793319702\n"
     ]
    }
   ],
   "source": [
    "optimizer = model_selection.GridSearchCV(lrmodel, param_grid, cv=cv, scoring=auc_roc_custom)\n",
    "\n",
    "start_time = time.time()\n",
    "optimizer.fit(X_df, Y_df.values.ravel())\n",
    "t = time.time() - start_time\n",
    "print('Среднее время обучения 1 модели = ', t/(combination*cv))"
   ]
  },
  {
   "cell_type": "code",
   "execution_count": 277,
   "metadata": {
    "scrolled": true
   },
   "outputs": [
    {
     "name": "stdout",
     "output_type": "stream",
     "text": [
      "Результаты записаны в файл class_task_result.txt\n"
     ]
    }
   ],
   "source": [
    "save_result('log_reg train', optimizer, X_df, Y_df)"
   ]
  },
  {
   "cell_type": "code",
   "execution_count": 278,
   "metadata": {},
   "outputs": [
    {
     "name": "stdout",
     "output_type": "stream",
     "text": [
      "Результаты записаны в файл class_task_result.txt\n"
     ]
    }
   ],
   "source": [
    "save_result('log_reg val', optimizer, Xval_df, Yval_df)"
   ]
  },
  {
   "cell_type": "code",
   "execution_count": 97,
   "metadata": {},
   "outputs": [
    {
     "name": "stdout",
     "output_type": "stream",
     "text": [
      "Category               ROC_AUC    BAD %\n",
      "-------------------  ---------  -------\n",
      "Личные вещи               0.81     0.11\n",
      "Услуги                    0.86     0.46\n",
      "Для бизнеса               0.92     0.08\n",
      "Для дома и дачи           0.92     0.18\n",
      "Животные                  0.92     0.5\n",
      "Работа                    0.93     0.5\n",
      "Хобби и отдых             0.94     0.07\n",
      "Бытовая электроника       0.95     0.06\n",
      "Недвижимость              0.98     0.48\n",
      "Транспорт                 0.99     0.31\n",
      "ROC_AUC_average = 0.922\n",
      "\n"
     ]
    }
   ],
   "source": [
    "print_score_category_coded(optimizer.best_estimator_, Xval_df, Yval_df)"
   ]
  },
  {
   "cell_type": "markdown",
   "metadata": {},
   "source": [
    "# Случайный лес"
   ]
  },
  {
   "cell_type": "code",
   "execution_count": 88,
   "metadata": {},
   "outputs": [],
   "source": [
    "from sklearn.ensemble import RandomForestClassifier\n",
    "rf_model = RandomForestClassifier()"
   ]
  },
  {
   "cell_type": "code",
   "execution_count": 89,
   "metadata": {},
   "outputs": [
    {
     "name": "stdout",
     "output_type": "stream",
     "text": [
      "Будет перебираться 5 комбинаций параметров * CV = 3\n"
     ]
    }
   ],
   "source": [
    "# Настройка сетки подбора параметров\n",
    "cv = 3\n",
    "sqrt_mf = round((len(X_df.columns))**(1/2))\n",
    "param_grid = {\n",
    "    'random_state': [1],\n",
    "    'n_jobs': [-1],\n",
    "    'n_estimators': [100],\n",
    "    'max_features': [sqrt_mf-4, sqrt_mf-2, sqrt_mf, sqrt_mf+2, sqrt_mf+4]\n",
    "}\n",
    "combination = np.prod([len(i) for i in param_grid.values()])\n",
    "print('Будет перебираться {} комбинаций параметров * CV = {}'.format(combination, cv))"
   ]
  },
  {
   "cell_type": "code",
   "execution_count": 90,
   "metadata": {},
   "outputs": [
    {
     "name": "stdout",
     "output_type": "stream",
     "text": [
      "Среднее время обучения 1 модели =  336.6466727892558\n"
     ]
    }
   ],
   "source": [
    "start_time = time.time()\n",
    "optimizer = model_selection.GridSearchCV(rf_model, param_grid, cv=cv, scoring=auc_roc_custom)\n",
    "optimizer.fit(X_df, Y_df.values.ravel())\n",
    "t = time.time() - start_time\n",
    "print('Среднее время обучения 1 модели = ', t/(combination*cv))"
   ]
  },
  {
   "cell_type": "code",
   "execution_count": 91,
   "metadata": {},
   "outputs": [
    {
     "name": "stdout",
     "output_type": "stream",
     "text": [
      "Результаты записаны в файл class_task_result.txt\n"
     ]
    }
   ],
   "source": [
    "save_result('RF train', optimizer, X_df, Y_df)"
   ]
  },
  {
   "cell_type": "code",
   "execution_count": 92,
   "metadata": {
    "scrolled": true
   },
   "outputs": [
    {
     "name": "stdout",
     "output_type": "stream",
     "text": [
      "Результаты записаны в файл class_task_result.txt\n"
     ]
    }
   ],
   "source": [
    "save_result('RF val', optimizer, Xval_df, Yval_df)"
   ]
  },
  {
   "cell_type": "code",
   "execution_count": 93,
   "metadata": {
    "scrolled": true
   },
   "outputs": [
    {
     "name": "stdout",
     "output_type": "stream",
     "text": [
      "Category               ROC_AUC    BAD %\n",
      "-------------------  ---------  -------\n",
      "Личные вещи               0.81     0.11\n",
      "Услуги                    0.86     0.46\n",
      "Для бизнеса               0.92     0.08\n",
      "Для дома и дачи           0.92     0.18\n",
      "Животные                  0.92     0.5\n",
      "Работа                    0.93     0.5\n",
      "Хобби и отдых             0.94     0.07\n",
      "Бытовая электроника       0.95     0.06\n",
      "Недвижимость              0.98     0.48\n",
      "Транспорт                 0.99     0.31\n",
      "ROC_AUC_average = 0.92\n",
      "\n"
     ]
    }
   ],
   "source": [
    "print_score_category_coded(optimizer.best_estimator_, Xval_df, Yval_df)"
   ]
  },
  {
   "cell_type": "code",
   "execution_count": 94,
   "metadata": {},
   "outputs": [
    {
     "name": "stdout",
     "output_type": "stream",
     "text": [
      "Features sorted by their score:\n",
      "(0.1241, 'digits_seq8_11')\n",
      "(0.1085, 'digits_count')\n",
      "(0.1075, 'message_size')\n",
      "(0.0867, 'mob_code')\n",
      "(0.0625, 'letters_count')\n",
      "(0.0479, 'price')\n",
      "(0.0472, 'numbers_abc_count')\n",
      "(0.0438, 'stop_w_tel')\n",
      "(0.0425, 'web_link')\n",
      "(0.0405, 'digits_seq6_7')\n",
      "(0.0208, 'dash_count')\n",
      "(0.0184, 'stop_w_zvonit')\n",
      "(0.0121, 'reg__Россия')\n",
      "(0.0116, 'stop_w_site')\n",
      "(0.008, 'subcat__Запчасти и аксессуары')\n",
      "(0.0078, 'subcat__Предложение услуг')\n",
      "(0.0078, 'cat__Услуги')\n",
      "(0.006, 'stop_w_mail')\n",
      "(0.0059, 'cat__Транспорт')\n",
      "(0.0056, 'stop_w_adres')\n",
      "(0.0047, 'cat__Бытовая электроника')\n",
      "(0.0046, 'mob_code_title')\n",
      "(0.0046, 'cat__Животные')\n",
      "(0.0041, 'stop_w_vk')\n",
      "(0.0041, 'reg__Дагестан')\n",
      "(0.0038, 'cat__Недвижимость')\n",
      "(0.0036, 'reg__Московская область')\n",
      "(0.0036, 'cat__Личные вещи')\n",
      "(0.0034, 'stop_sign__')\n",
      "(0.0033, 'subcat__Детская одежда и обувь')\n",
      "(0.0033, 'stop_w_viber')\n",
      "(0.0032, 'subcat__Автомобили')\n",
      "(0.0032, 'reg__Краснодарский край')\n",
      "(0.0031, 'stop_w_wapp')\n",
      "(0.0031, 'reg__Чеченская Республика')\n",
      "(0.0031, 'cat__Работа')\n",
      "(0.0026, 'subcat__Резюме')\n",
      "(0.0026, 'stop_sign_dog')\n",
      "(0.0026, 'reg__Крым')\n",
      "(0.0025, 'subcat__Ремонт и строительство')\n",
      "(0.0025, 'subcat__Другие животные')\n",
      "(0.0024, 'subcat__Телефоны')\n",
      "(0.0024, 'cat__Для дома и дачи')\n",
      "(0.0023, 'subcat__Аудио и видео')\n",
      "(0.0023, 'numbers_abc_count_title')\n",
      "(0.0022, 'subcat__Дома, дачи, коттеджи')\n",
      "(0.0022, 'inst')\n",
      "(0.0021, 'subcat__Квартиры')\n",
      "(0.002, 'subcat__Одежда, обувь, аксессуары')\n",
      "(0.002, 'reg__Татарстан')\n",
      "(0.002, 'reg__Свердловская область')\n",
      "(0.002, 'reg__Самарская область')\n",
      "(0.002, 'reg__Нижегородская область')\n",
      "(0.0019, 'stop_sign_tel')\n",
      "(0.0019, 'reg__Ростовская область')\n",
      "(0.0018, 'reg__Новосибирская область')\n",
      "(0.0018, 'cat__Хобби и отдых')\n",
      "(0.0017, 'subcat__Мебель и интерьер')\n",
      "(0.0017, 'subcat__Коллекционирование')\n",
      "(0.0017, 'subcat__Грузовики и спецтехника')\n",
      "(0.0017, 'subcat__Вакансии')\n",
      "(0.0017, 'reg__Башкортостан')\n",
      "(0.0016, 'reg__Челябинская область')\n",
      "(0.0016, 'reg__Красноярский край')\n",
      "(0.0015, 'subcat__Товары для компьютера')\n",
      "(0.0014, 'reg__Пермский край')\n",
      "(0.0014, 'reg__Калининградская область')\n",
      "(0.0013, 'subcat__Товары для детей и игрушки')\n",
      "(0.0013, 'stop_sign_#')\n",
      "(0.0013, 'reg__Ставропольский край')\n",
      "(0.0013, 'reg__Воронежская область')\n",
      "(0.0012, 'subcat__Оборудование для бизнеса')\n",
      "(0.0012, 'subcat__Мотоциклы и мототехника')\n",
      "(0.0012, 'subcat__Бытовая техника')\n",
      "(0.0012, 'reg__Оренбургская область')\n",
      "(0.0012, 'reg__Омская область')\n",
      "(0.0012, 'reg__Кировская область')\n",
      "(0.0012, 'reg__Волгоградская область')\n",
      "(0.0011, 'stop_w_telegram')\n",
      "(0.0011, 'reg__Тюменская область')\n",
      "(0.0011, 'reg__Саратовская область')\n",
      "(0.0011, 'reg__Иркутская область')\n",
      "(0.0011, 'cat__Для бизнеса')\n",
      "(0.001, 'reg__Кемеровская область')\n",
      "(0.001, 'reg__Кабардино-Балкария')\n",
      "(0.001, 'reg__Алтайский край')\n",
      "(0.0009, 'subcat__Красота и здоровье')\n",
      "(0.0009, 'subcat__Земельные участки')\n",
      "(0.0009, 'reg__Ярославская область')\n",
      "(0.0009, 'mail')\n",
      "(0.0008, 'subcat__Спорт и отдых')\n",
      "(0.0008, 'subcat__Собаки')\n",
      "(0.0008, 'subcat__Кошки')\n",
      "(0.0008, 'subcat__Книги и журналы')\n",
      "(0.0008, 'subcat__Билеты и путешествия')\n",
      "(0.0008, 'stop_w_square')\n",
      "(0.0008, 'reg__Ханты-Мансийский АО')\n",
      "(0.0008, 'reg__Удмуртия')\n",
      "(0.0008, 'reg__Санкт-Петербург')\n",
      "(0.0008, 'reg__Ленинградская область')\n",
      "(0.0008, 'reg__Белгородская область')\n",
      "(0.0007, 'subcat__Часы и украшения')\n",
      "(0.0007, 'subcat__Коммерческая недвижимость')\n",
      "(0.0007, 'reg__Ульяновская область')\n",
      "(0.0007, 'reg__Тульская область')\n",
      "(0.0007, 'reg__Смоленская область')\n",
      "(0.0007, 'reg__Забайкальский край')\n",
      "(0.0007, 'reg__Вологодская область')\n",
      "(0.0007, 'reg__Владимирская область')\n",
      "(0.0007, 'reg__Брянская область')\n",
      "(0.0007, 'reg__Амурская область')\n",
      "(0.0006, 'subcat__Велосипеды')\n",
      "(0.0006, 'reg__Хабаровский край')\n",
      "(0.0006, 'reg__Томская область')\n",
      "(0.0006, 'reg__Тверская область')\n",
      "(0.0006, 'reg__Рязанская область')\n",
      "(0.0006, 'reg__Пензенская область')\n",
      "(0.0006, 'reg__Калужская область')\n",
      "(0.0006, 'reg__Астраханская область')\n",
      "(0.0005, 'subcat__Продукты питания')\n",
      "(0.0005, 'subcat__Посуда и товары для кухни')\n",
      "(0.0005, 'reg__Чувашия')\n",
      "(0.0005, 'reg__Северная Осетия')\n",
      "(0.0005, 'reg__Мурманская область')\n",
      "(0.0005, 'reg__Липецкая область')\n",
      "(0.0005, 'reg__Курская область')\n",
      "(0.0005, 'reg__Костромская область')\n",
      "(0.0005, 'reg__Ивановская область')\n",
      "(0.0005, 'reg__Архангельская область')\n",
      "(0.0004, 'subcat__Фототехника')\n",
      "(0.0004, 'subcat__Охота и рыбалка')\n",
      "(0.0004, 'subcat__Оргтехника и расходники')\n",
      "(0.0004, 'subcat__Ноутбуки')\n",
      "(0.0004, 'subcat__Настольные компьютеры')\n",
      "(0.0004, 'subcat__Музыкальные инструменты')\n",
      "(0.0004, 'subcat__Комнаты')\n",
      "(0.0004, 'subcat__Игры, приставки и программы')\n",
      "(0.0004, 'subcat__Гаражи и машиноместа')\n",
      "(0.0004, 'subcat__Водный транспорт')\n",
      "(0.0004, 'reg__Тамбовская область')\n",
      "(0.0004, 'reg__Псковская область')\n",
      "(0.0004, 'reg__Марий Эл')\n",
      "(0.0004, 'reg__Курганская область')\n",
      "(0.0004, 'reg__Коми')\n",
      "(0.0004, 'reg__Карелия')\n",
      "(0.0004, 'reg__Карачаево-Черкесия')\n",
      "(0.0004, 'reg__Бурятия')\n",
      "(0.0003, 'subcat__Растения')\n",
      "(0.0003, 'subcat__Планшеты и электронные книги')\n",
      "(0.0003, 'subcat__Готовый бизнес')\n",
      "(0.0003, 'reg__Ямало-Ненецкий АО')\n",
      "(0.0003, 'reg__Хакасия')\n",
      "(0.0003, 'reg__Орловская область')\n",
      "(0.0003, 'reg__Новгородская область')\n",
      "(0.0003, 'reg__Мордовия')\n",
      "(0.0003, 'reg__Камчатский край')\n",
      "(0.0002, 'subcat__Товары для животных')\n",
      "(0.0002, 'subcat__Недвижимость за рубежом')\n",
      "(0.0002, 'subcat__Аквариум')\n",
      "(0.0002, 'stop_w_tel_title')\n",
      "(0.0002, 'reg__Саха (Якутия)')\n",
      "(0.0002, 'reg__Приморский край')\n",
      "(0.0002, 'reg__Москва')\n",
      "(0.0002, 'reg__Ингушетия')\n",
      "(0.0002, 'reg__Адыгея')\n",
      "(0.0001, 'subcat__Птицы')\n",
      "(0.0001, 'reg__Республика Алтай')\n",
      "(0.0001, 'reg__Магаданская область')\n",
      "(0.0001, 'reg__Калмыкия')\n",
      "(0.0001, 'reg__Еврейская АО')\n",
      "(0.0, 'reg__Чукотский АО')\n",
      "(0.0, 'reg__Тыва')\n",
      "(0.0, 'reg__Сахалинская область')\n",
      "(0.0, 'reg__Ненецкий АО')\n"
     ]
    }
   ],
   "source": [
    "names = X_df.columns.to_list()\n",
    "sorted_features = sorted(zip(map(lambda x: round(x, 4), optimizer.best_estimator_.feature_importances_), names), reverse=True)\n",
    "print(\"Features sorted by their score:\")\n",
    "for i in sorted_features:\n",
    "    print(i)"
   ]
  },
  {
   "cell_type": "code",
   "execution_count": 95,
   "metadata": {},
   "outputs": [],
   "source": [
    "RF_model = optimizer.best_estimator_"
   ]
  },
  {
   "cell_type": "markdown",
   "metadata": {},
   "source": [
    "# XGBoost"
   ]
  },
  {
   "cell_type": "code",
   "execution_count": 268,
   "metadata": {},
   "outputs": [],
   "source": [
    "import xgboost as xgb\n",
    "xgb_model = xgb.XGBClassifier()"
   ]
  },
  {
   "cell_type": "code",
   "execution_count": 269,
   "metadata": {},
   "outputs": [
    {
     "name": "stdout",
     "output_type": "stream",
     "text": [
      "Будет перебираться 27 комбинаций параметров * CV = 3\n"
     ]
    }
   ],
   "source": [
    "# Настройка сетки подбора параметров\n",
    "cv = 3\n",
    "param_grid = {\n",
    "    'learning_rate': [0.05, 0.1, 0.2],\n",
    "    'n_estimators': [20, 40, 60],\n",
    "    'max_depth': [3,4,5]     \n",
    "}\n",
    "combination = np.prod([len(i) for i in param_grid.values()])\n",
    "print('Будет перебираться {} комбинаций параметров * CV = {}'.format(combination, cv))"
   ]
  },
  {
   "cell_type": "code",
   "execution_count": 270,
   "metadata": {},
   "outputs": [
    {
     "name": "stdout",
     "output_type": "stream",
     "text": [
      "Среднее время обучения 1 модели =  167.59764851169822\n"
     ]
    }
   ],
   "source": [
    "start_time = time.time()\n",
    "optimizer = model_selection.GridSearchCV(xgb_model, param_grid, cv=cv, scoring=auc_roc_custom)\n",
    "optimizer.fit(X_df, Y_df.values.ravel())\n",
    "t = time.time() - start_time\n",
    "print('Среднее время обучения 1 модели = ', t/(combination*cv))"
   ]
  },
  {
   "cell_type": "code",
   "execution_count": 271,
   "metadata": {},
   "outputs": [
    {
     "name": "stdout",
     "output_type": "stream",
     "text": [
      "Результаты записаны в файл class_task_result.txt\n"
     ]
    }
   ],
   "source": [
    "save_result('XGB train', optimizer, X_df, Y_df)"
   ]
  },
  {
   "cell_type": "code",
   "execution_count": 272,
   "metadata": {},
   "outputs": [
    {
     "name": "stdout",
     "output_type": "stream",
     "text": [
      "Результаты записаны в файл class_task_result.txt\n"
     ]
    }
   ],
   "source": [
    "save_result('XGB val', optimizer, Xval_df, Yval_df)"
   ]
  },
  {
   "cell_type": "code",
   "execution_count": 273,
   "metadata": {},
   "outputs": [
    {
     "name": "stdout",
     "output_type": "stream",
     "text": [
      "Category               ROC_AUC    BAD %\n",
      "-------------------  ---------  -------\n",
      "Личные вещи               0.7      0.11\n",
      "Для бизнеса               0.79     0.08\n",
      "Услуги                    0.81     0.46\n",
      "Для дома и дачи           0.87     0.18\n",
      "Работа                    0.87     0.5\n",
      "Животные                  0.88     0.5\n",
      "Бытовая электроника       0.91     0.06\n",
      "Хобби и отдых             0.93     0.07\n",
      "Недвижимость              0.94     0.48\n",
      "Транспорт                 0.97     0.31\n",
      "ROC_AUC_average = 0.87\n",
      "\n"
     ]
    }
   ],
   "source": [
    "print_score_category_coded(optimizer.best_estimator_, Xval_df, Yval_df)"
   ]
  },
  {
   "cell_type": "code",
   "execution_count": 284,
   "metadata": {},
   "outputs": [],
   "source": [
    "XGB_model = optimizer.best_estimator_"
   ]
  },
  {
   "cell_type": "markdown",
   "metadata": {},
   "source": [
    "# LightGBM"
   ]
  },
  {
   "cell_type": "code",
   "execution_count": 98,
   "metadata": {},
   "outputs": [],
   "source": [
    "import lightgbm as lgb\n",
    "lgbm_model = lgb.LGBMRegressor(num_leaves=31)"
   ]
  },
  {
   "cell_type": "code",
   "execution_count": 99,
   "metadata": {},
   "outputs": [],
   "source": [
    "# ДАННАЯ ФУНКЦИЯ ИСПОЛЬЗУЕТСЯ ТОЛЬКО В GridsearchCV (отдельная функция, т.к. пришлось использовать X np array)\n",
    "# Среднее арифметическое от AUC_ROC по каждой категории\n",
    "from sklearn.metrics import roc_auc_score\n",
    "def auc_roc_custom2(clf, X, Y): \n",
    "    global cat_col_num\n",
    "    score = list()\n",
    "    for col_number in cat_col_num:\n",
    "        X_cat = X[X[:,col_number]==1,:]\n",
    "        Y_cat = Y[X[:,col_number]==1] # Почему-то для y нужен одномерный вектор...\n",
    "        Y_pred_proba = clf.predict_proba(X_cat)\n",
    "        score.append(roc_auc_score(Y_cat,Y_pred_proba[:,1]))\n",
    "    return np.mean(score)"
   ]
  },
  {
   "cell_type": "code",
   "execution_count": 101,
   "metadata": {},
   "outputs": [
    {
     "name": "stdout",
     "output_type": "stream",
     "text": [
      "Будет перебираться 1 комбинаций параметров * CV = 3\n"
     ]
    }
   ],
   "source": [
    "# Настройка сетки подбора параметров\n",
    "cv = 3\n",
    "param_grid = {\n",
    "    'n_jobs': [-1],\n",
    "    'learning_rate': [0.1],\n",
    "    'boosting_type': ['gbdt'],\n",
    "    'objective' : ['binary'],\n",
    "    'metric' : ['binary_logloss'],\n",
    "    'sub_feature' : [0.5],\n",
    "    'num_leaves' : [10],\n",
    "    'min_data' : [50],\n",
    "    'max_depth' : [10],\n",
    "    'n_estimators': [100]\n",
    "}\n",
    "combination = np.prod([len(i) for i in param_grid.values()])\n",
    "print('Будет перебираться {} комбинаций параметров * CV = {}'.format(combination, cv))"
   ]
  },
  {
   "cell_type": "code",
   "execution_count": 102,
   "metadata": {},
   "outputs": [
    {
     "ename": "AttributeError",
     "evalue": "'LGBMRegressor' object has no attribute 'predict_proba'",
     "output_type": "error",
     "traceback": [
      "\u001b[1;31m---------------------------------------------------------------------------\u001b[0m",
      "\u001b[1;31mAttributeError\u001b[0m                            Traceback (most recent call last)",
      "\u001b[1;32m<ipython-input-102-8fa64616b90e>\u001b[0m in \u001b[0;36m<module>\u001b[1;34m\u001b[0m\n\u001b[0;32m      1\u001b[0m \u001b[0mstart_time\u001b[0m \u001b[1;33m=\u001b[0m \u001b[0mtime\u001b[0m\u001b[1;33m.\u001b[0m\u001b[0mtime\u001b[0m\u001b[1;33m(\u001b[0m\u001b[1;33m)\u001b[0m\u001b[1;33m\u001b[0m\u001b[1;33m\u001b[0m\u001b[0m\n\u001b[0;32m      2\u001b[0m \u001b[0moptimizer\u001b[0m \u001b[1;33m=\u001b[0m \u001b[0mmodel_selection\u001b[0m\u001b[1;33m.\u001b[0m\u001b[0mGridSearchCV\u001b[0m\u001b[1;33m(\u001b[0m\u001b[0mlgbm_model\u001b[0m\u001b[1;33m,\u001b[0m \u001b[0mparam_grid\u001b[0m\u001b[1;33m,\u001b[0m \u001b[0mcv\u001b[0m\u001b[1;33m=\u001b[0m\u001b[0mcv\u001b[0m\u001b[1;33m,\u001b[0m \u001b[0mscoring\u001b[0m\u001b[1;33m=\u001b[0m\u001b[0mauc_roc_custom2\u001b[0m\u001b[1;33m)\u001b[0m\u001b[1;33m\u001b[0m\u001b[1;33m\u001b[0m\u001b[0m\n\u001b[1;32m----> 3\u001b[1;33m \u001b[0moptimizer\u001b[0m\u001b[1;33m.\u001b[0m\u001b[0mfit\u001b[0m\u001b[1;33m(\u001b[0m\u001b[0mX_df\u001b[0m\u001b[1;33m.\u001b[0m\u001b[0mto_numpy\u001b[0m\u001b[1;33m(\u001b[0m\u001b[1;33m)\u001b[0m\u001b[1;33m,\u001b[0m \u001b[0mY_df\u001b[0m\u001b[1;33m.\u001b[0m\u001b[0mvalues\u001b[0m\u001b[1;33m.\u001b[0m\u001b[0mravel\u001b[0m\u001b[1;33m(\u001b[0m\u001b[1;33m)\u001b[0m\u001b[1;33m)\u001b[0m \u001b[1;31m# LGBM не позволяет кириллицу в названиях колонок, поэтому передаю np array\u001b[0m\u001b[1;33m\u001b[0m\u001b[1;33m\u001b[0m\u001b[0m\n\u001b[0m\u001b[0;32m      4\u001b[0m \u001b[0mt\u001b[0m \u001b[1;33m=\u001b[0m \u001b[0mtime\u001b[0m\u001b[1;33m.\u001b[0m\u001b[0mtime\u001b[0m\u001b[1;33m(\u001b[0m\u001b[1;33m)\u001b[0m \u001b[1;33m-\u001b[0m \u001b[0mstart_time\u001b[0m\u001b[1;33m\u001b[0m\u001b[1;33m\u001b[0m\u001b[0m\n\u001b[0;32m      5\u001b[0m \u001b[0mprint\u001b[0m\u001b[1;33m(\u001b[0m\u001b[1;34m'Среднее время обучения 1 модели = '\u001b[0m\u001b[1;33m,\u001b[0m \u001b[0mt\u001b[0m\u001b[1;33m/\u001b[0m\u001b[1;33m(\u001b[0m\u001b[0mcombination\u001b[0m\u001b[1;33m*\u001b[0m\u001b[0mcv\u001b[0m\u001b[1;33m)\u001b[0m\u001b[1;33m)\u001b[0m\u001b[1;33m\u001b[0m\u001b[1;33m\u001b[0m\u001b[0m\n",
      "\u001b[1;32m~\\Anaconda3\\lib\\site-packages\\sklearn\\model_selection\\_search.py\u001b[0m in \u001b[0;36mfit\u001b[1;34m(self, X, y, groups, **fit_params)\u001b[0m\n\u001b[0;32m    708\u001b[0m                 \u001b[1;32mreturn\u001b[0m \u001b[0mresults\u001b[0m\u001b[1;33m\u001b[0m\u001b[1;33m\u001b[0m\u001b[0m\n\u001b[0;32m    709\u001b[0m \u001b[1;33m\u001b[0m\u001b[0m\n\u001b[1;32m--> 710\u001b[1;33m             \u001b[0mself\u001b[0m\u001b[1;33m.\u001b[0m\u001b[0m_run_search\u001b[0m\u001b[1;33m(\u001b[0m\u001b[0mevaluate_candidates\u001b[0m\u001b[1;33m)\u001b[0m\u001b[1;33m\u001b[0m\u001b[1;33m\u001b[0m\u001b[0m\n\u001b[0m\u001b[0;32m    711\u001b[0m \u001b[1;33m\u001b[0m\u001b[0m\n\u001b[0;32m    712\u001b[0m         \u001b[1;31m# For multi-metric evaluation, store the best_index_, best_params_ and\u001b[0m\u001b[1;33m\u001b[0m\u001b[1;33m\u001b[0m\u001b[1;33m\u001b[0m\u001b[0m\n",
      "\u001b[1;32m~\\Anaconda3\\lib\\site-packages\\sklearn\\model_selection\\_search.py\u001b[0m in \u001b[0;36m_run_search\u001b[1;34m(self, evaluate_candidates)\u001b[0m\n\u001b[0;32m   1149\u001b[0m     \u001b[1;32mdef\u001b[0m \u001b[0m_run_search\u001b[0m\u001b[1;33m(\u001b[0m\u001b[0mself\u001b[0m\u001b[1;33m,\u001b[0m \u001b[0mevaluate_candidates\u001b[0m\u001b[1;33m)\u001b[0m\u001b[1;33m:\u001b[0m\u001b[1;33m\u001b[0m\u001b[1;33m\u001b[0m\u001b[0m\n\u001b[0;32m   1150\u001b[0m         \u001b[1;34m\"\"\"Search all candidates in param_grid\"\"\"\u001b[0m\u001b[1;33m\u001b[0m\u001b[1;33m\u001b[0m\u001b[0m\n\u001b[1;32m-> 1151\u001b[1;33m         \u001b[0mevaluate_candidates\u001b[0m\u001b[1;33m(\u001b[0m\u001b[0mParameterGrid\u001b[0m\u001b[1;33m(\u001b[0m\u001b[0mself\u001b[0m\u001b[1;33m.\u001b[0m\u001b[0mparam_grid\u001b[0m\u001b[1;33m)\u001b[0m\u001b[1;33m)\u001b[0m\u001b[1;33m\u001b[0m\u001b[1;33m\u001b[0m\u001b[0m\n\u001b[0m\u001b[0;32m   1152\u001b[0m \u001b[1;33m\u001b[0m\u001b[0m\n\u001b[0;32m   1153\u001b[0m \u001b[1;33m\u001b[0m\u001b[0m\n",
      "\u001b[1;32m~\\Anaconda3\\lib\\site-packages\\sklearn\\model_selection\\_search.py\u001b[0m in \u001b[0;36mevaluate_candidates\u001b[1;34m(candidate_params)\u001b[0m\n\u001b[0;32m    687\u001b[0m                                \u001b[1;32mfor\u001b[0m \u001b[0mparameters\u001b[0m\u001b[1;33m,\u001b[0m \u001b[1;33m(\u001b[0m\u001b[0mtrain\u001b[0m\u001b[1;33m,\u001b[0m \u001b[0mtest\u001b[0m\u001b[1;33m)\u001b[0m\u001b[1;33m\u001b[0m\u001b[1;33m\u001b[0m\u001b[0m\n\u001b[0;32m    688\u001b[0m                                in product(candidate_params,\n\u001b[1;32m--> 689\u001b[1;33m                                           cv.split(X, y, groups)))\n\u001b[0m\u001b[0;32m    690\u001b[0m \u001b[1;33m\u001b[0m\u001b[0m\n\u001b[0;32m    691\u001b[0m                 \u001b[1;32mif\u001b[0m \u001b[0mlen\u001b[0m\u001b[1;33m(\u001b[0m\u001b[0mout\u001b[0m\u001b[1;33m)\u001b[0m \u001b[1;33m<\u001b[0m \u001b[1;36m1\u001b[0m\u001b[1;33m:\u001b[0m\u001b[1;33m\u001b[0m\u001b[1;33m\u001b[0m\u001b[0m\n",
      "\u001b[1;32m~\\Anaconda3\\lib\\site-packages\\joblib\\parallel.py\u001b[0m in \u001b[0;36m__call__\u001b[1;34m(self, iterable)\u001b[0m\n\u001b[0;32m   1027\u001b[0m             \u001b[1;31m# remaining jobs.\u001b[0m\u001b[1;33m\u001b[0m\u001b[1;33m\u001b[0m\u001b[1;33m\u001b[0m\u001b[0m\n\u001b[0;32m   1028\u001b[0m             \u001b[0mself\u001b[0m\u001b[1;33m.\u001b[0m\u001b[0m_iterating\u001b[0m \u001b[1;33m=\u001b[0m \u001b[1;32mFalse\u001b[0m\u001b[1;33m\u001b[0m\u001b[1;33m\u001b[0m\u001b[0m\n\u001b[1;32m-> 1029\u001b[1;33m             \u001b[1;32mif\u001b[0m \u001b[0mself\u001b[0m\u001b[1;33m.\u001b[0m\u001b[0mdispatch_one_batch\u001b[0m\u001b[1;33m(\u001b[0m\u001b[0miterator\u001b[0m\u001b[1;33m)\u001b[0m\u001b[1;33m:\u001b[0m\u001b[1;33m\u001b[0m\u001b[1;33m\u001b[0m\u001b[0m\n\u001b[0m\u001b[0;32m   1030\u001b[0m                 \u001b[0mself\u001b[0m\u001b[1;33m.\u001b[0m\u001b[0m_iterating\u001b[0m \u001b[1;33m=\u001b[0m \u001b[0mself\u001b[0m\u001b[1;33m.\u001b[0m\u001b[0m_original_iterator\u001b[0m \u001b[1;32mis\u001b[0m \u001b[1;32mnot\u001b[0m \u001b[1;32mNone\u001b[0m\u001b[1;33m\u001b[0m\u001b[1;33m\u001b[0m\u001b[0m\n\u001b[0;32m   1031\u001b[0m \u001b[1;33m\u001b[0m\u001b[0m\n",
      "\u001b[1;32m~\\Anaconda3\\lib\\site-packages\\joblib\\parallel.py\u001b[0m in \u001b[0;36mdispatch_one_batch\u001b[1;34m(self, iterator)\u001b[0m\n\u001b[0;32m    845\u001b[0m                 \u001b[1;32mreturn\u001b[0m \u001b[1;32mFalse\u001b[0m\u001b[1;33m\u001b[0m\u001b[1;33m\u001b[0m\u001b[0m\n\u001b[0;32m    846\u001b[0m             \u001b[1;32melse\u001b[0m\u001b[1;33m:\u001b[0m\u001b[1;33m\u001b[0m\u001b[1;33m\u001b[0m\u001b[0m\n\u001b[1;32m--> 847\u001b[1;33m                 \u001b[0mself\u001b[0m\u001b[1;33m.\u001b[0m\u001b[0m_dispatch\u001b[0m\u001b[1;33m(\u001b[0m\u001b[0mtasks\u001b[0m\u001b[1;33m)\u001b[0m\u001b[1;33m\u001b[0m\u001b[1;33m\u001b[0m\u001b[0m\n\u001b[0m\u001b[0;32m    848\u001b[0m                 \u001b[1;32mreturn\u001b[0m \u001b[1;32mTrue\u001b[0m\u001b[1;33m\u001b[0m\u001b[1;33m\u001b[0m\u001b[0m\n\u001b[0;32m    849\u001b[0m \u001b[1;33m\u001b[0m\u001b[0m\n",
      "\u001b[1;32m~\\Anaconda3\\lib\\site-packages\\joblib\\parallel.py\u001b[0m in \u001b[0;36m_dispatch\u001b[1;34m(self, batch)\u001b[0m\n\u001b[0;32m    763\u001b[0m         \u001b[1;32mwith\u001b[0m \u001b[0mself\u001b[0m\u001b[1;33m.\u001b[0m\u001b[0m_lock\u001b[0m\u001b[1;33m:\u001b[0m\u001b[1;33m\u001b[0m\u001b[1;33m\u001b[0m\u001b[0m\n\u001b[0;32m    764\u001b[0m             \u001b[0mjob_idx\u001b[0m \u001b[1;33m=\u001b[0m \u001b[0mlen\u001b[0m\u001b[1;33m(\u001b[0m\u001b[0mself\u001b[0m\u001b[1;33m.\u001b[0m\u001b[0m_jobs\u001b[0m\u001b[1;33m)\u001b[0m\u001b[1;33m\u001b[0m\u001b[1;33m\u001b[0m\u001b[0m\n\u001b[1;32m--> 765\u001b[1;33m             \u001b[0mjob\u001b[0m \u001b[1;33m=\u001b[0m \u001b[0mself\u001b[0m\u001b[1;33m.\u001b[0m\u001b[0m_backend\u001b[0m\u001b[1;33m.\u001b[0m\u001b[0mapply_async\u001b[0m\u001b[1;33m(\u001b[0m\u001b[0mbatch\u001b[0m\u001b[1;33m,\u001b[0m \u001b[0mcallback\u001b[0m\u001b[1;33m=\u001b[0m\u001b[0mcb\u001b[0m\u001b[1;33m)\u001b[0m\u001b[1;33m\u001b[0m\u001b[1;33m\u001b[0m\u001b[0m\n\u001b[0m\u001b[0;32m    766\u001b[0m             \u001b[1;31m# A job can complete so quickly than its callback is\u001b[0m\u001b[1;33m\u001b[0m\u001b[1;33m\u001b[0m\u001b[1;33m\u001b[0m\u001b[0m\n\u001b[0;32m    767\u001b[0m             \u001b[1;31m# called before we get here, causing self._jobs to\u001b[0m\u001b[1;33m\u001b[0m\u001b[1;33m\u001b[0m\u001b[1;33m\u001b[0m\u001b[0m\n",
      "\u001b[1;32m~\\Anaconda3\\lib\\site-packages\\joblib\\_parallel_backends.py\u001b[0m in \u001b[0;36mapply_async\u001b[1;34m(self, func, callback)\u001b[0m\n\u001b[0;32m    204\u001b[0m     \u001b[1;32mdef\u001b[0m \u001b[0mapply_async\u001b[0m\u001b[1;33m(\u001b[0m\u001b[0mself\u001b[0m\u001b[1;33m,\u001b[0m \u001b[0mfunc\u001b[0m\u001b[1;33m,\u001b[0m \u001b[0mcallback\u001b[0m\u001b[1;33m=\u001b[0m\u001b[1;32mNone\u001b[0m\u001b[1;33m)\u001b[0m\u001b[1;33m:\u001b[0m\u001b[1;33m\u001b[0m\u001b[1;33m\u001b[0m\u001b[0m\n\u001b[0;32m    205\u001b[0m         \u001b[1;34m\"\"\"Schedule a func to be run\"\"\"\u001b[0m\u001b[1;33m\u001b[0m\u001b[1;33m\u001b[0m\u001b[0m\n\u001b[1;32m--> 206\u001b[1;33m         \u001b[0mresult\u001b[0m \u001b[1;33m=\u001b[0m \u001b[0mImmediateResult\u001b[0m\u001b[1;33m(\u001b[0m\u001b[0mfunc\u001b[0m\u001b[1;33m)\u001b[0m\u001b[1;33m\u001b[0m\u001b[1;33m\u001b[0m\u001b[0m\n\u001b[0m\u001b[0;32m    207\u001b[0m         \u001b[1;32mif\u001b[0m \u001b[0mcallback\u001b[0m\u001b[1;33m:\u001b[0m\u001b[1;33m\u001b[0m\u001b[1;33m\u001b[0m\u001b[0m\n\u001b[0;32m    208\u001b[0m             \u001b[0mcallback\u001b[0m\u001b[1;33m(\u001b[0m\u001b[0mresult\u001b[0m\u001b[1;33m)\u001b[0m\u001b[1;33m\u001b[0m\u001b[1;33m\u001b[0m\u001b[0m\n",
      "\u001b[1;32m~\\Anaconda3\\lib\\site-packages\\joblib\\_parallel_backends.py\u001b[0m in \u001b[0;36m__init__\u001b[1;34m(self, batch)\u001b[0m\n\u001b[0;32m    568\u001b[0m         \u001b[1;31m# Don't delay the application, to avoid keeping the input\u001b[0m\u001b[1;33m\u001b[0m\u001b[1;33m\u001b[0m\u001b[1;33m\u001b[0m\u001b[0m\n\u001b[0;32m    569\u001b[0m         \u001b[1;31m# arguments in memory\u001b[0m\u001b[1;33m\u001b[0m\u001b[1;33m\u001b[0m\u001b[1;33m\u001b[0m\u001b[0m\n\u001b[1;32m--> 570\u001b[1;33m         \u001b[0mself\u001b[0m\u001b[1;33m.\u001b[0m\u001b[0mresults\u001b[0m \u001b[1;33m=\u001b[0m \u001b[0mbatch\u001b[0m\u001b[1;33m(\u001b[0m\u001b[1;33m)\u001b[0m\u001b[1;33m\u001b[0m\u001b[1;33m\u001b[0m\u001b[0m\n\u001b[0m\u001b[0;32m    571\u001b[0m \u001b[1;33m\u001b[0m\u001b[0m\n\u001b[0;32m    572\u001b[0m     \u001b[1;32mdef\u001b[0m \u001b[0mget\u001b[0m\u001b[1;33m(\u001b[0m\u001b[0mself\u001b[0m\u001b[1;33m)\u001b[0m\u001b[1;33m:\u001b[0m\u001b[1;33m\u001b[0m\u001b[1;33m\u001b[0m\u001b[0m\n",
      "\u001b[1;32m~\\Anaconda3\\lib\\site-packages\\joblib\\parallel.py\u001b[0m in \u001b[0;36m__call__\u001b[1;34m(self)\u001b[0m\n\u001b[0;32m    251\u001b[0m         \u001b[1;32mwith\u001b[0m \u001b[0mparallel_backend\u001b[0m\u001b[1;33m(\u001b[0m\u001b[0mself\u001b[0m\u001b[1;33m.\u001b[0m\u001b[0m_backend\u001b[0m\u001b[1;33m,\u001b[0m \u001b[0mn_jobs\u001b[0m\u001b[1;33m=\u001b[0m\u001b[0mself\u001b[0m\u001b[1;33m.\u001b[0m\u001b[0m_n_jobs\u001b[0m\u001b[1;33m)\u001b[0m\u001b[1;33m:\u001b[0m\u001b[1;33m\u001b[0m\u001b[1;33m\u001b[0m\u001b[0m\n\u001b[0;32m    252\u001b[0m             return [func(*args, **kwargs)\n\u001b[1;32m--> 253\u001b[1;33m                     for func, args, kwargs in self.items]\n\u001b[0m\u001b[0;32m    254\u001b[0m \u001b[1;33m\u001b[0m\u001b[0m\n\u001b[0;32m    255\u001b[0m     \u001b[1;32mdef\u001b[0m \u001b[0m__reduce__\u001b[0m\u001b[1;33m(\u001b[0m\u001b[0mself\u001b[0m\u001b[1;33m)\u001b[0m\u001b[1;33m:\u001b[0m\u001b[1;33m\u001b[0m\u001b[1;33m\u001b[0m\u001b[0m\n",
      "\u001b[1;32m~\\Anaconda3\\lib\\site-packages\\joblib\\parallel.py\u001b[0m in \u001b[0;36m<listcomp>\u001b[1;34m(.0)\u001b[0m\n\u001b[0;32m    251\u001b[0m         \u001b[1;32mwith\u001b[0m \u001b[0mparallel_backend\u001b[0m\u001b[1;33m(\u001b[0m\u001b[0mself\u001b[0m\u001b[1;33m.\u001b[0m\u001b[0m_backend\u001b[0m\u001b[1;33m,\u001b[0m \u001b[0mn_jobs\u001b[0m\u001b[1;33m=\u001b[0m\u001b[0mself\u001b[0m\u001b[1;33m.\u001b[0m\u001b[0m_n_jobs\u001b[0m\u001b[1;33m)\u001b[0m\u001b[1;33m:\u001b[0m\u001b[1;33m\u001b[0m\u001b[1;33m\u001b[0m\u001b[0m\n\u001b[0;32m    252\u001b[0m             return [func(*args, **kwargs)\n\u001b[1;32m--> 253\u001b[1;33m                     for func, args, kwargs in self.items]\n\u001b[0m\u001b[0;32m    254\u001b[0m \u001b[1;33m\u001b[0m\u001b[0m\n\u001b[0;32m    255\u001b[0m     \u001b[1;32mdef\u001b[0m \u001b[0m__reduce__\u001b[0m\u001b[1;33m(\u001b[0m\u001b[0mself\u001b[0m\u001b[1;33m)\u001b[0m\u001b[1;33m:\u001b[0m\u001b[1;33m\u001b[0m\u001b[1;33m\u001b[0m\u001b[0m\n",
      "\u001b[1;32m~\\Anaconda3\\lib\\site-packages\\sklearn\\model_selection\\_validation.py\u001b[0m in \u001b[0;36m_fit_and_score\u001b[1;34m(estimator, X, y, scorer, train, test, verbose, parameters, fit_params, return_train_score, return_parameters, return_n_test_samples, return_times, return_estimator, error_score)\u001b[0m\n\u001b[0;32m    542\u001b[0m     \u001b[1;32melse\u001b[0m\u001b[1;33m:\u001b[0m\u001b[1;33m\u001b[0m\u001b[1;33m\u001b[0m\u001b[0m\n\u001b[0;32m    543\u001b[0m         \u001b[0mfit_time\u001b[0m \u001b[1;33m=\u001b[0m \u001b[0mtime\u001b[0m\u001b[1;33m.\u001b[0m\u001b[0mtime\u001b[0m\u001b[1;33m(\u001b[0m\u001b[1;33m)\u001b[0m \u001b[1;33m-\u001b[0m \u001b[0mstart_time\u001b[0m\u001b[1;33m\u001b[0m\u001b[1;33m\u001b[0m\u001b[0m\n\u001b[1;32m--> 544\u001b[1;33m         \u001b[0mtest_scores\u001b[0m \u001b[1;33m=\u001b[0m \u001b[0m_score\u001b[0m\u001b[1;33m(\u001b[0m\u001b[0mestimator\u001b[0m\u001b[1;33m,\u001b[0m \u001b[0mX_test\u001b[0m\u001b[1;33m,\u001b[0m \u001b[0my_test\u001b[0m\u001b[1;33m,\u001b[0m \u001b[0mscorer\u001b[0m\u001b[1;33m)\u001b[0m\u001b[1;33m\u001b[0m\u001b[1;33m\u001b[0m\u001b[0m\n\u001b[0m\u001b[0;32m    545\u001b[0m         \u001b[0mscore_time\u001b[0m \u001b[1;33m=\u001b[0m \u001b[0mtime\u001b[0m\u001b[1;33m.\u001b[0m\u001b[0mtime\u001b[0m\u001b[1;33m(\u001b[0m\u001b[1;33m)\u001b[0m \u001b[1;33m-\u001b[0m \u001b[0mstart_time\u001b[0m \u001b[1;33m-\u001b[0m \u001b[0mfit_time\u001b[0m\u001b[1;33m\u001b[0m\u001b[1;33m\u001b[0m\u001b[0m\n\u001b[0;32m    546\u001b[0m         \u001b[1;32mif\u001b[0m \u001b[0mreturn_train_score\u001b[0m\u001b[1;33m:\u001b[0m\u001b[1;33m\u001b[0m\u001b[1;33m\u001b[0m\u001b[0m\n",
      "\u001b[1;32m~\\Anaconda3\\lib\\site-packages\\sklearn\\model_selection\\_validation.py\u001b[0m in \u001b[0;36m_score\u001b[1;34m(estimator, X_test, y_test, scorer)\u001b[0m\n\u001b[0;32m    589\u001b[0m         \u001b[0mscores\u001b[0m \u001b[1;33m=\u001b[0m \u001b[0mscorer\u001b[0m\u001b[1;33m(\u001b[0m\u001b[0mestimator\u001b[0m\u001b[1;33m,\u001b[0m \u001b[0mX_test\u001b[0m\u001b[1;33m)\u001b[0m\u001b[1;33m\u001b[0m\u001b[1;33m\u001b[0m\u001b[0m\n\u001b[0;32m    590\u001b[0m     \u001b[1;32melse\u001b[0m\u001b[1;33m:\u001b[0m\u001b[1;33m\u001b[0m\u001b[1;33m\u001b[0m\u001b[0m\n\u001b[1;32m--> 591\u001b[1;33m         \u001b[0mscores\u001b[0m \u001b[1;33m=\u001b[0m \u001b[0mscorer\u001b[0m\u001b[1;33m(\u001b[0m\u001b[0mestimator\u001b[0m\u001b[1;33m,\u001b[0m \u001b[0mX_test\u001b[0m\u001b[1;33m,\u001b[0m \u001b[0my_test\u001b[0m\u001b[1;33m)\u001b[0m\u001b[1;33m\u001b[0m\u001b[1;33m\u001b[0m\u001b[0m\n\u001b[0m\u001b[0;32m    592\u001b[0m \u001b[1;33m\u001b[0m\u001b[0m\n\u001b[0;32m    593\u001b[0m     error_msg = (\"scoring must return a number, got %s (%s) \"\n",
      "\u001b[1;32m~\\Anaconda3\\lib\\site-packages\\sklearn\\metrics\\_scorer.py\u001b[0m in \u001b[0;36m__call__\u001b[1;34m(self, estimator, *args, **kwargs)\u001b[0m\n\u001b[0;32m     87\u001b[0m                                       *args, **kwargs)\n\u001b[0;32m     88\u001b[0m             \u001b[1;32melse\u001b[0m\u001b[1;33m:\u001b[0m\u001b[1;33m\u001b[0m\u001b[1;33m\u001b[0m\u001b[0m\n\u001b[1;32m---> 89\u001b[1;33m                 \u001b[0mscore\u001b[0m \u001b[1;33m=\u001b[0m \u001b[0mscorer\u001b[0m\u001b[1;33m(\u001b[0m\u001b[0mestimator\u001b[0m\u001b[1;33m,\u001b[0m \u001b[1;33m*\u001b[0m\u001b[0margs\u001b[0m\u001b[1;33m,\u001b[0m \u001b[1;33m**\u001b[0m\u001b[0mkwargs\u001b[0m\u001b[1;33m)\u001b[0m\u001b[1;33m\u001b[0m\u001b[1;33m\u001b[0m\u001b[0m\n\u001b[0m\u001b[0;32m     90\u001b[0m             \u001b[0mscores\u001b[0m\u001b[1;33m[\u001b[0m\u001b[0mname\u001b[0m\u001b[1;33m]\u001b[0m \u001b[1;33m=\u001b[0m \u001b[0mscore\u001b[0m\u001b[1;33m\u001b[0m\u001b[1;33m\u001b[0m\u001b[0m\n\u001b[0;32m     91\u001b[0m         \u001b[1;32mreturn\u001b[0m \u001b[0mscores\u001b[0m\u001b[1;33m\u001b[0m\u001b[1;33m\u001b[0m\u001b[0m\n",
      "\u001b[1;32m<ipython-input-99-17d88df5f99f>\u001b[0m in \u001b[0;36mauc_roc_custom2\u001b[1;34m(clf, X, Y)\u001b[0m\n\u001b[0;32m      8\u001b[0m         \u001b[0mX_cat\u001b[0m \u001b[1;33m=\u001b[0m \u001b[0mX\u001b[0m\u001b[1;33m[\u001b[0m\u001b[0mX\u001b[0m\u001b[1;33m[\u001b[0m\u001b[1;33m:\u001b[0m\u001b[1;33m,\u001b[0m\u001b[0mcol_number\u001b[0m\u001b[1;33m]\u001b[0m\u001b[1;33m==\u001b[0m\u001b[1;36m1\u001b[0m\u001b[1;33m,\u001b[0m\u001b[1;33m:\u001b[0m\u001b[1;33m]\u001b[0m\u001b[1;33m\u001b[0m\u001b[1;33m\u001b[0m\u001b[0m\n\u001b[0;32m      9\u001b[0m         \u001b[0mY_cat\u001b[0m \u001b[1;33m=\u001b[0m \u001b[0mY\u001b[0m\u001b[1;33m[\u001b[0m\u001b[0mX\u001b[0m\u001b[1;33m[\u001b[0m\u001b[1;33m:\u001b[0m\u001b[1;33m,\u001b[0m\u001b[0mcol_number\u001b[0m\u001b[1;33m]\u001b[0m\u001b[1;33m==\u001b[0m\u001b[1;36m1\u001b[0m\u001b[1;33m]\u001b[0m \u001b[1;31m# Почему-то для y нужен одномерный вектор...\u001b[0m\u001b[1;33m\u001b[0m\u001b[1;33m\u001b[0m\u001b[0m\n\u001b[1;32m---> 10\u001b[1;33m         \u001b[0mY_pred_proba\u001b[0m \u001b[1;33m=\u001b[0m \u001b[0mclf\u001b[0m\u001b[1;33m.\u001b[0m\u001b[0mpredict_proba\u001b[0m\u001b[1;33m(\u001b[0m\u001b[0mX_cat\u001b[0m\u001b[1;33m)\u001b[0m\u001b[1;33m\u001b[0m\u001b[1;33m\u001b[0m\u001b[0m\n\u001b[0m\u001b[0;32m     11\u001b[0m         \u001b[0mscore\u001b[0m\u001b[1;33m.\u001b[0m\u001b[0mappend\u001b[0m\u001b[1;33m(\u001b[0m\u001b[0mroc_auc_score\u001b[0m\u001b[1;33m(\u001b[0m\u001b[0mY_cat\u001b[0m\u001b[1;33m,\u001b[0m\u001b[0mY_pred_proba\u001b[0m\u001b[1;33m[\u001b[0m\u001b[1;33m:\u001b[0m\u001b[1;33m,\u001b[0m\u001b[1;36m1\u001b[0m\u001b[1;33m]\u001b[0m\u001b[1;33m)\u001b[0m\u001b[1;33m)\u001b[0m\u001b[1;33m\u001b[0m\u001b[1;33m\u001b[0m\u001b[0m\n\u001b[0;32m     12\u001b[0m     \u001b[1;32mreturn\u001b[0m \u001b[0mnp\u001b[0m\u001b[1;33m.\u001b[0m\u001b[0mmean\u001b[0m\u001b[1;33m(\u001b[0m\u001b[0mscore\u001b[0m\u001b[1;33m)\u001b[0m\u001b[1;33m\u001b[0m\u001b[1;33m\u001b[0m\u001b[0m\n",
      "\u001b[1;31mAttributeError\u001b[0m: 'LGBMRegressor' object has no attribute 'predict_proba'"
     ]
    }
   ],
   "source": [
    "start_time = time.time()\n",
    "optimizer = model_selection.GridSearchCV(lgbm_model, param_grid, cv=cv, scoring=auc_roc_custom2)\n",
    "optimizer.fit(X_df.to_numpy(), Y_df.values.ravel()) # LGBM не позволяет кириллицу в названиях колонок, поэтому передаю np array\n",
    "t = time.time() - start_time\n",
    "print('Среднее время обучения 1 модели = ', t/(combination*cv))"
   ]
  },
  {
   "cell_type": "code",
   "execution_count": null,
   "metadata": {},
   "outputs": [],
   "source": [
    "save_result('LGB train', optimizer, X_df, Y_df)"
   ]
  },
  {
   "cell_type": "code",
   "execution_count": null,
   "metadata": {},
   "outputs": [],
   "source": [
    "save_result('LGB val', optimizer, Xval_df, Yval_df)"
   ]
  },
  {
   "cell_type": "code",
   "execution_count": null,
   "metadata": {},
   "outputs": [],
   "source": [
    "print_score_category_coded(optimizer.best_estimator_, Xval_df, Yval_df)"
   ]
  },
  {
   "cell_type": "code",
   "execution_count": null,
   "metadata": {},
   "outputs": [],
   "source": []
  },
  {
   "cell_type": "code",
   "execution_count": null,
   "metadata": {},
   "outputs": [],
   "source": []
  },
  {
   "cell_type": "code",
   "execution_count": null,
   "metadata": {},
   "outputs": [],
   "source": []
  },
  {
   "cell_type": "code",
   "execution_count": null,
   "metadata": {},
   "outputs": [],
   "source": []
  },
  {
   "cell_type": "code",
   "execution_count": null,
   "metadata": {},
   "outputs": [],
   "source": []
  },
  {
   "cell_type": "code",
   "execution_count": null,
   "metadata": {},
   "outputs": [],
   "source": []
  },
  {
   "cell_type": "code",
   "execution_count": null,
   "metadata": {},
   "outputs": [],
   "source": []
  },
  {
   "cell_type": "code",
   "execution_count": null,
   "metadata": {},
   "outputs": [],
   "source": []
  },
  {
   "cell_type": "markdown",
   "metadata": {},
   "source": [
    "# Черновик"
   ]
  },
  {
   "cell_type": "code",
   "execution_count": 67,
   "metadata": {},
   "outputs": [],
   "source": [
    "def digits_seq8_11(х):    \n",
    "    pattern = \"...9..........?.?.?.?.?.?.?.?.?.?.?.?\" # ищем ДЕВЯТКУ и её окресность: 3 символа перед, 9*2 символов после (чтобы ловить такие варианты: 8и9и4и0и8и1и5и7и6и9и2) + 3 символа про запас\n",
    "    for seq in re.findall(pattern, х):\n",
    "        print(seq)\n",
    "        digits = re.findall('[0-9]', seq) # вытаскиваем все цифры из найденной комбинации\n",
    "        number = ''.join(digits)\n",
    "        print(number)\n",
    "        ln_number = len(number) # Определили длину последовательности\n",
    "        if (8<=ln_number) and (ln_number<=11): # 8,потому что бывают такие примеры: проживания!/ 89о93999oo8\n",
    "            return 1"
   ]
  },
  {
   "cell_type": "code",
   "execution_count": 84,
   "metadata": {},
   "outputs": [],
   "source": [
    "def digits_seq6_7(x):    \n",
    "    x = x.translate(str.maketrans('', '', string.punctuation)) #очистка от всех знаков пунктуации \n",
    "    pattern = '[0-9][0-9][0-9][0-9][0-9][0-9][0-9]?'\n",
    "    if re.findall(pattern, x)!=[]:\n",
    "        return 1          \n",
    "    else:\n",
    "        return 0"
   ]
  },
  {
   "cell_type": "code",
   "execution_count": 87,
   "metadata": {},
   "outputs": [],
   "source": [
    "s =  'дополнительный номер: 4-800-323'"
   ]
  },
  {
   "cell_type": "code",
   "execution_count": 88,
   "metadata": {},
   "outputs": [
    {
     "data": {
      "text/plain": [
       "1"
      ]
     },
     "execution_count": 88,
     "metadata": {},
     "output_type": "execute_result"
    }
   ],
   "source": [
    "digits_seq6_7(s)"
   ]
  },
  {
   "cell_type": "code",
   "execution_count": null,
   "metadata": {},
   "outputs": [],
   "source": []
  },
  {
   "cell_type": "code",
   "execution_count": null,
   "metadata": {},
   "outputs": [],
   "source": []
  },
  {
   "cell_type": "code",
   "execution_count": null,
   "metadata": {},
   "outputs": [],
   "source": []
  },
  {
   "cell_type": "code",
   "execution_count": null,
   "metadata": {},
   "outputs": [],
   "source": []
  },
  {
   "cell_type": "code",
   "execution_count": null,
   "metadata": {},
   "outputs": [],
   "source": []
  },
  {
   "cell_type": "code",
   "execution_count": null,
   "metadata": {},
   "outputs": [],
   "source": []
  },
  {
   "cell_type": "code",
   "execution_count": null,
   "metadata": {},
   "outputs": [],
   "source": []
  },
  {
   "cell_type": "code",
   "execution_count": null,
   "metadata": {},
   "outputs": [],
   "source": []
  },
  {
   "cell_type": "code",
   "execution_count": null,
   "metadata": {},
   "outputs": [],
   "source": []
  },
  {
   "cell_type": "code",
   "execution_count": null,
   "metadata": {},
   "outputs": [],
   "source": []
  },
  {
   "cell_type": "code",
   "execution_count": null,
   "metadata": {},
   "outputs": [],
   "source": []
  },
  {
   "cell_type": "code",
   "execution_count": null,
   "metadata": {},
   "outputs": [],
   "source": []
  },
  {
   "cell_type": "code",
   "execution_count": null,
   "metadata": {},
   "outputs": [],
   "source": []
  },
  {
   "cell_type": "code",
   "execution_count": null,
   "metadata": {},
   "outputs": [],
   "source": []
  },
  {
   "cell_type": "code",
   "execution_count": null,
   "metadata": {},
   "outputs": [],
   "source": []
  }
 ],
 "metadata": {
  "kernelspec": {
   "display_name": "Python 3",
   "language": "python",
   "name": "python3"
  },
  "language_info": {
   "codemirror_mode": {
    "name": "ipython",
    "version": 3
   },
   "file_extension": ".py",
   "mimetype": "text/x-python",
   "name": "python",
   "nbconvert_exporter": "python",
   "pygments_lexer": "ipython3",
   "version": "3.7.7"
  }
 },
 "nbformat": 4,
 "nbformat_minor": 4
}
